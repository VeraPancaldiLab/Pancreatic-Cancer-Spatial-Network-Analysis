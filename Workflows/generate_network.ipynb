{
 "cells": [
  {
   "cell_type": "markdown",
   "metadata": {},
   "source": [
    "# Load packages"
   ]
  },
  {
   "cell_type": "code",
   "execution_count": 15,
   "metadata": {},
   "outputs": [],
   "source": [
    "import numpy as np\n",
    "import pandas as pd\n",
    "import matplotlib.pyplot as plt\n",
    "import os\n",
    "from pathlib import Path\n",
    "from PIL import Image\n",
    "Image.MAX_IMAGE_PIXELS = 1000000000 \n",
    "from PIL import Image, ImageOps\n",
    "import fcsparser\n",
    "from os import listdir\n",
    "from os.path import isfile, join\n",
    "import sys\n",
    "sys.path.extend(['../../mosna/'])\n",
    "import seaborn as sns\n",
    "from time import time\n",
    "import copy\n",
    "from skimage import color\n",
    "import matplotlib as mpl\n",
    "import napari\n",
    "from sklearn.preprocessing import StandardScaler\n",
    "from sklearn.neighbors import KNeighborsClassifier\n",
    "from sklearn.svm import SVC, LinearSVC\n",
    "from sklearn.metrics import accuracy_score\n",
    "from sklearn.model_selection import cross_validate, GridSearchCV, RandomizedSearchCV\n",
    "from scipy.stats import loguniform\n",
    "import umap\n",
    "import hdbscan\n",
    "from sklearn.cluster import OPTICS, cluster_optics_dbscan\n",
    "from skimage import io\n",
    "from scipy.stats import ttest_ind, mannwhitneyu, ks_2samp \n",
    "import glob\n",
    "import re\n",
    "import mosna\n",
    "from tysserand import tysserand as ty"
   ]
  },
  {
   "cell_type": "code",
   "execution_count": 16,
   "metadata": {},
   "outputs": [],
   "source": [
    "import numpy as np\n",
    "import pandas as pd\n",
    "import matplotlib.pyplot as plt\n",
    "import seaborn as sns\n",
    "import os\n",
    "from copy import deepcopy\n",
    "from sklearn.utils import shuffle\n",
    "from tqdm import tqdm\n",
    "\n",
    "\n",
    "############ Make test networks ############\n",
    "\n",
    "def make_triangonal_net():\n",
    "    \"\"\"\n",
    "    Make a triangonal network.\n",
    "    \"\"\"\n",
    "    dict_nodes = {'x': [1,3,2],\n",
    "                  'y': [2,2,1],\n",
    "                  'a': [1,0,0],\n",
    "                  'b': [0,1,0],\n",
    "                  'c': [0,0,1]}\n",
    "    nodes = pd.DataFrame.from_dict(dict_nodes)\n",
    "    \n",
    "    data_edges = [[0,1],\n",
    "                  [1,2],\n",
    "                  [2,0]]\n",
    "    edges = pd.DataFrame(data_edges, columns=['source','target'])\n",
    "    \n",
    "    return nodes, edges\n",
    "\n",
    "def make_trigonal_net():\n",
    "    \"\"\"\n",
    "    Make a trigonal network.\n",
    "    \"\"\"\n",
    "    dict_nodes = {'x': [1,3,2,0,4,2],\n",
    "                  'y': [2,2,1,3,3,0],\n",
    "                  'a': [1,0,0,1,0,0],\n",
    "                  'b': [0,1,0,0,1,0],\n",
    "                  'c': [0,0,1,0,0,1]}\n",
    "    nodes = pd.DataFrame.from_dict(dict_nodes)\n",
    "    \n",
    "    data_edges = [[0,1],\n",
    "                  [1,2],\n",
    "                  [2,0],\n",
    "                  [0,3],\n",
    "                  [1,4],\n",
    "                  [2,5]]\n",
    "    edges = pd.DataFrame(data_edges, columns=['source','target'])\n",
    "    \n",
    "    return nodes, edges\n",
    "\n",
    "def make_P_net():\n",
    "    \"\"\"\n",
    "    Make a P-shaped network.\n",
    "    \"\"\"\n",
    "    dict_nodes = {'x': [0,0,0,0,1,1],\n",
    "                  'y': [0,1,2,3,3,2],\n",
    "                  'a': [1,0,0,0,0,0],\n",
    "                  'b': [0,0,0,0,1,0],\n",
    "                  'c': [0,1,1,1,0,1]}\n",
    "    nodes = pd.DataFrame.from_dict(dict_nodes)\n",
    "    \n",
    "    data_edges = [[0,1],\n",
    "                  [1,2],\n",
    "                  [2,3],\n",
    "                  [3,4],\n",
    "                  [4,5],\n",
    "                  [5,2]]\n",
    "    edges = pd.DataFrame(data_edges, columns=['source','target'])\n",
    "    \n",
    "    return nodes, edges\n",
    "\n",
    "def make_high_assort_net():\n",
    "    \"\"\"\n",
    "    Make a highly assortative network.\n",
    "    \"\"\"\n",
    "    dict_nodes = {'x': np.arange(12).astype(int),\n",
    "                  'y': np.zeros(12).astype(int),\n",
    "                  'a': [1] * 4 + [0] * 8,\n",
    "                  'b': [0] * 4 + [1] * 4 + [0] * 4,\n",
    "                  'c': [0] * 8 + [1] * 4}\n",
    "    nodes = pd.DataFrame.from_dict(dict_nodes)\n",
    "    \n",
    "    edges_block = np.vstack((np.arange(3), np.arange(3) +1)).T\n",
    "    data_edges = np.vstack((edges_block, edges_block + 4, edges_block + 8))\n",
    "    edges = pd.DataFrame(data_edges, columns=['source','target'])\n",
    "    \n",
    "    return nodes, edges\n",
    "\n",
    "def make_high_disassort_net():\n",
    "    \"\"\"\n",
    "    Make a highly dissassortative network.\n",
    "    \"\"\"\n",
    "    dict_nodes = {'x': [1,2,3,4,4,4,3,2,1,0,0,0],\n",
    "                  'y': [0,0,0,1,2,3,4,4,4,3,2,1],\n",
    "                  'a': [1,0,0] * 4,\n",
    "                  'b': [0,1,0] * 4,\n",
    "                  'c': [0,0,1] * 4}\n",
    "    nodes = pd.DataFrame.from_dict(dict_nodes)\n",
    "    \n",
    "    data_edges = np.vstack((np.arange(12), np.roll(np.arange(12), -1))).T\n",
    "    edges = pd.DataFrame(data_edges, columns=['source','target'])\n",
    "    \n",
    "    return nodes, edges\n",
    "\n",
    "def make_random_graph_2libs(nb_nodes=100, p_connect=0.1, attributes=['a', 'b', 'c'], multi_mod=False):\n",
    "    import networkx as nx\n",
    "    # initialize the network\n",
    "    G = nx.fast_gnp_random_graph(nb_nodes, p_connect, directed=False)\n",
    "    pos = nx.kamada_kawai_layout(G)\n",
    "    nodes = pd.DataFrame.from_dict(pos, orient='index', columns=['x','y'])\n",
    "    edges = pd.DataFrame(list(G.edges), columns=['source', 'target'])\n",
    "\n",
    "    # set attributes\n",
    "    if multi_mod:\n",
    "        nodes_class = np.random.randint(0, 2, size=(nb_nodes, len(attributes))).astype(bool)\n",
    "        nodes = nodes.join(pd.DataFrame(nodes_class, index=nodes.index, columns=attributes))\n",
    "    else:\n",
    "        nodes_class = np.random.choice(attributes, nb_nodes)\n",
    "        nodes = nodes.join(pd.DataFrame(nodes_class, index=nodes.index, columns=['nodes_class']))\n",
    "        nodes = nodes.join(pd.get_dummies(nodes['nodes_class']))\n",
    "\n",
    "    if multi_mod:\n",
    "        for col in attributes:\n",
    "        #     nx.set_node_attributes(G, df_nodes[col].to_dict(), col.replace('+','AND')) # only for glm extension file\n",
    "            nx.set_node_attributes(G, nodes[col].to_dict(), col)\n",
    "    else:\n",
    "        nx.set_node_attributes(G, nodes['nodes_class'].to_dict(), 'nodes_class')\n",
    "    \n",
    "    return nodes, edges, G\n",
    "\n",
    "############ Assortativity ############\n",
    "\n",
    "def count_edges_undirected(nodes, edges, attributes):\n",
    "    \"\"\"Compute the count of edges whose end nodes correspond to given attributes.\n",
    "    \n",
    "    Parameters\n",
    "    ----------\n",
    "    nodes : dataframe\n",
    "        Attributes of all nodes\n",
    "    edges : dataframe\n",
    "        Edges between nodes given by their index\n",
    "    attributes: list\n",
    "        The attributes of nodes whose edges are selected\n",
    "        \n",
    "    Returns\n",
    "    -------\n",
    "    count : int\n",
    "       Count of edges\n",
    "    \"\"\"\n",
    "    \n",
    "    pairs = np.logical_or(np.logical_and(nodes.loc[edges['source'], attributes[0]].values, nodes.loc[edges['target'], attributes[1]].values),\n",
    "                          np.logical_and(nodes.loc[edges['target'], attributes[0]].values, nodes.loc[edges['source'], attributes[1]].values))\n",
    "    count = pairs.sum()\n",
    "    \n",
    "    return count\n",
    "\n",
    "def count_edges_directed(nodes, edges, attributes):\n",
    "    \"\"\"Compute the count of edges whose end nodes correspond to given attributes.\n",
    "    \n",
    "    Parameters\n",
    "    ----------\n",
    "    nodes : dataframe\n",
    "        Attributes of all nodes\n",
    "    edges : dataframe\n",
    "        Edges between nodes given by their index\n",
    "    attributes: list\n",
    "        The attributes of nodes whose edges are selected\n",
    "        \n",
    "    Returns\n",
    "    -------\n",
    "    count : int\n",
    "       Count of edges\n",
    "    \"\"\"\n",
    "    \n",
    "    pairs = np.logical_and(nodes.loc[edges['source'], attributes[0]].values, nodes.loc[edges['target'], attributes[1]].values)\n",
    "    count = pairs.sum()\n",
    "    \n",
    "    return count\n",
    "\n",
    "def mixing_matrix(nodes, edges, attributes, normalized=True, double_diag=True):\n",
    "    \"\"\"Compute the mixing matrix of a network described by its `nodes` and `edges`.\n",
    "    \n",
    "    Parameters\n",
    "    ----------\n",
    "    nodes : dataframe\n",
    "        Attributes of all nodes\n",
    "    edges : dataframe\n",
    "        Edges between nodes given by their index\n",
    "    attributes: list\n",
    "        Categorical attributes considered in the mixing matrix\n",
    "    normalized : bool (default=True)\n",
    "        Return counts if False or probabilities if True.\n",
    "    double_diag : bool (default=True)\n",
    "        If True elements of the diagonal are doubled like in NetworkX or iGraph \n",
    "       \n",
    "    Returns\n",
    "    -------\n",
    "    mixmat : array\n",
    "       Mixing matrix\n",
    "    \"\"\"\n",
    "    \n",
    "    mixmat = np.zeros((len(attributes), len(attributes)))\n",
    "\n",
    "    for i in range(len(attributes)):\n",
    "        for j in range(i+1):\n",
    "            mixmat[i, j] = count_edges_undirected(nodes, edges, attributes=[attributes[i],attributes[j]])\n",
    "            mixmat[j, i] = mixmat[i, j]\n",
    "        \n",
    "    if double_diag:\n",
    "        for i in range(len(attributes)):\n",
    "            mixmat[i, i] += mixmat[i, i]\n",
    "            \n",
    "    if normalized:\n",
    "        mixmat = mixmat / mixmat.sum()\n",
    "    \n",
    "    return mixmat\n",
    "\n",
    "# NetworkX code:\n",
    "def attribute_ac(M):\n",
    "    \"\"\"Compute assortativity for attribute matrix M.\n",
    "\n",
    "    Parameters\n",
    "    ----------\n",
    "    M : numpy array or matrix\n",
    "        Attribute mixing matrix.\n",
    "\n",
    "    Notes\n",
    "    -----\n",
    "    This computes Eq. (2) in Ref. [1]_ , (trace(e)-sum(e^2))/(1-sum(e^2)),\n",
    "    where e is the joint probability distribution (mixing matrix)\n",
    "    of the specified attribute.\n",
    "\n",
    "    References\n",
    "    ----------\n",
    "    .. [1] M. E. J. Newman, Mixing patterns in networks,\n",
    "       Physical Review E, 67 026126, 2003\n",
    "    \"\"\"\n",
    "    try:\n",
    "        import numpy\n",
    "    except ImportError:\n",
    "        raise ImportError(\n",
    "            \"attribute_assortativity requires NumPy: http://scipy.org/ \")\n",
    "    if M.sum() != 1.0:\n",
    "        M = M / float(M.sum())\n",
    "    M = numpy.asmatrix(M)\n",
    "    s = (M * M).sum()\n",
    "    t = M.trace()\n",
    "    r = (t - s) / (1 - s)\n",
    "    return float(r)\n",
    "\n",
    "def mixmat_to_df(mixmat, attributes):\n",
    "    \"\"\"\n",
    "    Make a dataframe of a mixing matrix.\n",
    "    \"\"\"\n",
    "    return pd.DataFrame(mixmat, columns=attributes, index=attributes)\n",
    "\n",
    "def mixmat_to_columns(mixmat):\n",
    "    \"\"\"\n",
    "    Flattens a mixing matrix taking only elements of the lower triangle and diagonal.\n",
    "    To revert this use `series_to_mixmat`.\n",
    "    \"\"\"\n",
    "    N = mixmat.shape[0]\n",
    "    val = []\n",
    "    for i in range(N):\n",
    "        for j in range(i+1):\n",
    "            val.append(mixmat[i,j])\n",
    "    return val\n",
    "\n",
    "def series_to_mixmat(series, medfix=' - ', discard=' Z'):\n",
    "    \"\"\"\n",
    "    Convert a 1D pandas series into a 2D dataframe.\n",
    "    To revert this use `mixmat_to_columns`.\n",
    "    \"\"\"\n",
    "    N = series.size\n",
    "    combi = [[x.split(medfix)[0].replace(discard, ''), x.split(medfix)[1].replace(discard, '')] for x in series.index]\n",
    "    # get unique elements of the list of mists\n",
    "    from itertools import chain \n",
    "    uniq = [*{*chain.from_iterable(combi)}]\n",
    "    mat = pd.DataFrame(data=None, index=uniq, columns=uniq)\n",
    "    for i in series.index:\n",
    "        x = i.split(medfix)[0].replace(discard, '')\n",
    "        y = i.split(medfix)[1].replace(discard, '')\n",
    "        val = series[i]\n",
    "        mat.loc[x, y] = val\n",
    "        mat.loc[y, x] = val\n",
    "    return mat\n",
    "\n",
    "def attributes_pairs(attributes, prefix='', medfix=' - ', suffix=''):\n",
    "    \"\"\"\n",
    "    Make a list of unique pairs of attributes.\n",
    "    Convenient to make the names of elements of the mixing matrix \n",
    "    that is flattened.\n",
    "    \"\"\"\n",
    "    N = len(attributes)\n",
    "    col = []\n",
    "    for i in range(N):\n",
    "        for j in range(i+1):\n",
    "            col.append(prefix + attributes[i] + medfix + attributes[j] + suffix)\n",
    "    return col\n",
    "\n",
    "def core_rand_mixmat(nodes, edges, attributes):\n",
    "    \"\"\"\n",
    "    Compute the mixing matrix of a network after nodes' attributes\n",
    "    are randomized once.\n",
    "    \n",
    "    Parameters\n",
    "    ----------\n",
    "    nodes : dataframe\n",
    "        Attributes of all nodes.\n",
    "    edges : dataframe\n",
    "        Edges between nodes given by their index.\n",
    "    attributes: list\n",
    "        Categorical attributes considered in the mixing matrix.\n",
    "       \n",
    "    Returns\n",
    "    -------\n",
    "    mixmat_rand : array\n",
    "       Mmixing matrix of the randomized network.\n",
    "    \"\"\"\n",
    "    nodes_rand = deepcopy(nodes)\n",
    "    nodes_rand[attributes] = shuffle(nodes_rand[attributes].values)\n",
    "    mixmat_rand = mixing_matrix(nodes_rand, edges, attributes)\n",
    "    return mixmat_rand\n",
    "\n",
    "def randomized_mixmat(nodes, edges, attributes, n_shuffle=50, parallel='max', memory_limit='50GB'):\n",
    "    \"\"\"Randomize several times a network by shuffling the nodes' attributes.\n",
    "    Then compute the mixing matrix and the corresponding assortativity coefficient.\n",
    "    \n",
    "    Parameters\n",
    "    ----------\n",
    "    nodes : dataframe\n",
    "        Attributes of all nodes.\n",
    "    edges : dataframe\n",
    "        Edges between nodes given by their index.\n",
    "    attributes: list\n",
    "        Categorical attributes considered in the mixing matrix.\n",
    "    n_shuffle : int (default=50)\n",
    "        Number of attributes permutations.\n",
    "    parallel : bool, int or str (default=\"max\")\n",
    "        How parallelization is performed.\n",
    "        If False, no parallelization is done.\n",
    "        If int, use this number of cores.\n",
    "        If 'max', use the maximum number of cores.\n",
    "        If 'max-1', use the max of cores minus 1.\n",
    "       \n",
    "    Returns\n",
    "    -------\n",
    "    mixmat_rand : array (n_shuffle x n_attributes x n_attributes)\n",
    "       Mixing matrices of each randomized version of the network\n",
    "    assort_rand : array  of size n_shuffle\n",
    "       Assortativity coefficients of each randomized version of the network\n",
    "    \"\"\"\n",
    "    \n",
    "    mixmat_rand = np.zeros((n_shuffle, len(attributes), len(attributes)))\n",
    "    assort_rand = np.zeros(n_shuffle)\n",
    "    \n",
    "    if parallel is False:\n",
    "        for i in tqdm(range(n_shuffle), desc=\"randomization\"):\n",
    "            mixmat_rand[i] = core_rand_mixmat(nodes, edges, attributes)\n",
    "            assort_rand[i] = attribute_ac(mixmat_rand[i])\n",
    "    else:\n",
    "        from multiprocessing import cpu_count\n",
    "        from dask.distributed import Client, LocalCluster\n",
    "        from dask import delayed\n",
    "        \n",
    "        # select the right number of cores\n",
    "        nb_cores = cpu_count()\n",
    "        if isinstance(parallel, int):\n",
    "            use_cores = min(parallel, nb_cores)\n",
    "        elif parallel == 'max-1':\n",
    "            use_cores = nb_cores - 1\n",
    "        elif parallel == 'max':\n",
    "            use_cores = nb_cores\n",
    "        # set up cluster and workers\n",
    "        cluster = LocalCluster(n_workers=use_cores, \n",
    "                               threads_per_worker=1,\n",
    "                               memory_limit=memory_limit)\n",
    "        client = Client(cluster)\n",
    "        \n",
    "        # store the matrices-to-be\n",
    "        mixmat_delayed = []\n",
    "        for i in range(n_shuffle):\n",
    "            mmd = delayed(core_rand_mixmat)(nodes, edges, attributes)\n",
    "            mixmat_delayed.append(mmd)\n",
    "        # evaluate the parallel computation and return is as a 3d array\n",
    "        mixmat_rand = delayed(np.array)(mixmat_delayed).compute()\n",
    "        # only the assortativity coeff is not parallelized\n",
    "        for i in range(n_shuffle):\n",
    "            assort_rand[i] = attribute_ac(mixmat_rand[i])\n",
    "        # close workers and cluster\n",
    "        client.close()\n",
    "        cluster.close()\n",
    "            \n",
    "    return mixmat_rand, assort_rand\n",
    "\n",
    "def zscore(mat, mat_rand, axis=0, return_stats=False):\n",
    "    rand_mean = mat_rand.mean(axis=axis)\n",
    "    rand_std = mat_rand.std(axis=axis)\n",
    "    zscore = (mat - rand_mean) / rand_std\n",
    "    if return_stats:\n",
    "        return rand_mean, rand_std, zscore\n",
    "    else:\n",
    "        return zscore\n",
    "    \n",
    "def select_pairs_from_coords(coords_ids, pairs, how='inner', return_selector=False):\n",
    "    \"\"\"\n",
    "    Select edges related to specific nodes.\n",
    "    \n",
    "    Parameters\n",
    "    ----------\n",
    "    coords_ids : array\n",
    "        Indices or ids of nodes.\n",
    "    pairs : array\n",
    "        Edges defined as pairs of nodes ids.\n",
    "    how : str (default='inner')\n",
    "        If 'inner', only edges that have both source and target \n",
    "        nodes in coords_ids are select. If 'outer', edges that \n",
    "        have at least a node in coords_ids are selected.\n",
    "    return_selector : bool (default=False)\n",
    "        If True, only the boolean mask is returned.\n",
    "    \n",
    "    Returns\n",
    "    -------\n",
    "    pairs_selected : array\n",
    "        Edges having nodes in coords_ids.\n",
    "    select : array\n",
    "        Boolean array to select latter on edges.\n",
    "    \n",
    "    Example\n",
    "    -------\n",
    "    >>> coords_ids = np.array([5, 6, 7])\n",
    "    >>> pairs = np.array([[1, 2],\n",
    "                          [3, 4],\n",
    "                          [5, 6],\n",
    "                          [7, 8]])\n",
    "    >>> select_pairs_from_coords(coords_ids, pairs, how='inner')\n",
    "    array([[5, 6]])\n",
    "    >>> select_pairs_from_coords(coords_ids, pairs, how='outer')\n",
    "    array([[5, 6],\n",
    "           [7, 8]])\n",
    "    \"\"\"\n",
    "    \n",
    "    select_source = np.in1d(pairs[:, 0], coords_ids)\n",
    "    select_target = np.in1d(pairs[:, 1], coords_ids)\n",
    "    if how == 'inner':\n",
    "        select = np.logical_and(select_source, select_target)\n",
    "    elif how == 'outer':\n",
    "        select = np.logical_or(select_source, select_target)\n",
    "    if return_selector:\n",
    "        return select\n",
    "    pairs_selected = pairs[select, :]\n",
    "    return pairs_selected\n",
    "\n",
    "def sample_assort_mixmat(nodes, edges, attributes, sample_id=None ,n_shuffle=50, \n",
    "                         parallel='max', memory_limit='50GB'):\n",
    "    \"\"\"\n",
    "    Computed z-scored assortativity and mixing matrix elements for \n",
    "    a network of a single sample.\n",
    "    \n",
    "    Parameters\n",
    "    ----------\n",
    "    nodes : dataframe\n",
    "        Attributes of all nodes.\n",
    "    edges : dataframe\n",
    "        Edges between nodes given by their index.\n",
    "    attributes: list\n",
    "        Categorical attributes considered in the mixing matrix.\n",
    "    sample_id : str\n",
    "        Name of the analyzed sample.\n",
    "    n_shuffle : int (default=50)\n",
    "        Number of attributes permutations.\n",
    "    parallel : bool, int or str (default=\"max\")\n",
    "        How parallelization is performed.\n",
    "        If False, no parallelization is done.\n",
    "        If int, use this number of cores.\n",
    "        If 'max', use the maximum number of cores.\n",
    "        If 'max-1', use the max of cores minus 1.\n",
    "    memory_limit : str (default='50GB')\n",
    "        Dask memory limit for parallelization.\n",
    "        \n",
    "    Returns\n",
    "    -------\n",
    "    sample_stats : dataframe\n",
    "        Network's statistics including total number of nodes, attributes proportions,\n",
    "        assortativity and mixing matrix elements, both raw and z-scored.\n",
    "    \"\"\"\n",
    "    \n",
    "    col_sample = (['id', '# total'] +\n",
    "                 ['% ' + x for x in attributes] +\n",
    "                 ['assort', 'assort MEAN', 'assort STD', 'assort Z'] +\n",
    "                 attributes_pairs(attributes, prefix='', medfix=' - ', suffix=' RAW') +\n",
    "                 attributes_pairs(attributes, prefix='', medfix=' - ', suffix=' MEAN') +\n",
    "                 attributes_pairs(attributes, prefix='', medfix=' - ', suffix=' STD') +\n",
    "                 attributes_pairs(attributes, prefix='', medfix=' - ', suffix=' Z'))\n",
    "    \n",
    "    if sample_id is None:\n",
    "        sample_id = 'None'\n",
    "    # Network statistics\n",
    "    mixmat = mixing_matrix(nodes, edges, attributes)\n",
    "    assort = attribute_ac(mixmat)\n",
    "\n",
    "    # ------ Randomization ------\n",
    "    print(f\"randomization\")\n",
    "    np.random.seed(0)\n",
    "    mixmat_rand, assort_rand = randomized_mixmat(nodes, edges, attributes, n_shuffle=n_shuffle, parallel=False)\n",
    "    mixmat_mean, mixmat_std, mixmat_zscore = zscore(mixmat, mixmat_rand, return_stats=True)\n",
    "    assort_mean, assort_std, assort_zscore = zscore(assort, assort_rand, return_stats=True)\n",
    "\n",
    "    # Reformat sample's network's statistics\n",
    "    nb_nodes = len(nodes)\n",
    "    sample_data = ([sample_id, nb_nodes] +\n",
    "                   [nodes[col].sum()/nb_nodes for col in attributes] +\n",
    "                   [assort, assort_mean, assort_std, assort_zscore] +\n",
    "                   mixmat_to_columns(mixmat) +\n",
    "                   mixmat_to_columns(mixmat_mean) +\n",
    "                   mixmat_to_columns(mixmat_std) +\n",
    "                   mixmat_to_columns(mixmat_zscore))\n",
    "    sample_stats = pd.DataFrame(data=sample_data, index=col_sample).T\n",
    "    return sample_stats\n",
    "\n",
    "def _select_nodes_edges_from_group(nodes, edges, group, groups):\n",
    "    \"\"\"\n",
    "    Select nodes and edges related to a given group of nodes.\n",
    "    \n",
    "    Parameters\n",
    "    ----------\n",
    "    nodes : dataframe\n",
    "        Attributes of all nodes.\n",
    "    edges : dataframe\n",
    "        Edges between nodes given by their index.\n",
    "    group: int or str\n",
    "        Group of interest. \n",
    "    groups: pd.Series\n",
    "        Group identifier of each node. \n",
    "    \n",
    "    Returns\n",
    "    ------\n",
    "    nodes_sel : dataframe\n",
    "        Nodes belonging to the group.\n",
    "    edges_sel : dataframe\n",
    "        Edges belonging to the group.\n",
    "    \"\"\"\n",
    "    select = groups == group\n",
    "    nodes_sel = nodes.loc[select, :]\n",
    "    nodes_ids = np.where(select)[0]\n",
    "    edges_selector = select_pairs_from_coords(nodes_ids, edges.values, return_selector=True)\n",
    "    edges_sel = edges.loc[edges_selector, :]\n",
    "    return nodes_sel, edges_sel\n",
    "    \n",
    "def batch_assort_mixmat(nodes, edges, attributes, groups, n_shuffle=50,\n",
    "                        parallel='max', memory_limit='50GB',\n",
    "                        save_intermediate_results=False, dir_save_interm='~'):\n",
    "    \"\"\"\n",
    "    Computed z-scored assortativity and mixing matrix elements for all\n",
    "    samples in a batch, cohort or other kind of groups.\n",
    "    \n",
    "    Parameters\n",
    "    ----------\n",
    "    nodes : dataframe\n",
    "        Attributes of all nodes.\n",
    "    edges : dataframe\n",
    "        Edges between nodes given by their index.\n",
    "    attributes: list\n",
    "        Categorical attributes considered in the mixing matrix.\n",
    "    groups: pd.Series\n",
    "        Group identifier of each node. \n",
    "        It can be a patient or sample id, chromosome number, etc...\n",
    "    n_shuffle : int (default=50)\n",
    "        Number of attributes permutations.\n",
    "    parallel : bool, int or str (default=\"max\")\n",
    "        How parallelization is performed.\n",
    "        If False, no parallelization is done.\n",
    "        If int, use this number of cores.\n",
    "        If 'max', use the maximum number of cores.\n",
    "        If 'max-1', use the max of cores minus 1.\n",
    "    memory_limit : str (default='50GB')\n",
    "        Dask memory limit for parallelization.\n",
    "    save_intermediate_results : bool (default=False)\n",
    "        If True network statistics are saved for each group.\n",
    "    dir_save_interm : str (default='~')\n",
    "        Directory where intermediate group network statistics are saved.\n",
    "        \n",
    "    Returns\n",
    "    -------\n",
    "    networks_stats : dataframe\n",
    "        Networks's statistics for all groups, including total number of nodes, \n",
    "        attributes proportions, assortativity and mixing matrix elements, \n",
    "        both raw and z-scored.\n",
    "    \n",
    "    Examples\n",
    "    --------\n",
    "    >>> nodes_high, edges_high = make_high_assort_net()\n",
    "    >>> nodes_low, edges_low = make_high_disassort_net()\n",
    "    >>> nodes = nodes_high.append(nodes_low, ignore_index=True)\n",
    "    >>> edges_low_shift = edges_low + nodes_high.shape[0]\n",
    "    >>> edges = edges_high.append(edges_low_shift)\n",
    "    >>> groups = pd.Series(['high'] * len(nodes_high) + ['low'] * len(nodes_low))\n",
    "    >>> net_stats = batch_assort_mixmat(nodes, edges, \n",
    "                                        attributes=['a', 'b', 'c'], \n",
    "                                        groups=groups, \n",
    "                                        parallel=False)\n",
    "\"\"\"\n",
    "    \n",
    "    if not isinstance(groups, pd.Series):\n",
    "        groups = pd.Series(groups).copy()\n",
    "    \n",
    "    groups_data = []\n",
    " \n",
    "    if parallel is False:\n",
    "        for group in tqdm(groups.unique(), desc='group'):\n",
    "            # select nodes and edges of a specific group\n",
    "            nodes_sel, edges_sel = _select_nodes_edges_from_group(nodes, edges, group, groups)\n",
    "            # compute network statistics\n",
    "            group_data = sample_assort_mixmat(nodes_sel, edges_sel, attributes, sample_id=group, \n",
    "                                              n_shuffle=n_shuffle, parallel=parallel, memory_limit=memory_limit)\n",
    "            if save_intermediate_results:\n",
    "                group_data.to_csv(os.path.join(dir_save_interm, 'network_statistics_group_{}.csv'.format(group)), \n",
    "                                  encoding='utf-8', \n",
    "                                  index=False)\n",
    "            groups_data.append(group_data)\n",
    "        networks_stats = pd.concat(groups_data, axis=0)\n",
    "    else:\n",
    "        from multiprocessing import cpu_count\n",
    "        from dask.distributed import Client, LocalCluster\n",
    "        from dask import delayed\n",
    "        \n",
    "        # select the right number of cores\n",
    "        nb_cores = cpu_count()\n",
    "        if isinstance(parallel, int):\n",
    "            use_cores = min(parallel, nb_cores)\n",
    "        elif parallel == 'max-1':\n",
    "            use_cores = nb_cores - 1\n",
    "        elif parallel == 'max':\n",
    "            use_cores = nb_cores\n",
    "        # set up cluster and workers\n",
    "        cluster = LocalCluster(n_workers=use_cores, \n",
    "                               threads_per_worker=1,\n",
    "                               memory_limit=memory_limit)\n",
    "        client = Client(cluster)\n",
    "        \n",
    "        for group in groups.unique():\n",
    "            # select nodes and edges of a specific group\n",
    "            nodes_edges_sel = delayed(_select_nodes_edges_from_group)(nodes, edges, group, groups)\n",
    "            # individual samples z-score stats are not parallelized over shuffling rounds\n",
    "            # because parallelization is already done over samples\n",
    "            group_data = delayed(sample_assort_mixmat)(nodes_edges_sel[0], nodes_edges_sel[1], attributes, sample_id=group, \n",
    "                                                       n_shuffle=n_shuffle, parallel=False) \n",
    "            groups_data.append(group_data)\n",
    "        # evaluate the parallel computation\n",
    "        networks_stats = delayed(pd.concat)(groups_data, axis=0, ignore_index=True).compute()\n",
    "    return networks_stats\n",
    "    \n",
    "############ Neighbors Aggegation Statistics ############\n",
    "\n",
    "def neighbors(pairs, n):\n",
    "    \"\"\"\n",
    "    Return the list of neighbors of a node in a network defined \n",
    "    by edges between pairs of nodes. \n",
    "    \n",
    "    Parameters\n",
    "    ----------\n",
    "    pairs : array_like\n",
    "        Pairs of nodes' id that define the network's edges.\n",
    "    n : int\n",
    "        The node for which we look for the neighbors.\n",
    "        \n",
    "    Returns\n",
    "    -------\n",
    "    neigh : array_like\n",
    "        The indices of neighboring nodes.\n",
    "    \"\"\"\n",
    "    \n",
    "    left_neigh = pairs[pairs[:,1] == n, 0]\n",
    "    right_neigh = pairs[pairs[:,0] == n, 1]\n",
    "    neigh = np.hstack( (left_neigh, right_neigh) ).flatten()\n",
    "    \n",
    "    return neigh\n",
    "\n",
    "def neighbors_k_order(pairs, n, order):\n",
    "    \"\"\"\n",
    "    Return the list of up the kth neighbors of a node \n",
    "    in a network defined by edges between pairs of nodes\n",
    "    \n",
    "    Parameters\n",
    "    ----------\n",
    "    pairs : array_like\n",
    "        Pairs of nodes' id that define the network's edges.\n",
    "    n : int\n",
    "        The node for which we look for the neighbors.\n",
    "    order : int\n",
    "        Max order of neighbors.\n",
    "        \n",
    "    Returns\n",
    "    -------\n",
    "    all_neigh : list\n",
    "        The list of lists of 1D array neighbor and the corresponding order\n",
    "    \n",
    "    \n",
    "    Examples\n",
    "    --------\n",
    "    >>> pairs = np.array([[0, 10],\n",
    "                        [0, 20],\n",
    "                        [0, 30],\n",
    "                        [10, 110],\n",
    "                        [10, 210],\n",
    "                        [10, 310],\n",
    "                        [20, 120],\n",
    "                        [20, 220],\n",
    "                        [20, 320],\n",
    "                        [30, 130],\n",
    "                        [30, 230],\n",
    "                        [30, 330],\n",
    "                        [10, 20],\n",
    "                        [20, 30],\n",
    "                        [30, 10],\n",
    "                        [310, 120],\n",
    "                        [320, 130],\n",
    "                        [330, 110]])\n",
    "    >>> neighbors_k_order(pairs, 0, 2)\n",
    "    [[array([0]), 0],\n",
    "     [array([10, 20, 30]), 1],\n",
    "     [array([110, 120, 130, 210, 220, 230, 310, 320, 330]), 2]]\n",
    "    \"\"\"\n",
    "    \n",
    "    # all_neigh stores all the unique neighbors and their oder\n",
    "    all_neigh = [[np.array([n]), 0]]\n",
    "    unique_neigh = np.array([n])\n",
    "    \n",
    "    for k in range(order):\n",
    "        # detected neighbor nodes at the previous order\n",
    "        last_neigh = all_neigh[k][0]\n",
    "        k_neigh = []\n",
    "        for node in last_neigh:\n",
    "            # aggregate arrays of neighbors for each previous order neighbor\n",
    "            neigh = np.unique(neighbors(pairs, node))\n",
    "            k_neigh.append(neigh)\n",
    "        # aggregate all unique kth order neighbors\n",
    "        if len(k_neigh) > 0:\n",
    "            k_unique_neigh = np.unique(np.concatenate(k_neigh, axis=0))\n",
    "            # select the kth order neighbors that have never been detected in previous orders\n",
    "            keep_neigh = np.in1d(k_unique_neigh, unique_neigh, invert=True)\n",
    "            k_unique_neigh = k_unique_neigh[keep_neigh]\n",
    "            # register the kth order unique neighbors along with their order\n",
    "            all_neigh.append([k_unique_neigh, k+1])\n",
    "            # update array of unique detected neighbors\n",
    "            unique_neigh = np.concatenate([unique_neigh, k_unique_neigh], axis=0)\n",
    "        else:\n",
    "            break\n",
    "        \n",
    "    return all_neigh\n",
    "\n",
    "def flatten_neighbors(all_neigh):\n",
    "    \"\"\"\n",
    "    Convert the list of neighbors 1D arrays with their order into\n",
    "    a single 1D array of neighbors.\n",
    "\n",
    "    Parameters\n",
    "    ----------\n",
    "    all_neigh : list\n",
    "        The list of lists of 1D array neighbor and the corresponding order.\n",
    "\n",
    "    Returns\n",
    "    -------\n",
    "    flat_neigh : array_like\n",
    "        The indices of neighboring nodes.\n",
    "        \n",
    "    Examples\n",
    "    --------\n",
    "    >>> all_neigh = [[np.array([0]), 0],\n",
    "                     [np.array([10, 20, 30]), 1],\n",
    "                     [np.array([110, 120, 130, 210, 220, 230, 310, 320, 330]), 2]]\n",
    "    >>> flatten_neighbors(all_neigh)\n",
    "    array([  0,  10,  20,  30, 110, 120, 130, 210, 220, 230, 310, 320, 330])\n",
    "        \n",
    "    Notes\n",
    "    -----\n",
    "    For future features it should return a 2D array of\n",
    "    nodes and their respective order.\n",
    "    \"\"\"\n",
    "    \n",
    "    list_neigh = []\n",
    "    for neigh, order in all_neigh:\n",
    "        list_neigh.append(neigh)\n",
    "    flat_neigh = np.concatenate(list_neigh, axis=0)\n",
    "\n",
    "    return flat_neigh\n",
    "\n",
    "def aggregate_k_neighbors(X, pairs, order=1, var_names=None, stat_funcs='default', stat_names='default', var_sep=' '):\n",
    "    \"\"\"\n",
    "    Compute the statistics on aggregated variables across\n",
    "    the k order neighbors of each node in a network.\n",
    "\n",
    "    Parameters\n",
    "    ----------\n",
    "    X : array_like\n",
    "        The data on which to compute statistics (mean, std, ...).\n",
    "    pairs : array_like\n",
    "        Pairs of nodes' id that define the network's edges.\n",
    "    order : int\n",
    "        Max order of neighbors.\n",
    "    var_names : list\n",
    "        Names of variables of X.\n",
    "    stat_funcs : str or list of functions\n",
    "        Statistics functions to use on aggregated data. If 'default' np.mean and np.std are use.\n",
    "        All functions are used with the `axis=0` argument.\n",
    "    stat_names : str or list of str\n",
    "        Names of the statistical functions used on aggregated data.\n",
    "        If 'default' 'mean' and 'std' are used.\n",
    "    var_sep : str\n",
    "        Separation between variables names and statistical functions names\n",
    "        Default is ' '.\n",
    "\n",
    "    Returns\n",
    "    -------\n",
    "    aggreg : dataframe\n",
    "        Neighbors Aggregation Statistics of X.\n",
    "        \n",
    "    Examples\n",
    "    --------\n",
    "    >>> x = np.arange(5)\n",
    "    >>> X = x[np.newaxis,:] + x[:,np.newaxis] * 10\n",
    "    >>> pairs = np.array([[0, 1],\n",
    "                          [2, 3],\n",
    "                          [3, 4]])\n",
    "    >>> aggreg = aggregate_k_neighbors(X, pairs, stat_funcs=[np.mean, np.max], stat_names=['mean', 'max'], var_sep=' - ')\n",
    "    >>> aggreg.values\n",
    "    array([[ 5.,  6.,  7.,  8.,  9., 10., 11., 12., 13., 14.],\n",
    "           [ 5.,  6.,  7.,  8.,  9., 10., 11., 12., 13., 14.],\n",
    "           [25., 26., 27., 28., 29., 30., 31., 32., 33., 34.],\n",
    "           [30., 31., 32., 33., 34., 40., 41., 42., 43., 44.],\n",
    "           [35., 36., 37., 38., 39., 40., 41., 42., 43., 44.]])\n",
    "    \"\"\"\n",
    "    \n",
    "    nb_obs = X.shape[0]\n",
    "    nb_var = X.shape[1]\n",
    "    if stat_funcs == 'default':\n",
    "        stat_funcs = [np.mean, np.std]\n",
    "        if stat_names == 'default':\n",
    "            stat_names = ['mean', 'std']\n",
    "    nb_funcs = len(stat_funcs)\n",
    "    aggreg = np.zeros((nb_obs, nb_var*nb_funcs))\n",
    "\n",
    "    for i in range(nb_obs):\n",
    "        all_neigh = neighbors_k_order(pairs, n=i, order=order)\n",
    "        neigh = flatten_neighbors(all_neigh)\n",
    "        for j, (stat_func, stat_name) in enumerate(zip(stat_funcs, stat_names)):\n",
    "            aggreg[i, j*nb_var : (j+1)*nb_var] = stat_func(X[neigh,:], axis=0)\n",
    "    \n",
    "    if var_names is None:\n",
    "        var_names = [str(i) for i in range(nb_var)]\n",
    "    columns = []\n",
    "    for stat_name in stat_names:\n",
    "        stat_str = var_sep + stat_name\n",
    "        columns = columns + [var + stat_str for var in var_names]\n",
    "    aggreg = pd.DataFrame(data=aggreg, columns=columns)\n",
    "    \n",
    "    return aggreg\n",
    "\n",
    "def make_cluster_cmap(labels, grey_pos='start'):\n",
    "    \"\"\"\n",
    "    Creates an appropriate colormap for a vector of cluster labels.\n",
    "    \n",
    "    Parameters\n",
    "    ----------\n",
    "    labels : array_like\n",
    "        The labels of multiple clustered points\n",
    "    grey_pos: str\n",
    "        Where to put the grey color for the noise\n",
    "    \n",
    "    Returns\n",
    "    -------\n",
    "    cmap : matplotlib colormap object\n",
    "        A correct colormap\n",
    "    \n",
    "    Examples\n",
    "    --------\n",
    "    >>> my_cmap = make_cluster_cmap(labels=np.array([-1,3,5,2,4,1,3,-1,4,2,5]))\n",
    "    \"\"\"\n",
    "    \n",
    "    from matplotlib.colors import ListedColormap\n",
    "    \n",
    "    if labels.max() < 9:\n",
    "        cmap = list(plt.get_cmap('tab10').colors)\n",
    "        if grey_pos == 'end':\n",
    "            cmap.append(cmap.pop(-3))\n",
    "        elif grey_pos == 'start':\n",
    "            cmap = [cmap.pop(-3)] + cmap\n",
    "        elif grey_pos == 'del':\n",
    "            del cmap[-3]\n",
    "    else:\n",
    "        cmap = list(plt.get_cmap('tab20').colors)\n",
    "        if grey_pos == 'end':\n",
    "            cmap.append(cmap.pop(-6))\n",
    "            cmap.append(cmap.pop(-6))\n",
    "        elif grey_pos == 'start':\n",
    "            cmap = [cmap.pop(-5)] + cmap\n",
    "            cmap = [cmap.pop(-5)] + cmap\n",
    "        elif grey_pos == 'del':\n",
    "            del cmap[-5]\n",
    "            del cmap[-5]\n",
    "    cmap = ListedColormap(cmap)\n",
    "    \n",
    "    return cmap"
   ]
  },
  {
   "cell_type": "markdown",
   "metadata": {},
   "source": [
    "## Load data"
   ]
  },
  {
   "cell_type": "code",
   "execution_count": 17,
   "metadata": {},
   "outputs": [],
   "source": [
    "data_path = '../Data/'\n",
    "\n",
    "data_files = [f for f in listdir(data_path) if isfile(join(data_path, f))]\n",
    "\n",
    "\n",
    "image_file = [f for f in data_files if re.match(r'.*\\.jpg', f)][0]\n",
    "\n",
    "coords_files = [f for f in data_files if re.match(r'.*\\.csv', f)]\n",
    "\n",
    "scale = .1\n"
   ]
  },
  {
   "cell_type": "markdown",
   "metadata": {},
   "source": [
    "# Generate network for layers"
   ]
  },
  {
   "cell_type": "code",
   "execution_count": 18,
   "metadata": {},
   "outputs": [
    {
     "name": "stdout",
     "output_type": "stream",
     "text": [
      "1\n",
      "2\n",
      "3\n",
      "4\n",
      "5\n"
     ]
    }
   ],
   "source": [
    "\n",
    "import fnmatch\n",
    "import os\n",
    "outputPath = '/home/mouneem/PNETS-NETS/Data/'\n",
    "data_path = '/home/mouneem/PNETS-NETS/Data/csv_levels/'\n",
    "\n",
    "layers = []\n",
    "for i in range(1,6):\n",
    "    print(i)\n",
    "    layers.append('Layer '+str(i))\n",
    "\n",
    "\n",
    "LayerFiles = {}\n",
    "\n",
    "for layer in layers:\n",
    "    LayerFiles[layer] = []\n",
    "\n",
    "\n",
    "for layer in layers:\n",
    "    for file in os.listdir(data_path):\n",
    "        if fnmatch.fnmatch(file, \"*\" + layer + \"*\"):\n",
    "            LayerFiles[layer].append(file)\n",
    "\n",
    " "
   ]
  },
  {
   "cell_type": "code",
   "execution_count": 25,
   "metadata": {},
   "outputs": [
    {
     "name": "stdout",
     "output_type": "stream",
     "text": [
      "NVA_21-003.IMMCORE.C1v1_18T044196-05-Z1-ImvessC1-4518.czi_Layer 1.csv\n"
     ]
    },
    {
     "name": "stderr",
     "output_type": "stream",
     "text": [
      "randomization: 100%|██████████| 10/10 [00:18<00:00,  1.82s/it]\n"
     ]
    },
    {
     "name": "stdout",
     "output_type": "stream",
     "text": [
      "NVA_21-003.IMMCORE.C1v1_15T052601-14-Z1-ImvessC1-4518.czi_Layer 1.csv\n"
     ]
    },
    {
     "name": "stderr",
     "output_type": "stream",
     "text": [
      "randomization: 100%|██████████| 10/10 [00:11<00:00,  1.19s/it]\n"
     ]
    },
    {
     "name": "stdout",
     "output_type": "stream",
     "text": [
      "NVA_21-003.IMMCORE.C1v1_16T013087-8-ImvessC1-4518.czi_Layer 1.csv\n"
     ]
    },
    {
     "name": "stderr",
     "output_type": "stream",
     "text": [
      "randomization: 100%|██████████| 10/10 [00:26<00:00,  2.63s/it]\n"
     ]
    },
    {
     "name": "stdout",
     "output_type": "stream",
     "text": [
      "NVA_21-003.IMMCORE.C2v1_17T004343-07-ImvessC2-4321.czi_Layer 1.csv\n"
     ]
    },
    {
     "name": "stderr",
     "output_type": "stream",
     "text": [
      "randomization: 100%|██████████| 10/10 [00:21<00:00,  2.19s/it]\n"
     ]
    },
    {
     "name": "stdout",
     "output_type": "stream",
     "text": [
      "NVA_21-003.IMMCORE.C1v1_18T054305-08-ImvessC1-4518.czi_Layer 1.csv\n"
     ]
    },
    {
     "name": "stderr",
     "output_type": "stream",
     "text": [
      "randomization: 100%|██████████| 10/10 [00:30<00:00,  3.01s/it]\n"
     ]
    },
    {
     "name": "stdout",
     "output_type": "stream",
     "text": [
      "NVA_21-003.IMMCORE.C1v1_17T033078-09-Z1-ImvessC1-4518.czi_Layer 1.csv\n"
     ]
    },
    {
     "name": "stderr",
     "output_type": "stream",
     "text": [
      "randomization: 100%|██████████| 10/10 [00:11<00:00,  1.14s/it]\n"
     ]
    },
    {
     "name": "stdout",
     "output_type": "stream",
     "text": [
      "NVA_21-003.IMMCORE.C2v1_18T020627-04-Z2-ImvessC2-4321.czi_Layer 1.csv\n"
     ]
    },
    {
     "name": "stderr",
     "output_type": "stream",
     "text": [
      "randomization: 100%|██████████| 10/10 [00:53<00:00,  5.35s/it]\n"
     ]
    },
    {
     "name": "stdout",
     "output_type": "stream",
     "text": [
      "NVA_21-003.IMMCORE.C1v1_18T020627-04-Z2-ImvessC1-4518.czi_Layer 1.csv\n"
     ]
    },
    {
     "name": "stderr",
     "output_type": "stream",
     "text": [
      "randomization: 100%|██████████| 10/10 [00:23<00:00,  2.30s/it]\n"
     ]
    },
    {
     "name": "stdout",
     "output_type": "stream",
     "text": [
      "NVA_21-003.IMMCORE.C2v1_18T002383-10-Z2-ImvessC2-4321.czi_Layer 1.csv\n"
     ]
    },
    {
     "name": "stderr",
     "output_type": "stream",
     "text": [
      "randomization: 100%|██████████| 10/10 [00:32<00:00,  3.23s/it]\n"
     ]
    },
    {
     "name": "stdout",
     "output_type": "stream",
     "text": [
      "NVA_21-003.IMMCORE.C1v1_17T006383-09-Z1-ImvessC1-4518.czi_Layer 1.csv\n"
     ]
    },
    {
     "name": "stderr",
     "output_type": "stream",
     "text": [
      "randomization: 100%|██████████| 10/10 [00:08<00:00,  1.19it/s]\n",
      "/tmp/ipykernel_492798/253046819.py:400: RuntimeWarning: divide by zero encountered in true_divide\n",
      "  zscore = (mat - rand_mean) / rand_std\n"
     ]
    },
    {
     "name": "stdout",
     "output_type": "stream",
     "text": [
      "NVA_21-003.IMMCORE.C1v1_17T004343-07-ImvessC1-4518.czi_Layer 1.csv\n"
     ]
    },
    {
     "name": "stderr",
     "output_type": "stream",
     "text": [
      "randomization: 100%|██████████| 10/10 [00:18<00:00,  1.83s/it]\n"
     ]
    },
    {
     "name": "stdout",
     "output_type": "stream",
     "text": [
      "NVA_21-003.IMMCORE.C1v1_16T004768-17-ImvessC1-4518.czi_Layer 1.csv\n"
     ]
    },
    {
     "name": "stderr",
     "output_type": "stream",
     "text": [
      "randomization: 100%|██████████| 10/10 [00:03<00:00,  2.56it/s]\n"
     ]
    },
    {
     "name": "stdout",
     "output_type": "stream",
     "text": [
      "NVA_21-003.IMMCORE.C1v1_17T048267-11-Z2-ImvessC1-4518.czi_Layer 1.csv\n"
     ]
    },
    {
     "name": "stderr",
     "output_type": "stream",
     "text": [
      "randomization: 100%|██████████| 10/10 [00:18<00:00,  1.81s/it]\n"
     ]
    },
    {
     "name": "stdout",
     "output_type": "stream",
     "text": [
      "NVA_21-003.IMMCORE.C1v1_18T020627-04-Z1-ImvessC1-4518.czi_Layer 1.csv\n"
     ]
    },
    {
     "name": "stderr",
     "output_type": "stream",
     "text": [
      "randomization: 100%|██████████| 10/10 [00:17<00:00,  1.78s/it]\n"
     ]
    },
    {
     "name": "stdout",
     "output_type": "stream",
     "text": [
      "NVA_21-003.IMMCORE.C1v1_18T044196-05-Z2-ImvessC1-4518.czi_Layer 1.csv\n"
     ]
    },
    {
     "name": "stderr",
     "output_type": "stream",
     "text": [
      "randomization: 100%|██████████| 10/10 [00:23<00:00,  2.33s/it]\n"
     ]
    },
    {
     "name": "stdout",
     "output_type": "stream",
     "text": [
      "NVA_21-003.IMMCORE.C2v1_17T054628-06-Z2-ImvessC2-4321.czi_Layer 1.csv\n"
     ]
    },
    {
     "name": "stderr",
     "output_type": "stream",
     "text": [
      "randomization: 100%|██████████| 10/10 [00:28<00:00,  2.81s/it]\n"
     ]
    },
    {
     "name": "stdout",
     "output_type": "stream",
     "text": [
      "NVA_21-003.IMMCORE.C2v1_16T058343-12-ImvessC2-4321.czi_Layer 1.csv\n"
     ]
    },
    {
     "name": "stderr",
     "output_type": "stream",
     "text": [
      "randomization: 100%|██████████| 10/10 [00:26<00:00,  2.61s/it]\n"
     ]
    },
    {
     "name": "stdout",
     "output_type": "stream",
     "text": [
      "NVA_21-003.IMMCORE.C2v1_16T042639-11-Z1-ImvessC2-4321.czi_Layer 1.csv\n"
     ]
    },
    {
     "name": "stderr",
     "output_type": "stream",
     "text": [
      "randomization: 100%|██████████| 10/10 [00:15<00:00,  1.51s/it]\n"
     ]
    },
    {
     "name": "stdout",
     "output_type": "stream",
     "text": [
      "NVA_21-003.IMMCORE.C1v1_17T048267-11-Z1-ImvessC1-4518.czi_Layer 1.csv\n"
     ]
    },
    {
     "name": "stderr",
     "output_type": "stream",
     "text": [
      "randomization: 100%|██████████| 10/10 [00:24<00:00,  2.48s/it]\n"
     ]
    },
    {
     "name": "stdout",
     "output_type": "stream",
     "text": [
      "NVA_21-003.IMMCORE.C1v1_15T034275-11-Z2-2-ImvessC1-4518.czi_Layer 1.csv\n"
     ]
    },
    {
     "name": "stderr",
     "output_type": "stream",
     "text": [
      "randomization: 100%|██████████| 10/10 [00:03<00:00,  2.76it/s]\n",
      "/tmp/ipykernel_492798/253046819.py:400: RuntimeWarning: invalid value encountered in true_divide\n",
      "  zscore = (mat - rand_mean) / rand_std\n"
     ]
    },
    {
     "name": "stdout",
     "output_type": "stream",
     "text": [
      "NVA_21-003.IMMCORE.C2v1_16T006366-4-ImvessC2-4321.czi_Layer 1.csv\n"
     ]
    },
    {
     "name": "stderr",
     "output_type": "stream",
     "text": [
      "randomization: 100%|██████████| 10/10 [00:04<00:00,  2.06it/s]\n"
     ]
    },
    {
     "name": "stdout",
     "output_type": "stream",
     "text": [
      "NVA_21-003.IMMCORE.C2v1_16T034668-33-ImvessC2-4321.czi_Layer 1.csv\n"
     ]
    },
    {
     "name": "stderr",
     "output_type": "stream",
     "text": [
      "randomization: 100%|██████████| 10/10 [00:24<00:00,  2.45s/it]\n"
     ]
    },
    {
     "name": "stdout",
     "output_type": "stream",
     "text": [
      "NVA_21-003.IMMCORE.C1v1_19T031111-09-ImvessC1-4518.czi_Layer 1.csv\n"
     ]
    },
    {
     "name": "stderr",
     "output_type": "stream",
     "text": [
      "randomization: 100%|██████████| 10/10 [00:18<00:00,  1.83s/it]\n"
     ]
    },
    {
     "name": "stdout",
     "output_type": "stream",
     "text": [
      "NVA_21-003.IMMCORE.C1v1_18T040686-03-ImvessC1-4518.czi_Layer 1.csv\n"
     ]
    },
    {
     "name": "stderr",
     "output_type": "stream",
     "text": [
      "randomization: 100%|██████████| 10/10 [00:26<00:00,  2.66s/it]\n"
     ]
    },
    {
     "name": "stdout",
     "output_type": "stream",
     "text": [
      "NVA_21-003.IMMCORE.C2v1_18T040686-03-ImvessC2-4321.czi_Layer 1.csv\n"
     ]
    },
    {
     "name": "stderr",
     "output_type": "stream",
     "text": [
      "randomization: 100%|██████████| 10/10 [00:40<00:00,  4.01s/it]\n"
     ]
    },
    {
     "name": "stdout",
     "output_type": "stream",
     "text": [
      "NVA_21-003.IMMCORE.C2v1_19T041398-05-Z2-2-ImvessC2-4321.czi_Layer 1.csv\n"
     ]
    },
    {
     "name": "stderr",
     "output_type": "stream",
     "text": [
      "randomization: 100%|██████████| 10/10 [01:10<00:00,  7.09s/it]\n"
     ]
    },
    {
     "name": "stdout",
     "output_type": "stream",
     "text": [
      "NVA_21-003.IMMCORE.C2v1_17T010264-05-Z2-ImvessC2-4321.czi_Layer 1.csv\n"
     ]
    },
    {
     "name": "stderr",
     "output_type": "stream",
     "text": [
      "randomization: 100%|██████████| 10/10 [00:38<00:00,  3.83s/it]\n"
     ]
    },
    {
     "name": "stdout",
     "output_type": "stream",
     "text": [
      "NVA_21-003.IMMCORE.C2v1_18T054305-08-ImvessC2-4321.czi_Layer 1.csv\n"
     ]
    },
    {
     "name": "stderr",
     "output_type": "stream",
     "text": [
      "randomization: 100%|██████████| 10/10 [00:56<00:00,  5.70s/it]\n"
     ]
    },
    {
     "name": "stdout",
     "output_type": "stream",
     "text": [
      "NVA_21-003.IMMCORE.C2v1_17T048267-11-Z3-ImvessC2-4321.czi_Layer 1.csv\n"
     ]
    },
    {
     "name": "stderr",
     "output_type": "stream",
     "text": [
      "randomization: 100%|██████████| 10/10 [00:02<00:00,  4.60it/s]\n"
     ]
    },
    {
     "name": "stdout",
     "output_type": "stream",
     "text": [
      "NVA_21-003.IMMCORE.C2v1_15T010760-09-Z1-ImvessC2-4321.czi_Layer 1.csv\n"
     ]
    },
    {
     "name": "stderr",
     "output_type": "stream",
     "text": [
      "randomization: 100%|██████████| 10/10 [00:32<00:00,  3.22s/it]\n"
     ]
    },
    {
     "name": "stdout",
     "output_type": "stream",
     "text": [
      "NVA_21-003.IMMCORE.C2v1_18T011003-05-Z2-ImvessC2-4321.czi_Layer 1.csv\n"
     ]
    },
    {
     "name": "stderr",
     "output_type": "stream",
     "text": [
      "randomization: 100%|██████████| 10/10 [00:48<00:00,  4.82s/it]\n"
     ]
    },
    {
     "name": "stdout",
     "output_type": "stream",
     "text": [
      "NVA_21-003.IMMCORE.C1v1_19T037195-08-Z2-ImvessC1-4518.czi_Layer 1.csv\n"
     ]
    },
    {
     "name": "stderr",
     "output_type": "stream",
     "text": [
      "randomization: 100%|██████████| 10/10 [00:03<00:00,  3.21it/s]\n"
     ]
    },
    {
     "name": "stdout",
     "output_type": "stream",
     "text": [
      "NVA_21-003.IMMCORE.C2v1_18T011003-05-Z1-ImvessC2-4321.czi_Layer 1.csv\n"
     ]
    },
    {
     "name": "stderr",
     "output_type": "stream",
     "text": [
      "randomization: 100%|██████████| 10/10 [00:12<00:00,  1.28s/it]\n"
     ]
    },
    {
     "name": "stdout",
     "output_type": "stream",
     "text": [
      "NVA_21-003.IMMCORE.C1v1_15T010760-09-Z1-ImvessC1-4518.czi_Layer 1.csv\n"
     ]
    },
    {
     "name": "stderr",
     "output_type": "stream",
     "text": [
      "randomization: 100%|██████████| 10/10 [00:22<00:00,  2.29s/it]\n"
     ]
    },
    {
     "name": "stdout",
     "output_type": "stream",
     "text": [
      "NVA_21-003.IMMCORE.C1v1_16T008211-9-ImvessC1-4518.czi_Layer 1.csv\n"
     ]
    },
    {
     "name": "stderr",
     "output_type": "stream",
     "text": [
      "randomization: 100%|██████████| 10/10 [00:20<00:00,  2.03s/it]\n"
     ]
    },
    {
     "name": "stdout",
     "output_type": "stream",
     "text": [
      "NVA_21-003.IMMCORE.C2v1_16T004768-17-ImvessC2-4321.czi_Layer 1.csv\n"
     ]
    },
    {
     "name": "stderr",
     "output_type": "stream",
     "text": [
      "randomization: 100%|██████████| 10/10 [00:07<00:00,  1.30it/s]\n"
     ]
    },
    {
     "name": "stdout",
     "output_type": "stream",
     "text": [
      "NVA_21-003.IMMCORE.C1v1_16T019939-10-ImvessC1-4518.czi_Layer 1.csv\n"
     ]
    },
    {
     "name": "stderr",
     "output_type": "stream",
     "text": [
      "randomization: 100%|██████████| 10/10 [00:06<00:00,  1.46it/s]\n"
     ]
    },
    {
     "name": "stdout",
     "output_type": "stream",
     "text": [
      "NVA_21-003.IMMCORE.C2v1_17T018454-05-Z1-ImvessC2-4321.czi_Layer 1.csv\n"
     ]
    },
    {
     "name": "stderr",
     "output_type": "stream",
     "text": [
      "randomization: 100%|██████████| 10/10 [00:20<00:00,  2.06s/it]\n"
     ]
    },
    {
     "name": "stdout",
     "output_type": "stream",
     "text": [
      "NVA_21-003.IMMCORE.C2v1_19T006284-08-ImvessC2-4321.czi_Layer 1.csv\n"
     ]
    },
    {
     "name": "stderr",
     "output_type": "stream",
     "text": [
      "randomization: 100%|██████████| 10/10 [00:36<00:00,  3.61s/it]\n"
     ]
    },
    {
     "name": "stdout",
     "output_type": "stream",
     "text": [
      "NVA_21-003.IMMCORE.C2v1_17T048267-11-Z1-ImvessC2-4321.czi_Layer 1.csv\n"
     ]
    },
    {
     "name": "stderr",
     "output_type": "stream",
     "text": [
      "randomization: 100%|██████████| 10/10 [01:34<00:00,  9.50s/it]\n"
     ]
    },
    {
     "name": "stdout",
     "output_type": "stream",
     "text": [
      "NVA_21-003.IMMCORE.C1v1_19T041398-05-Z2-ImvessC1-4518.czi_Layer 1.csv\n"
     ]
    },
    {
     "name": "stderr",
     "output_type": "stream",
     "text": [
      "randomization: 100%|██████████| 10/10 [00:18<00:00,  1.82s/it]\n"
     ]
    },
    {
     "name": "stdout",
     "output_type": "stream",
     "text": [
      "NVA_21-003.IMMCORE.C2v1_16T037314-11-Z3-ImvessC2-4321.czi_Layer 1.csv\n"
     ]
    },
    {
     "name": "stderr",
     "output_type": "stream",
     "text": [
      "randomization: 100%|██████████| 10/10 [00:00<00:00, 31.92it/s]\n"
     ]
    },
    {
     "name": "stdout",
     "output_type": "stream",
     "text": [
      "NVA_21-003.IMMCORE.C1v1_17T020615-09-2-ImvessC1-4518.czi_Layer 1.csv\n"
     ]
    },
    {
     "name": "stderr",
     "output_type": "stream",
     "text": [
      "randomization: 100%|██████████| 10/10 [00:23<00:00,  2.33s/it]\n"
     ]
    },
    {
     "name": "stdout",
     "output_type": "stream",
     "text": [
      "NVA_21-003.IMMCORE.C2v1_18T002383-10-Z1-ImvessC2-4321.czi_Layer 1.csv\n"
     ]
    },
    {
     "name": "stderr",
     "output_type": "stream",
     "text": [
      "randomization: 100%|██████████| 10/10 [00:35<00:00,  3.57s/it]\n"
     ]
    },
    {
     "name": "stdout",
     "output_type": "stream",
     "text": [
      "NVA_21-003.IMMCORE.C1v1_18T004469-02-Z1-ImvessC1-4518.czi_Layer 1.csv\n"
     ]
    },
    {
     "name": "stderr",
     "output_type": "stream",
     "text": [
      "randomization: 100%|██████████| 10/10 [00:26<00:00,  2.61s/it]\n"
     ]
    },
    {
     "name": "stdout",
     "output_type": "stream",
     "text": [
      "NVA_21-003.IMMCORE.C2v1_18T047929-09-Z2-ImvessC2-4321.czi_Layer 1.csv\n"
     ]
    },
    {
     "name": "stderr",
     "output_type": "stream",
     "text": [
      "randomization: 100%|██████████| 10/10 [00:27<00:00,  2.71s/it]\n"
     ]
    },
    {
     "name": "stdout",
     "output_type": "stream",
     "text": [
      "NVA_21-003.IMMCORE.C1v1_15T008187-08-ImvessC1-4518.czi_Layer 1.csv\n"
     ]
    },
    {
     "name": "stderr",
     "output_type": "stream",
     "text": [
      "randomization: 100%|██████████| 10/10 [00:22<00:00,  2.25s/it]\n"
     ]
    },
    {
     "name": "stdout",
     "output_type": "stream",
     "text": [
      "NVA_21-003.IMMCORE.C2v1_17T033078-09-Z2-ImvessC2-4321.czi_Layer 1.csv\n"
     ]
    },
    {
     "name": "stderr",
     "output_type": "stream",
     "text": [
      "randomization: 100%|██████████| 10/10 [00:02<00:00,  3.93it/s]\n"
     ]
    },
    {
     "name": "stdout",
     "output_type": "stream",
     "text": [
      "NVA_21-003.IMMCORE.C1v1_16T034668-33-ImvessC1-4518.czi_Layer 1.csv\n"
     ]
    },
    {
     "name": "stderr",
     "output_type": "stream",
     "text": [
      "randomization: 100%|██████████| 10/10 [00:26<00:00,  2.68s/it]\n"
     ]
    },
    {
     "name": "stdout",
     "output_type": "stream",
     "text": [
      "NVA_21-003.IMMCORE.C1v1_15T052601-14-Z2-ImvessC1-4518.czi_Layer 1.csv\n"
     ]
    },
    {
     "name": "stderr",
     "output_type": "stream",
     "text": [
      "randomization: 100%|██████████| 10/10 [00:20<00:00,  2.00s/it]\n"
     ]
    },
    {
     "name": "stdout",
     "output_type": "stream",
     "text": [
      "NVA_21-003.IMMCORE.C1v1_17T010264-05-Z1-ImvessC1-4518.czi_Layer 1.csv\n"
     ]
    },
    {
     "name": "stderr",
     "output_type": "stream",
     "text": [
      "randomization: 100%|██████████| 10/10 [00:14<00:00,  1.43s/it]\n"
     ]
    },
    {
     "name": "stdout",
     "output_type": "stream",
     "text": [
      "NVA_21-003.IMMCORE.C2v1_17T020895-03-Z1-ImvessC2-4321.czi_Layer 1.csv\n"
     ]
    },
    {
     "name": "stderr",
     "output_type": "stream",
     "text": [
      "randomization: 100%|██████████| 10/10 [00:39<00:00,  3.93s/it]\n"
     ]
    },
    {
     "name": "stdout",
     "output_type": "stream",
     "text": [
      "NVA_21-003.IMMCORE.C2v1_17T003826-06-ImvessC2-4321.czi_Layer 1.csv\n"
     ]
    },
    {
     "name": "stderr",
     "output_type": "stream",
     "text": [
      "randomization: 100%|██████████| 10/10 [00:20<00:00,  2.06s/it]\n"
     ]
    },
    {
     "name": "stdout",
     "output_type": "stream",
     "text": [
      "NVA_21-003.IMMCORE.C1v1_17T021098-13-Z2-ImvessC1-4518.czi_Layer 1.csv\n"
     ]
    },
    {
     "name": "stderr",
     "output_type": "stream",
     "text": [
      "randomization: 100%|██████████| 10/10 [00:16<00:00,  1.66s/it]\n"
     ]
    },
    {
     "name": "stdout",
     "output_type": "stream",
     "text": [
      "NVA_21-003.IMMCORE.C1v1_17T021098-13-Z1-ImvessC1-4518.czi_Layer 1.csv\n"
     ]
    },
    {
     "name": "stderr",
     "output_type": "stream",
     "text": [
      "randomization: 100%|██████████| 10/10 [00:33<00:00,  3.38s/it]\n"
     ]
    },
    {
     "name": "stdout",
     "output_type": "stream",
     "text": [
      "NVA_21-003.IMMCORE.C2v1_15T034275-11-Z2-2-ImvessC2-4321.czi_Layer 1.csv\n"
     ]
    },
    {
     "name": "stderr",
     "output_type": "stream",
     "text": [
      "randomization: 100%|██████████| 10/10 [00:06<00:00,  1.56it/s]\n"
     ]
    },
    {
     "name": "stdout",
     "output_type": "stream",
     "text": [
      "NVA_21-003.IMMCORE.C1v1_17T048267-11-Z3-ImvessC1-4518.czi_Layer 1.csv\n"
     ]
    },
    {
     "name": "stderr",
     "output_type": "stream",
     "text": [
      "randomization: 100%|██████████| 10/10 [00:01<00:00,  8.13it/s]\n"
     ]
    },
    {
     "name": "stdout",
     "output_type": "stream",
     "text": [
      "NVA_21-003.IMMCORE.C1v1_15T034275-11-Z1-2-ImvessC1-4518.czi_Layer 1.csv\n"
     ]
    },
    {
     "name": "stderr",
     "output_type": "stream",
     "text": [
      "randomization: 100%|██████████| 10/10 [00:12<00:00,  1.25s/it]\n"
     ]
    },
    {
     "name": "stdout",
     "output_type": "stream",
     "text": [
      "NVA_21-003.IMMCORE.C1v1_17T006383-09-Z2-ImvessC1-4518.czi_Layer 1.csv\n"
     ]
    },
    {
     "name": "stderr",
     "output_type": "stream",
     "text": [
      "randomization: 100%|██████████| 10/10 [00:04<00:00,  2.47it/s]\n"
     ]
    },
    {
     "name": "stdout",
     "output_type": "stream",
     "text": [
      "NVA_21-003.IMMCORE.C1v1_18T004469-02-Z2-ImvessC1-4518.czi_Layer 1.csv\n"
     ]
    },
    {
     "name": "stderr",
     "output_type": "stream",
     "text": [
      "randomization: 100%|██████████| 10/10 [00:27<00:00,  2.77s/it]\n"
     ]
    },
    {
     "name": "stdout",
     "output_type": "stream",
     "text": [
      "NVA_21-003.IMMCORE.C1v1_17T054628-06-Z2-ImvessC1-4518.czi_Layer 1.csv\n"
     ]
    },
    {
     "name": "stderr",
     "output_type": "stream",
     "text": [
      "randomization: 100%|██████████| 10/10 [00:11<00:00,  1.16s/it]\n"
     ]
    },
    {
     "name": "stdout",
     "output_type": "stream",
     "text": [
      "NVA_21-003.IMMCORE.C1v1_18T011003-05-Z2-ImvessC1-4518.czi_Layer 1.csv\n"
     ]
    },
    {
     "name": "stderr",
     "output_type": "stream",
     "text": [
      "randomization: 100%|██████████| 10/10 [00:10<00:00,  1.07s/it]\n"
     ]
    },
    {
     "name": "stdout",
     "output_type": "stream",
     "text": [
      "NVA_21-003.IMMCORE.C2v1_15T046951-1-2-ImvessC2-4321.czi_Layer 1.csv\n"
     ]
    },
    {
     "name": "stderr",
     "output_type": "stream",
     "text": [
      "randomization: 100%|██████████| 10/10 [00:09<00:00,  1.03it/s]\n"
     ]
    },
    {
     "name": "stdout",
     "output_type": "stream",
     "text": [
      "NVA_21-003.IMMCORE.C1v1_15T010441-02-ImvessC1-4518.czi_Layer 1.csv\n"
     ]
    },
    {
     "name": "stderr",
     "output_type": "stream",
     "text": [
      "randomization: 100%|██████████| 10/10 [00:16<00:00,  1.62s/it]\n"
     ]
    },
    {
     "name": "stdout",
     "output_type": "stream",
     "text": [
      "NVA_21-003.IMMCORE.C1v1_16T037314-11-Z1-ImvessC1-4518.czi_Layer 1.csv\n"
     ]
    },
    {
     "name": "stderr",
     "output_type": "stream",
     "text": [
      "randomization: 100%|██████████| 10/10 [00:14<00:00,  1.41s/it]\n"
     ]
    },
    {
     "name": "stdout",
     "output_type": "stream",
     "text": [
      "NVA_21-003.IMMCORE.C2v1_17T006383-09-Z1-ImvessC2-4321.czi_Layer 1.csv\n"
     ]
    },
    {
     "name": "stderr",
     "output_type": "stream",
     "text": [
      "randomization: 100%|██████████| 10/10 [00:10<00:00,  1.00s/it]\n"
     ]
    },
    {
     "name": "stdout",
     "output_type": "stream",
     "text": [
      "NVA_21-003.IMMCORE.C1v1_16T058343-12-ImvessC1-4518.czi_Layer 1.csv\n"
     ]
    },
    {
     "name": "stderr",
     "output_type": "stream",
     "text": [
      "randomization: 100%|██████████| 10/10 [00:13<00:00,  1.33s/it]\n"
     ]
    },
    {
     "name": "stdout",
     "output_type": "stream",
     "text": [
      "NVA_21-003.IMMCORE.C1v1_19T006284-08-ImvessC1-4518.czi_Layer 1.csv\n"
     ]
    },
    {
     "name": "stderr",
     "output_type": "stream",
     "text": [
      "randomization: 100%|██████████| 10/10 [00:21<00:00,  2.10s/it]\n"
     ]
    },
    {
     "name": "stdout",
     "output_type": "stream",
     "text": [
      "NVA_21-003.IMMCORE.C1v1_18T002383-10-Z1-ImvessC1-4518.czi_Layer 1.csv\n"
     ]
    },
    {
     "name": "stderr",
     "output_type": "stream",
     "text": [
      "randomization: 100%|██████████| 10/10 [00:06<00:00,  1.58it/s]\n"
     ]
    },
    {
     "name": "stdout",
     "output_type": "stream",
     "text": [
      "NVA_21-003.IMMCORE.C2v1_15T052601-14-Z2-ImvessC2-4321.czi_Layer 1.csv\n"
     ]
    },
    {
     "name": "stderr",
     "output_type": "stream",
     "text": [
      "randomization: 100%|██████████| 10/10 [00:40<00:00,  4.02s/it]\n"
     ]
    },
    {
     "name": "stdout",
     "output_type": "stream",
     "text": [
      "NVA_21-003.IMMCORE.C2v1_18T004469-02-Z2-ImvessC2-4321.czi_Layer 1.csv\n"
     ]
    },
    {
     "name": "stderr",
     "output_type": "stream",
     "text": [
      "randomization: 100%|██████████| 10/10 [01:07<00:00,  6.76s/it]\n"
     ]
    },
    {
     "name": "stdout",
     "output_type": "stream",
     "text": [
      "NVA_21-003.IMMCORE.C2v1_16T042639-11-Z2-ImvessC2-4321.czi_Layer 1.csv\n"
     ]
    },
    {
     "name": "stderr",
     "output_type": "stream",
     "text": [
      "randomization: 100%|██████████| 10/10 [00:20<00:00,  2.04s/it]\n"
     ]
    },
    {
     "name": "stdout",
     "output_type": "stream",
     "text": [
      "NVA_21-003.IMMCORE.C2v1_15T034275-11-Z1-2-ImvessC2-4321.czi_Layer 1.csv\n"
     ]
    },
    {
     "name": "stderr",
     "output_type": "stream",
     "text": [
      "randomization: 100%|██████████| 10/10 [00:18<00:00,  1.81s/it]\n"
     ]
    },
    {
     "name": "stdout",
     "output_type": "stream",
     "text": [
      "NVA_21-003.IMMCORE.C1v1_18T005297-13-ImvessC1-4518.czi_Layer 1.csv\n"
     ]
    },
    {
     "name": "stderr",
     "output_type": "stream",
     "text": [
      "randomization: 100%|██████████| 10/10 [00:29<00:00,  2.96s/it]\n"
     ]
    },
    {
     "name": "stdout",
     "output_type": "stream",
     "text": [
      "NVA_21-003.IMMCORE.C1v1_19T041398-05-Z1-ImvessC1-4518.czi_Layer 1.csv\n"
     ]
    },
    {
     "name": "stderr",
     "output_type": "stream",
     "text": [
      "randomization: 100%|██████████| 10/10 [00:05<00:00,  1.87it/s]\n"
     ]
    },
    {
     "name": "stdout",
     "output_type": "stream",
     "text": [
      "NVA_21-003.IMMCORE.C2v1_17T010264-05-Z1-ImvessC2-4321.czi_Layer 1.csv\n"
     ]
    },
    {
     "name": "stderr",
     "output_type": "stream",
     "text": [
      "randomization: 100%|██████████| 10/10 [00:31<00:00,  3.15s/it]\n"
     ]
    },
    {
     "name": "stdout",
     "output_type": "stream",
     "text": [
      "NVA_21-003.IMMCORE.C1v1_19T037195-08-Z1-2-ImvessC1-4518.czi_Layer 1.csv\n"
     ]
    },
    {
     "name": "stderr",
     "output_type": "stream",
     "text": [
      "randomization: 100%|██████████| 10/10 [00:02<00:00,  3.48it/s]\n"
     ]
    },
    {
     "name": "stdout",
     "output_type": "stream",
     "text": [
      "NVA_21-003.IMMCORE.C1v1_16T042639-11-Z2-ImvessC1-4518.czi_Layer 1.csv\n"
     ]
    },
    {
     "name": "stderr",
     "output_type": "stream",
     "text": [
      "randomization: 100%|██████████| 10/10 [00:12<00:00,  1.28s/it]\n"
     ]
    },
    {
     "name": "stdout",
     "output_type": "stream",
     "text": [
      "NVA_21-003.IMMCORE.C1v1_18T002383-10-Z2-ImvessC1-4518.czi_Layer 1.csv\n"
     ]
    },
    {
     "name": "stderr",
     "output_type": "stream",
     "text": [
      "randomization: 100%|██████████| 10/10 [00:14<00:00,  1.40s/it]\n"
     ]
    },
    {
     "name": "stdout",
     "output_type": "stream",
     "text": [
      "NVA_21-003.IMMCORE.C2v1_15T027584-13-2-ImvessC2-4321.czi_Layer 1.csv\n"
     ]
    },
    {
     "name": "stderr",
     "output_type": "stream",
     "text": [
      "randomization: 100%|██████████| 10/10 [00:22<00:00,  2.20s/it]\n"
     ]
    },
    {
     "name": "stdout",
     "output_type": "stream",
     "text": [
      "NVA_21-003.IMMCORE.C2v1_19T037195-08-Z2-ImvessC2-4321.czi_Layer 1.csv\n"
     ]
    },
    {
     "name": "stderr",
     "output_type": "stream",
     "text": [
      "randomization: 100%|██████████| 10/10 [00:06<00:00,  1.50it/s]\n"
     ]
    },
    {
     "name": "stdout",
     "output_type": "stream",
     "text": [
      "NVA_21-003.IMMCORE.C2v1_16T008211-9-ImvessC2-4321.czi_Layer 1.csv\n"
     ]
    },
    {
     "name": "stderr",
     "output_type": "stream",
     "text": [
      "randomization: 100%|██████████| 10/10 [00:38<00:00,  3.83s/it]\n"
     ]
    },
    {
     "name": "stdout",
     "output_type": "stream",
     "text": [
      "NVA_21-003.IMMCORE.C2v1_16T037314-11-Z1-ImvessC2-4321.czi_Layer 1.csv\n"
     ]
    },
    {
     "name": "stderr",
     "output_type": "stream",
     "text": [
      "randomization: 100%|██████████| 10/10 [00:29<00:00,  2.95s/it]\n"
     ]
    },
    {
     "name": "stdout",
     "output_type": "stream",
     "text": [
      "NVA_21-003.IMMCORE.C2v1_19T020336-21-ImvessC2-4321.czi_Layer 1.csv\n"
     ]
    },
    {
     "name": "stderr",
     "output_type": "stream",
     "text": [
      "randomization: 100%|██████████| 10/10 [00:15<00:00,  1.56s/it]\n"
     ]
    },
    {
     "name": "stdout",
     "output_type": "stream",
     "text": [
      "NVA_21-003.IMMCORE.C1v1_18T020627-04-Z3-ImvessC1-4518.czi_Layer 1.csv\n"
     ]
    },
    {
     "name": "stderr",
     "output_type": "stream",
     "text": [
      "randomization: 100%|██████████| 10/10 [00:00<00:00, 24.84it/s]\n"
     ]
    },
    {
     "name": "stdout",
     "output_type": "stream",
     "text": [
      "NVA_21-003.IMMCORE.C2v1_18T044196-05-Z1-ImvessC2-4321.czi_Layer 1.csv\n"
     ]
    },
    {
     "name": "stderr",
     "output_type": "stream",
     "text": [
      "randomization: 100%|██████████| 10/10 [00:34<00:00,  3.45s/it]\n"
     ]
    },
    {
     "name": "stdout",
     "output_type": "stream",
     "text": [
      "NVA_21-003.IMMCORE.C2v1_17T048267-11-Z2-ImvessC2-4321.czi_Layer 1.csv\n"
     ]
    },
    {
     "name": "stderr",
     "output_type": "stream",
     "text": [
      "randomization: 100%|██████████| 10/10 [01:10<00:00,  7.03s/it]\n"
     ]
    },
    {
     "name": "stdout",
     "output_type": "stream",
     "text": [
      "NVA_21-003.IMMCORE.C1v1_15T046951-1-ImvessC1-4518.czi_Layer 1.csv\n"
     ]
    },
    {
     "name": "stderr",
     "output_type": "stream",
     "text": [
      "randomization: 100%|██████████| 10/10 [00:06<00:00,  1.55it/s]\n"
     ]
    },
    {
     "name": "stdout",
     "output_type": "stream",
     "text": [
      "NVA_21-003.IMMCORE.C1v1_17T018454-05-Z2-ImvessC1-4518.czi_Layer 1.csv\n"
     ]
    },
    {
     "name": "stderr",
     "output_type": "stream",
     "text": [
      "randomization: 100%|██████████| 10/10 [00:23<00:00,  2.31s/it]\n"
     ]
    },
    {
     "name": "stdout",
     "output_type": "stream",
     "text": [
      "NVA_21-003.IMMCORE.C1v1_15T011146-16-2-ImvessC1-4518.czi_Layer 1.csv\n"
     ]
    },
    {
     "name": "stderr",
     "output_type": "stream",
     "text": [
      "randomization: 100%|██████████| 10/10 [00:36<00:00,  3.62s/it]\n"
     ]
    },
    {
     "name": "stdout",
     "output_type": "stream",
     "text": [
      "NVA_21-003.IMMCORE.C2v1_16T037314-11-Z2-ImvessC2-4321.czi_Layer 1.csv\n"
     ]
    },
    {
     "name": "stderr",
     "output_type": "stream",
     "text": [
      "randomization: 100%|██████████| 10/10 [00:15<00:00,  1.53s/it]\n"
     ]
    },
    {
     "name": "stdout",
     "output_type": "stream",
     "text": [
      "NVA_21-003.IMMCORE.C2v1_17T033078-09-Z1-ImvessC2-4321.czi_Layer 1.csv\n"
     ]
    },
    {
     "name": "stderr",
     "output_type": "stream",
     "text": [
      "randomization: 100%|██████████| 10/10 [00:34<00:00,  3.41s/it]\n"
     ]
    },
    {
     "name": "stdout",
     "output_type": "stream",
     "text": [
      "NVA_21-003.IMMCORE.C1v1_16T037314-11-Z3-ImvessC1-4518.czi_Layer 1.csv\n"
     ]
    },
    {
     "name": "stderr",
     "output_type": "stream",
     "text": [
      "randomization: 100%|██████████| 10/10 [00:00<00:00, 71.81it/s]\n"
     ]
    },
    {
     "name": "stdout",
     "output_type": "stream",
     "text": [
      "NVA_21-003.IMMCORE.C1v1_16T037314-11-Z2-ImvessC1-4518.czi_Layer 1.csv\n"
     ]
    },
    {
     "name": "stderr",
     "output_type": "stream",
     "text": [
      "randomization: 100%|██████████| 10/10 [00:09<00:00,  1.06it/s]\n"
     ]
    },
    {
     "name": "stdout",
     "output_type": "stream",
     "text": [
      "NVA_21-003.IMMCORE.C1v1_17T033078-09-Z2-ImvessC1-4518.czi_Layer 1.csv\n"
     ]
    },
    {
     "name": "stderr",
     "output_type": "stream",
     "text": [
      "randomization: 100%|██████████| 10/10 [00:01<00:00,  7.46it/s]\n"
     ]
    },
    {
     "name": "stdout",
     "output_type": "stream",
     "text": [
      "NVA_21-003.IMMCORE.C1v1_19T020336-21-ImvessC1-4518.czi_Layer 1.csv\n"
     ]
    },
    {
     "name": "stderr",
     "output_type": "stream",
     "text": [
      "randomization: 100%|██████████| 10/10 [00:22<00:00,  2.20s/it]\n"
     ]
    },
    {
     "name": "stdout",
     "output_type": "stream",
     "text": [
      "NVA_21-003.IMMCORE.C1v1_17T054628-06-Z1-ImvessC1-4518.czi_Layer 1.csv\n"
     ]
    },
    {
     "name": "stderr",
     "output_type": "stream",
     "text": [
      "randomization: 100%|██████████| 10/10 [00:00<00:00, 32.87it/s]\n"
     ]
    },
    {
     "name": "stdout",
     "output_type": "stream",
     "text": [
      "NVA_21-003.IMMCORE.C2v1_19T002076-07-Z2-ImvessC2-4321.czi_Layer 1.csv\n"
     ]
    },
    {
     "name": "stderr",
     "output_type": "stream",
     "text": [
      "randomization: 100%|██████████| 10/10 [00:45<00:00,  4.57s/it]\n"
     ]
    },
    {
     "name": "stdout",
     "output_type": "stream",
     "text": [
      "NVA_21-003.IMMCORE.C1v1_18T047929-09-Z3-ImvessC1-4518.czi_Layer 1.csv\n"
     ]
    },
    {
     "name": "stderr",
     "output_type": "stream",
     "text": [
      "randomization: 100%|██████████| 10/10 [00:32<00:00,  3.28s/it]\n"
     ]
    },
    {
     "name": "stdout",
     "output_type": "stream",
     "text": [
      "NVA_21-003.IMMCORE.C2v1_19T041398-05-Z1-ImvessC2-4321.czi_Layer 1.csv\n"
     ]
    },
    {
     "name": "stderr",
     "output_type": "stream",
     "text": [
      "randomization: 100%|██████████| 10/10 [00:23<00:00,  2.32s/it]\n"
     ]
    },
    {
     "name": "stdout",
     "output_type": "stream",
     "text": [
      "NVA_21-003.IMMCORE.C1v1_15T019351-08-ImvessC1-4518.czi_Layer 1.csv\n"
     ]
    },
    {
     "name": "stderr",
     "output_type": "stream",
     "text": [
      "randomization: 100%|██████████| 10/10 [00:31<00:00,  3.14s/it]\n"
     ]
    },
    {
     "name": "stdout",
     "output_type": "stream",
     "text": [
      "NVA_21-003.IMMCORE.C2v1_17T021098-13-Z1-ImvessC2-4321.czi_Layer 1.csv\n"
     ]
    },
    {
     "name": "stderr",
     "output_type": "stream",
     "text": [
      "randomization: 100%|██████████| 10/10 [01:19<00:00,  7.91s/it]\n"
     ]
    },
    {
     "name": "stdout",
     "output_type": "stream",
     "text": [
      "NVA_21-003.IMMCORE.C2v1_17T018454-05-Z2-ImvessC2-4321.czi_Layer 1.csv\n"
     ]
    },
    {
     "name": "stderr",
     "output_type": "stream",
     "text": [
      "randomization: 100%|██████████| 10/10 [00:51<00:00,  5.10s/it]\n"
     ]
    },
    {
     "name": "stdout",
     "output_type": "stream",
     "text": [
      "NVA_21-003.IMMCORE.C2v1_17T020615-09-2-ImvessC2-4321.czi_Layer 1.csv\n"
     ]
    },
    {
     "name": "stderr",
     "output_type": "stream",
     "text": [
      "randomization: 100%|██████████| 10/10 [00:30<00:00,  3.02s/it]\n"
     ]
    },
    {
     "name": "stdout",
     "output_type": "stream",
     "text": [
      "NVA_21-003.IMMCORE.C1v1_16T022680-3-ImvessC1-4518.czi_Layer 1.csv\n"
     ]
    },
    {
     "name": "stderr",
     "output_type": "stream",
     "text": [
      "randomization: 100%|██████████| 10/10 [00:40<00:00,  4.07s/it]\n"
     ]
    },
    {
     "name": "stdout",
     "output_type": "stream",
     "text": [
      "NVA_21-003.IMMCORE.C2v1_17T054628-06-Z1-ImvessC2-4321.czi_Layer 1.csv\n"
     ]
    },
    {
     "name": "stderr",
     "output_type": "stream",
     "text": [
      "randomization: 100%|██████████| 10/10 [00:04<00:00,  2.14it/s]\n"
     ]
    },
    {
     "name": "stdout",
     "output_type": "stream",
     "text": [
      "NVA_21-003.IMMCORE.C2v1_18T044196-05-Z2-ImvessC2-4321.czi_Layer 1.csv\n"
     ]
    },
    {
     "name": "stderr",
     "output_type": "stream",
     "text": [
      "randomization: 100%|██████████| 10/10 [00:47<00:00,  4.76s/it]\n"
     ]
    },
    {
     "name": "stdout",
     "output_type": "stream",
     "text": [
      "NVA_21-003.IMMCORE.C2v1_19T037195-08-Z1-2-ImvessC2-4321.czi_Layer 1.csv\n"
     ]
    },
    {
     "name": "stderr",
     "output_type": "stream",
     "text": [
      "randomization: 100%|██████████| 10/10 [00:04<00:00,  2.14it/s]\n"
     ]
    },
    {
     "name": "stdout",
     "output_type": "stream",
     "text": [
      "NVA_21-003.IMMCORE.C2v1_15T010760-09-Z2-ImvessC2-4321.czi_Layer 1.csv\n"
     ]
    },
    {
     "name": "stderr",
     "output_type": "stream",
     "text": [
      "randomization: 100%|██████████| 10/10 [00:04<00:00,  2.49it/s]\n"
     ]
    },
    {
     "name": "stdout",
     "output_type": "stream",
     "text": [
      "NVA_21-003.IMMCORE.C2v1_17T021098-13-Z2-ImvessC2-4321.czi_Layer 1.csv\n"
     ]
    },
    {
     "name": "stderr",
     "output_type": "stream",
     "text": [
      "randomization: 100%|██████████| 10/10 [00:47<00:00,  4.79s/it]\n"
     ]
    },
    {
     "name": "stdout",
     "output_type": "stream",
     "text": [
      "NVA_21-003.IMMCORE.C1v1_18T047929-09-Z1-ImvessC1-4518.czi_Layer 1.csv\n"
     ]
    },
    {
     "name": "stderr",
     "output_type": "stream",
     "text": [
      "randomization: 100%|██████████| 10/10 [00:26<00:00,  2.61s/it]\n"
     ]
    },
    {
     "name": "stdout",
     "output_type": "stream",
     "text": [
      "NVA_21-003.IMMCORE.C2v1_17T006383-09-Z2-ImvessC2-4321.czi_Layer 1.csv\n"
     ]
    },
    {
     "name": "stderr",
     "output_type": "stream",
     "text": [
      "randomization: 100%|██████████| 10/10 [00:13<00:00,  1.35s/it]\n"
     ]
    },
    {
     "name": "stdout",
     "output_type": "stream",
     "text": [
      "NVA_21-003.IMMCORE.C2v1_18T004469-02-Z1-ImvessC2-4321.czi_Layer 1.csv\n"
     ]
    },
    {
     "name": "stderr",
     "output_type": "stream",
     "text": [
      "randomization: 100%|██████████| 10/10 [00:56<00:00,  5.70s/it]\n"
     ]
    },
    {
     "name": "stdout",
     "output_type": "stream",
     "text": [
      "NVA_21-003.IMMCORE.C1v1_17T010264-05-Z2-ImvessC1-4518.czi_Layer 1.csv\n"
     ]
    },
    {
     "name": "stderr",
     "output_type": "stream",
     "text": [
      "randomization: 100%|██████████| 10/10 [00:20<00:00,  2.01s/it]\n"
     ]
    },
    {
     "name": "stdout",
     "output_type": "stream",
     "text": [
      "NVA_21-003.IMMCORE.C2v1_17T018454-05-Z3-ImvessC2-4321.czi_Layer 1.csv\n"
     ]
    },
    {
     "name": "stderr",
     "output_type": "stream",
     "text": [
      "randomization: 100%|██████████| 10/10 [00:41<00:00,  4.19s/it]\n"
     ]
    },
    {
     "name": "stdout",
     "output_type": "stream",
     "text": [
      "NVA_21-003.IMMCORE.C2v1_18T020627-04-Z3-ImvessC2-4321.czi_Layer 1.csv\n"
     ]
    },
    {
     "name": "stderr",
     "output_type": "stream",
     "text": [
      "randomization: 100%|██████████| 10/10 [00:00<00:00, 11.83it/s]\n"
     ]
    },
    {
     "name": "stdout",
     "output_type": "stream",
     "text": [
      "NVA_21-003.IMMCORE.C1v1_18T011003-05-Z1-ImvessC1-4518.czi_Layer 1.csv\n"
     ]
    },
    {
     "name": "stderr",
     "output_type": "stream",
     "text": [
      "randomization: 100%|██████████| 10/10 [00:08<00:00,  1.21it/s]\n"
     ]
    },
    {
     "name": "stdout",
     "output_type": "stream",
     "text": [
      "NVA_21-003.IMMCORE.C1v1_18T009975-12-ImvessC1-4518.czi_Layer 1.csv\n"
     ]
    },
    {
     "name": "stderr",
     "output_type": "stream",
     "text": [
      "randomization: 100%|██████████| 10/10 [00:06<00:00,  1.55it/s]\n"
     ]
    },
    {
     "name": "stdout",
     "output_type": "stream",
     "text": [
      "NVA_21-003.IMMCORE.C1v1_18T047929-09-Z2-ImvessC1-4518.czi_Layer 1.csv\n"
     ]
    },
    {
     "name": "stderr",
     "output_type": "stream",
     "text": [
      "randomization: 100%|██████████| 10/10 [00:08<00:00,  1.21it/s]\n"
     ]
    },
    {
     "name": "stdout",
     "output_type": "stream",
     "text": [
      "NVA_21-003.IMMCORE.C1v1_17T018454-05-Z3-ImvessC1-4518.czi_Layer 1.csv\n"
     ]
    },
    {
     "name": "stderr",
     "output_type": "stream",
     "text": [
      "randomization: 100%|██████████| 10/10 [00:17<00:00,  1.75s/it]\n"
     ]
    },
    {
     "name": "stdout",
     "output_type": "stream",
     "text": [
      "NVA_21-003.IMMCORE.C1v1_15T027584-13-ImvessC1-4518.czi_Layer 1.csv\n"
     ]
    },
    {
     "name": "stderr",
     "output_type": "stream",
     "text": [
      "randomization: 100%|██████████| 10/10 [00:13<00:00,  1.31s/it]\n"
     ]
    },
    {
     "name": "stdout",
     "output_type": "stream",
     "text": [
      "NVA_21-003.IMMCORE.C1v1_16T006366-4-ImvessC1-4518.czi_Layer 1.csv\n"
     ]
    },
    {
     "name": "stderr",
     "output_type": "stream",
     "text": [
      "randomization: 100%|██████████| 10/10 [00:02<00:00,  3.36it/s]\n"
     ]
    },
    {
     "name": "stdout",
     "output_type": "stream",
     "text": [
      "NVA_21-003.IMMCORE.C1v1_17T003826-06-ImvessC1-4518.czi_Layer 1.csv\n"
     ]
    },
    {
     "name": "stderr",
     "output_type": "stream",
     "text": [
      "randomization: 100%|██████████| 10/10 [00:13<00:00,  1.30s/it]\n"
     ]
    },
    {
     "name": "stdout",
     "output_type": "stream",
     "text": [
      "NVA_21-003.IMMCORE.C2v1_15T019351-08-ImvessC2-4321.czi_Layer 1.csv\n"
     ]
    },
    {
     "name": "stderr",
     "output_type": "stream",
     "text": [
      "randomization: 100%|██████████| 10/10 [00:43<00:00,  4.34s/it]\n"
     ]
    },
    {
     "name": "stdout",
     "output_type": "stream",
     "text": [
      "NVA_21-003.IMMCORE.C1v1_17T018454-05-Z1-ImvessC1-4518.czi_Layer 1.csv\n"
     ]
    },
    {
     "name": "stderr",
     "output_type": "stream",
     "text": [
      "randomization: 100%|██████████| 10/10 [00:08<00:00,  1.16it/s]\n"
     ]
    },
    {
     "name": "stdout",
     "output_type": "stream",
     "text": [
      "NVA_21-003.IMMCORE.C2v1_18T047929-09-Z1-ImvessC2-4321.czi_Layer 1.csv\n"
     ]
    },
    {
     "name": "stderr",
     "output_type": "stream",
     "text": [
      "randomization: 100%|██████████| 10/10 [00:52<00:00,  5.20s/it]\n"
     ]
    },
    {
     "name": "stdout",
     "output_type": "stream",
     "text": [
      "NVA_21-003.IMMCORE.C1v1_16T042639-11-Z1-ImvessC1-4518.czi_Layer 1.csv\n"
     ]
    },
    {
     "name": "stderr",
     "output_type": "stream",
     "text": [
      "randomization: 100%|██████████| 10/10 [00:08<00:00,  1.18it/s]\n"
     ]
    },
    {
     "name": "stdout",
     "output_type": "stream",
     "text": [
      "NVA_21-003.IMMCORE.C1v1_19T002076-07-Z1-ImvessC1-4518.czi_Layer 1.csv\n"
     ]
    },
    {
     "name": "stderr",
     "output_type": "stream",
     "text": [
      "randomization: 100%|██████████| 10/10 [00:33<00:00,  3.39s/it]\n"
     ]
    },
    {
     "name": "stdout",
     "output_type": "stream",
     "text": [
      "NVA_21-003.IMMCORE.C1v1_17T020895-03-Z1-ImvessC1-4518.czi_Layer 1.csv\n"
     ]
    },
    {
     "name": "stderr",
     "output_type": "stream",
     "text": [
      "randomization: 100%|██████████| 10/10 [00:21<00:00,  2.19s/it]\n"
     ]
    },
    {
     "name": "stdout",
     "output_type": "stream",
     "text": [
      "NVA_21-003.IMMCORE.C1v1_19T002076-07-Z2-ImvessC1-4518.czi_Layer 1.csv\n"
     ]
    },
    {
     "name": "stderr",
     "output_type": "stream",
     "text": [
      "randomization: 100%|██████████| 10/10 [00:11<00:00,  1.14s/it]\n"
     ]
    },
    {
     "name": "stdout",
     "output_type": "stream",
     "text": [
      "NVA_21-003.IMMCORE.C1v1_15T010760-09-Z2-ImvessC1-4518.czi_Layer 1.csv\n"
     ]
    },
    {
     "name": "stderr",
     "output_type": "stream",
     "text": [
      "randomization: 100%|██████████| 10/10 [00:01<00:00,  7.81it/s]\n"
     ]
    },
    {
     "name": "stdout",
     "output_type": "stream",
     "text": [
      "NVA_21-003.IMMCORE.C2v1_16T037314-11-Z2-ImvessC2-4321.czi_Layer 2.csv\n"
     ]
    },
    {
     "name": "stderr",
     "output_type": "stream",
     "text": [
      "randomization: 100%|██████████| 10/10 [00:00<00:00, 12.04it/s]\n"
     ]
    },
    {
     "name": "stdout",
     "output_type": "stream",
     "text": [
      "NVA_21-003.IMMCORE.C1v1_15T046951-1-ImvessC1-4518.czi_Layer 2.csv\n"
     ]
    },
    {
     "name": "stderr",
     "output_type": "stream",
     "text": [
      "randomization: 100%|██████████| 10/10 [00:00<00:00, 26.64it/s]\n"
     ]
    },
    {
     "name": "stdout",
     "output_type": "stream",
     "text": [
      "NVA_21-003.IMMCORE.C2v1_16T008211-9-ImvessC2-4321.czi_Layer 2.csv\n"
     ]
    },
    {
     "name": "stderr",
     "output_type": "stream",
     "text": [
      "randomization: 100%|██████████| 10/10 [00:03<00:00,  2.84it/s]\n"
     ]
    },
    {
     "name": "stdout",
     "output_type": "stream",
     "text": [
      "NVA_21-003.IMMCORE.C2v1_19T020336-21-ImvessC2-4321.czi_Layer 2.csv\n"
     ]
    },
    {
     "name": "stderr",
     "output_type": "stream",
     "text": [
      "randomization: 100%|██████████| 10/10 [00:01<00:00,  6.82it/s]\n"
     ]
    },
    {
     "name": "stdout",
     "output_type": "stream",
     "text": [
      "NVA_21-003.IMMCORE.C1v1_17T003826-06-ImvessC1-4518.czi_Layer 2.csv\n"
     ]
    },
    {
     "name": "stderr",
     "output_type": "stream",
     "text": [
      "randomization: 100%|██████████| 10/10 [00:00<00:00, 27.11it/s]\n"
     ]
    },
    {
     "name": "stdout",
     "output_type": "stream",
     "text": [
      "NVA_21-003.IMMCORE.C1v1_17T018454-05-Z1-ImvessC1-4518.czi_Layer 2.csv\n"
     ]
    },
    {
     "name": "stderr",
     "output_type": "stream",
     "text": [
      "randomization: 100%|██████████| 10/10 [00:00<00:00, 12.06it/s]\n"
     ]
    },
    {
     "name": "stdout",
     "output_type": "stream",
     "text": [
      "NVA_21-003.IMMCORE.C2v1_18T047929-09-Z2-ImvessC2-4321.czi_Layer 2.csv\n"
     ]
    },
    {
     "name": "stderr",
     "output_type": "stream",
     "text": [
      "randomization: 100%|██████████| 10/10 [00:00<00:00, 13.27it/s]\n"
     ]
    },
    {
     "name": "stdout",
     "output_type": "stream",
     "text": [
      "NVA_21-003.IMMCORE.C2v1_15T052601-14-Z1-ImvessC2-4321.czi_Layer 2.csv\n"
     ]
    },
    {
     "name": "stderr",
     "output_type": "stream",
     "text": [
      "randomization: 100%|██████████| 10/10 [00:01<00:00,  5.54it/s]\n"
     ]
    },
    {
     "name": "stdout",
     "output_type": "stream",
     "text": [
      "NVA_21-003.IMMCORE.C1v1_17T004343-07-ImvessC1-4518.czi_Layer 2.csv\n"
     ]
    },
    {
     "name": "stderr",
     "output_type": "stream",
     "text": [
      "randomization: 100%|██████████| 10/10 [00:08<00:00,  1.22it/s]\n"
     ]
    },
    {
     "name": "stdout",
     "output_type": "stream",
     "text": [
      "NVA_21-003.IMMCORE.C2v1_15T027584-13-2-ImvessC2-4321.czi_Layer 2.csv\n"
     ]
    },
    {
     "name": "stderr",
     "output_type": "stream",
     "text": [
      "randomization: 100%|██████████| 10/10 [00:00<00:00, 26.62it/s]\n"
     ]
    },
    {
     "name": "stdout",
     "output_type": "stream",
     "text": [
      "NVA_21-003.IMMCORE.C1v1_16T013087-8-ImvessC1-4518.czi_Layer 2.csv\n"
     ]
    },
    {
     "name": "stderr",
     "output_type": "stream",
     "text": [
      "randomization: 100%|██████████| 10/10 [00:01<00:00,  7.50it/s]\n"
     ]
    },
    {
     "name": "stdout",
     "output_type": "stream",
     "text": [
      "NVA_21-003.IMMCORE.C1v1_16T058343-12-ImvessC1-4518.czi_Layer 2.csv\n"
     ]
    },
    {
     "name": "stderr",
     "output_type": "stream",
     "text": [
      "randomization: 100%|██████████| 10/10 [00:00<00:00, 13.19it/s]\n"
     ]
    },
    {
     "name": "stdout",
     "output_type": "stream",
     "text": [
      "NVA_21-003.IMMCORE.C2v1_17T010264-05-Z1-ImvessC2-4321.czi_Layer 2.csv\n"
     ]
    },
    {
     "name": "stderr",
     "output_type": "stream",
     "text": [
      "randomization: 100%|██████████| 10/10 [00:00<00:00, 19.67it/s]\n"
     ]
    },
    {
     "name": "stdout",
     "output_type": "stream",
     "text": [
      "NVA_21-003.IMMCORE.C1v1_19T037195-08-Z2-ImvessC1-4518.czi_Layer 2.csv\n"
     ]
    },
    {
     "name": "stderr",
     "output_type": "stream",
     "text": [
      "randomization: 100%|██████████| 10/10 [00:00<00:00, 16.65it/s]\n"
     ]
    },
    {
     "name": "stdout",
     "output_type": "stream",
     "text": [
      "NVA_21-003.IMMCORE.C1v1_17T033078-09-Z1-ImvessC1-4518.czi_Layer 2.csv\n"
     ]
    },
    {
     "name": "stderr",
     "output_type": "stream",
     "text": [
      "randomization: 100%|██████████| 10/10 [00:00<00:00, 24.53it/s]\n"
     ]
    },
    {
     "name": "stdout",
     "output_type": "stream",
     "text": [
      "NVA_21-003.IMMCORE.C2v1_19T031111-09-ImvessC2-4321.czi_Layer 2.csv\n"
     ]
    },
    {
     "name": "stderr",
     "output_type": "stream",
     "text": [
      "randomization: 100%|██████████| 10/10 [00:03<00:00,  3.22it/s]\n"
     ]
    },
    {
     "name": "stdout",
     "output_type": "stream",
     "text": [
      "NVA_21-003.IMMCORE.C2v1_18T005297-13-ImvessC2-4321.czi_Layer 2.csv\n"
     ]
    },
    {
     "name": "stderr",
     "output_type": "stream",
     "text": [
      "randomization: 100%|██████████| 10/10 [00:03<00:00,  3.12it/s]\n"
     ]
    },
    {
     "name": "stdout",
     "output_type": "stream",
     "text": [
      "NVA_21-003.IMMCORE.C2v1_15T034275-11-Z1-2-ImvessC2-4321.czi_Layer 2.csv\n"
     ]
    },
    {
     "name": "stderr",
     "output_type": "stream",
     "text": [
      "randomization: 100%|██████████| 10/10 [00:01<00:00,  8.45it/s]\n"
     ]
    },
    {
     "name": "stdout",
     "output_type": "stream",
     "text": [
      "NVA_21-003.IMMCORE.C1v1_19T037195-08-Z1-2-ImvessC1-4518.czi_Layer 2.csv\n"
     ]
    },
    {
     "name": "stderr",
     "output_type": "stream",
     "text": [
      "randomization: 100%|██████████| 10/10 [00:02<00:00,  4.99it/s]\n"
     ]
    },
    {
     "name": "stdout",
     "output_type": "stream",
     "text": [
      "NVA_21-003.IMMCORE.C1v1_15T010760-09-Z1-ImvessC1-4518.czi_Layer 2.csv\n"
     ]
    },
    {
     "name": "stderr",
     "output_type": "stream",
     "text": [
      "randomization: 100%|██████████| 10/10 [00:02<00:00,  4.90it/s]\n"
     ]
    },
    {
     "name": "stdout",
     "output_type": "stream",
     "text": [
      "NVA_21-003.IMMCORE.C1v1_16T037314-11-Z3-ImvessC1-4518.czi_Layer 2.csv\n"
     ]
    },
    {
     "name": "stderr",
     "output_type": "stream",
     "text": [
      "randomization: 100%|██████████| 10/10 [00:00<00:00, 31.15it/s]\n"
     ]
    },
    {
     "name": "stdout",
     "output_type": "stream",
     "text": [
      "NVA_21-003.IMMCORE.C2v1_17T021098-13-Z1-ImvessC2-4321.czi_Layer 2.csv\n"
     ]
    },
    {
     "name": "stderr",
     "output_type": "stream",
     "text": [
      "randomization: 100%|██████████| 10/10 [00:00<00:00, 15.54it/s]\n"
     ]
    },
    {
     "name": "stdout",
     "output_type": "stream",
     "text": [
      "NVA_21-003.IMMCORE.C1v1_17T048267-11-Z3-ImvessC1-4518.czi_Layer 2.csv\n"
     ]
    },
    {
     "name": "stderr",
     "output_type": "stream",
     "text": [
      "randomization: 100%|██████████| 10/10 [00:00<00:00, 32.90it/s]\n"
     ]
    },
    {
     "name": "stdout",
     "output_type": "stream",
     "text": [
      "NVA_21-003.IMMCORE.C2v1_16T037314-11-Z1-ImvessC2-4321.czi_Layer 2.csv\n"
     ]
    },
    {
     "name": "stderr",
     "output_type": "stream",
     "text": [
      "randomization: 100%|██████████| 10/10 [00:00<00:00, 19.03it/s]\n"
     ]
    },
    {
     "name": "stdout",
     "output_type": "stream",
     "text": [
      "NVA_21-003.IMMCORE.C1v1_16T008211-9-ImvessC1-4518.czi_Layer 2.csv\n"
     ]
    },
    {
     "name": "stderr",
     "output_type": "stream",
     "text": [
      "randomization: 100%|██████████| 10/10 [00:00<00:00, 16.28it/s]\n"
     ]
    },
    {
     "name": "stdout",
     "output_type": "stream",
     "text": [
      "NVA_21-003.IMMCORE.C2v1_16T022680-3-ImvessC2-4321.czi_Layer 2.csv\n"
     ]
    },
    {
     "name": "stderr",
     "output_type": "stream",
     "text": [
      "randomization: 100%|██████████| 10/10 [00:01<00:00,  5.99it/s]\n"
     ]
    },
    {
     "name": "stdout",
     "output_type": "stream",
     "text": [
      "NVA_21-003.IMMCORE.C1v1_17T006383-09-Z2-ImvessC1-4518.czi_Layer 2.csv\n"
     ]
    },
    {
     "name": "stderr",
     "output_type": "stream",
     "text": [
      "randomization: 100%|██████████| 10/10 [00:01<00:00,  8.70it/s]\n"
     ]
    },
    {
     "name": "stdout",
     "output_type": "stream",
     "text": [
      "NVA_21-003.IMMCORE.C1v1_18T020627-04-Z3-ImvessC1-4518.czi_Layer 2.csv\n"
     ]
    },
    {
     "name": "stderr",
     "output_type": "stream",
     "text": [
      "randomization: 100%|██████████| 10/10 [00:00<00:00, 22.88it/s]\n"
     ]
    },
    {
     "name": "stdout",
     "output_type": "stream",
     "text": [
      "NVA_21-003.IMMCORE.C2v1_17T048267-11-Z3-ImvessC2-4321.czi_Layer 2.csv\n"
     ]
    },
    {
     "name": "stderr",
     "output_type": "stream",
     "text": [
      "randomization: 100%|██████████| 10/10 [00:00<00:00, 10.28it/s]\n"
     ]
    },
    {
     "name": "stdout",
     "output_type": "stream",
     "text": [
      "NVA_21-003.IMMCORE.C1v1_18T011003-05-Z1-ImvessC1-4518.czi_Layer 2.csv\n"
     ]
    },
    {
     "name": "stderr",
     "output_type": "stream",
     "text": [
      "randomization: 100%|██████████| 10/10 [00:00<00:00, 26.77it/s]\n"
     ]
    },
    {
     "name": "stdout",
     "output_type": "stream",
     "text": [
      "NVA_21-003.IMMCORE.C1v1_18T004469-02-Z2-ImvessC1-4518.czi_Layer 2.csv\n"
     ]
    },
    {
     "name": "stderr",
     "output_type": "stream",
     "text": [
      "randomization: 100%|██████████| 10/10 [00:00<00:00, 38.03it/s]\n"
     ]
    },
    {
     "name": "stdout",
     "output_type": "stream",
     "text": [
      "NVA_21-003.IMMCORE.C1v1_18T047929-09-Z2-ImvessC1-4518.czi_Layer 2.csv\n"
     ]
    },
    {
     "name": "stderr",
     "output_type": "stream",
     "text": [
      "randomization: 100%|██████████| 10/10 [00:00<00:00, 24.56it/s]\n"
     ]
    },
    {
     "name": "stdout",
     "output_type": "stream",
     "text": [
      "NVA_21-003.IMMCORE.C2v1_16T042639-11-Z1-ImvessC2-4321.czi_Layer 2.csv\n"
     ]
    },
    {
     "name": "stderr",
     "output_type": "stream",
     "text": [
      "randomization: 100%|██████████| 10/10 [00:00<00:00, 10.14it/s]\n"
     ]
    },
    {
     "name": "stdout",
     "output_type": "stream",
     "text": [
      "NVA_21-003.IMMCORE.C1v1_15T008187-08-ImvessC1-4518.czi_Layer 2.csv\n"
     ]
    },
    {
     "name": "stderr",
     "output_type": "stream",
     "text": [
      "randomization: 100%|██████████| 10/10 [00:00<00:00, 17.35it/s]\n"
     ]
    },
    {
     "name": "stdout",
     "output_type": "stream",
     "text": [
      "NVA_21-003.IMMCORE.C2v1_17T018454-05-Z3-ImvessC2-4321.czi_Layer 2.csv\n"
     ]
    },
    {
     "name": "stderr",
     "output_type": "stream",
     "text": [
      "randomization: 100%|██████████| 10/10 [00:01<00:00,  6.02it/s]\n"
     ]
    },
    {
     "name": "stdout",
     "output_type": "stream",
     "text": [
      "NVA_21-003.IMMCORE.C2v1_15T034275-11-Z2-2-ImvessC2-4321.czi_Layer 2.csv\n"
     ]
    },
    {
     "name": "stderr",
     "output_type": "stream",
     "text": [
      "randomization: 100%|██████████| 10/10 [00:00<00:00, 14.14it/s]\n"
     ]
    },
    {
     "name": "stdout",
     "output_type": "stream",
     "text": [
      "NVA_21-003.IMMCORE.C1v1_16T042639-11-Z1-ImvessC1-4518.czi_Layer 2.csv\n"
     ]
    },
    {
     "name": "stderr",
     "output_type": "stream",
     "text": [
      "randomization: 100%|██████████| 10/10 [00:00<00:00, 19.08it/s]\n"
     ]
    },
    {
     "name": "stdout",
     "output_type": "stream",
     "text": [
      "NVA_21-003.IMMCORE.C1v1_16T037314-11-Z1-ImvessC1-4518.czi_Layer 2.csv\n"
     ]
    },
    {
     "name": "stderr",
     "output_type": "stream",
     "text": [
      "randomization: 100%|██████████| 10/10 [00:00<00:00, 41.92it/s]\n"
     ]
    },
    {
     "name": "stdout",
     "output_type": "stream",
     "text": [
      "NVA_21-003.IMMCORE.C2v1_16T034668-33-ImvessC2-4321.czi_Layer 2.csv\n"
     ]
    },
    {
     "name": "stderr",
     "output_type": "stream",
     "text": [
      "randomization: 100%|██████████| 10/10 [00:02<00:00,  4.01it/s]\n"
     ]
    },
    {
     "name": "stdout",
     "output_type": "stream",
     "text": [
      "NVA_21-003.IMMCORE.C2v1_18T020627-04-Z2-ImvessC2-4321.czi_Layer 2.csv\n"
     ]
    },
    {
     "name": "stderr",
     "output_type": "stream",
     "text": [
      "randomization: 100%|██████████| 10/10 [00:00<00:00, 11.37it/s]\n"
     ]
    },
    {
     "name": "stdout",
     "output_type": "stream",
     "text": [
      "NVA_21-003.IMMCORE.C1v1_17T010264-05-Z1-ImvessC1-4518.czi_Layer 2.csv\n"
     ]
    },
    {
     "name": "stderr",
     "output_type": "stream",
     "text": [
      "randomization: 100%|██████████| 10/10 [00:00<00:00, 48.20it/s]\n"
     ]
    },
    {
     "name": "stdout",
     "output_type": "stream",
     "text": [
      "NVA_21-003.IMMCORE.C1v1_17T021098-13-Z2-ImvessC1-4518.czi_Layer 2.csv\n"
     ]
    },
    {
     "name": "stderr",
     "output_type": "stream",
     "text": [
      "randomization: 100%|██████████| 10/10 [00:00<00:00, 23.99it/s]\n"
     ]
    },
    {
     "name": "stdout",
     "output_type": "stream",
     "text": [
      "NVA_21-003.IMMCORE.C1v1_17T020895-03-Z1-ImvessC1-4518.czi_Layer 2.csv\n"
     ]
    },
    {
     "name": "stderr",
     "output_type": "stream",
     "text": [
      "randomization: 100%|██████████| 10/10 [00:00<00:00, 16.76it/s]\n"
     ]
    },
    {
     "name": "stdout",
     "output_type": "stream",
     "text": [
      "NVA_21-003.IMMCORE.C1v1_18T047929-09-Z1-ImvessC1-4518.czi_Layer 2.csv\n"
     ]
    },
    {
     "name": "stderr",
     "output_type": "stream",
     "text": [
      "randomization: 100%|██████████| 10/10 [00:00<00:00, 10.56it/s]\n"
     ]
    },
    {
     "name": "stdout",
     "output_type": "stream",
     "text": [
      "NVA_21-003.IMMCORE.C1v1_18T047929-09-Z3-ImvessC1-4518.czi_Layer 2.csv\n"
     ]
    },
    {
     "name": "stderr",
     "output_type": "stream",
     "text": [
      "randomization: 100%|██████████| 10/10 [00:00<00:00, 11.55it/s]\n"
     ]
    },
    {
     "name": "stdout",
     "output_type": "stream",
     "text": [
      "NVA_21-003.IMMCORE.C2v1_19T041398-05-Z2-2-ImvessC2-4321.czi_Layer 2.csv\n"
     ]
    },
    {
     "name": "stderr",
     "output_type": "stream",
     "text": [
      "randomization: 100%|██████████| 10/10 [00:01<00:00,  7.26it/s]\n"
     ]
    },
    {
     "name": "stdout",
     "output_type": "stream",
     "text": [
      "NVA_21-003.IMMCORE.C2v1_17T033078-09-Z1-ImvessC2-4321.czi_Layer 2.csv\n"
     ]
    },
    {
     "name": "stderr",
     "output_type": "stream",
     "text": [
      "randomization: 100%|██████████| 10/10 [00:00<00:00, 12.87it/s]\n"
     ]
    },
    {
     "name": "stdout",
     "output_type": "stream",
     "text": [
      "NVA_21-003.IMMCORE.C1v1_17T021098-13-Z1-ImvessC1-4518.czi_Layer 2.csv\n"
     ]
    },
    {
     "name": "stderr",
     "output_type": "stream",
     "text": [
      "randomization: 100%|██████████| 10/10 [00:00<00:00, 37.18it/s]\n"
     ]
    },
    {
     "name": "stdout",
     "output_type": "stream",
     "text": [
      "NVA_21-003.IMMCORE.C1v1_19T006284-08-ImvessC1-4518.czi_Layer 2.csv\n"
     ]
    },
    {
     "name": "stderr",
     "output_type": "stream",
     "text": [
      "randomization: 100%|██████████| 10/10 [00:00<00:00, 64.38it/s]\n"
     ]
    },
    {
     "name": "stdout",
     "output_type": "stream",
     "text": [
      "NVA_21-003.IMMCORE.C1v1_18T044196-05-Z2-ImvessC1-4518.czi_Layer 2.csv\n"
     ]
    },
    {
     "name": "stderr",
     "output_type": "stream",
     "text": [
      "randomization: 100%|██████████| 10/10 [00:00<00:00, 12.90it/s]\n"
     ]
    },
    {
     "name": "stdout",
     "output_type": "stream",
     "text": [
      "NVA_21-003.IMMCORE.C1v1_17T006383-09-Z1-ImvessC1-4518.czi_Layer 2.csv\n"
     ]
    },
    {
     "name": "stderr",
     "output_type": "stream",
     "text": [
      "randomization: 100%|██████████| 10/10 [00:01<00:00,  7.76it/s]\n"
     ]
    },
    {
     "name": "stdout",
     "output_type": "stream",
     "text": [
      "NVA_21-003.IMMCORE.C1v1_17T048267-11-Z2-ImvessC1-4518.czi_Layer 2.csv\n"
     ]
    },
    {
     "name": "stderr",
     "output_type": "stream",
     "text": [
      "randomization: 100%|██████████| 10/10 [00:00<00:00, 15.73it/s]\n"
     ]
    },
    {
     "name": "stdout",
     "output_type": "stream",
     "text": [
      "NVA_21-003.IMMCORE.C2v1_18T002383-10-Z1-ImvessC2-4321.czi_Layer 2.csv\n"
     ]
    },
    {
     "name": "stderr",
     "output_type": "stream",
     "text": [
      "randomization: 100%|██████████| 10/10 [00:01<00:00,  5.77it/s]\n"
     ]
    },
    {
     "name": "stdout",
     "output_type": "stream",
     "text": [
      "NVA_21-003.IMMCORE.C2v1_18T040686-03-ImvessC2-4321.czi_Layer 2.csv\n"
     ]
    },
    {
     "name": "stderr",
     "output_type": "stream",
     "text": [
      "randomization: 100%|██████████| 10/10 [00:04<00:00,  2.25it/s]\n"
     ]
    },
    {
     "name": "stdout",
     "output_type": "stream",
     "text": [
      "NVA_21-003.IMMCORE.C2v1_15T008187-08-ImvessC2-4321.czi_Layer 2.csv\n"
     ]
    },
    {
     "name": "stderr",
     "output_type": "stream",
     "text": [
      "randomization: 100%|██████████| 10/10 [00:01<00:00,  7.84it/s]\n"
     ]
    },
    {
     "name": "stdout",
     "output_type": "stream",
     "text": [
      "NVA_21-003.IMMCORE.C2v1_17T018454-05-Z1-ImvessC2-4321.czi_Layer 2.csv\n"
     ]
    },
    {
     "name": "stderr",
     "output_type": "stream",
     "text": [
      "randomization: 100%|██████████| 10/10 [00:02<00:00,  4.88it/s]\n"
     ]
    },
    {
     "name": "stdout",
     "output_type": "stream",
     "text": [
      "NVA_21-003.IMMCORE.C2v1_17T020895-03-Z1-ImvessC2-4321.czi_Layer 2.csv\n"
     ]
    },
    {
     "name": "stderr",
     "output_type": "stream",
     "text": [
      "randomization: 100%|██████████| 10/10 [00:01<00:00,  7.47it/s]\n"
     ]
    },
    {
     "name": "stdout",
     "output_type": "stream",
     "text": [
      "NVA_21-003.IMMCORE.C1v1_19T020336-21-ImvessC1-4518.czi_Layer 2.csv\n"
     ]
    },
    {
     "name": "stderr",
     "output_type": "stream",
     "text": [
      "randomization: 100%|██████████| 10/10 [00:02<00:00,  3.96it/s]\n"
     ]
    },
    {
     "name": "stdout",
     "output_type": "stream",
     "text": [
      "NVA_21-003.IMMCORE.C1v1_16T034668-33-ImvessC1-4518.czi_Layer 2.csv\n"
     ]
    },
    {
     "name": "stderr",
     "output_type": "stream",
     "text": [
      "randomization: 100%|██████████| 10/10 [00:00<00:00, 11.48it/s]\n"
     ]
    },
    {
     "name": "stdout",
     "output_type": "stream",
     "text": [
      "NVA_21-003.IMMCORE.C1v1_17T018454-05-Z3-ImvessC1-4518.czi_Layer 2.csv\n"
     ]
    },
    {
     "name": "stderr",
     "output_type": "stream",
     "text": [
      "randomization: 100%|██████████| 10/10 [00:00<00:00, 15.02it/s]\n"
     ]
    },
    {
     "name": "stdout",
     "output_type": "stream",
     "text": [
      "NVA_21-003.IMMCORE.C1v1_15T052601-14-Z1-ImvessC1-4518.czi_Layer 2.csv\n"
     ]
    },
    {
     "name": "stderr",
     "output_type": "stream",
     "text": [
      "randomization: 100%|██████████| 10/10 [00:01<00:00,  7.47it/s]\n"
     ]
    },
    {
     "name": "stdout",
     "output_type": "stream",
     "text": [
      "NVA_21-003.IMMCORE.C2v1_19T037195-08-Z1-2-ImvessC2-4321.czi_Layer 2.csv\n"
     ]
    },
    {
     "name": "stderr",
     "output_type": "stream",
     "text": [
      "randomization: 100%|██████████| 10/10 [00:03<00:00,  3.26it/s]\n"
     ]
    },
    {
     "name": "stdout",
     "output_type": "stream",
     "text": [
      "NVA_21-003.IMMCORE.C1v1_16T042639-11-Z2-ImvessC1-4518.czi_Layer 2.csv\n"
     ]
    },
    {
     "name": "stderr",
     "output_type": "stream",
     "text": [
      "randomization: 100%|██████████| 10/10 [00:00<00:00, 31.12it/s]\n"
     ]
    },
    {
     "name": "stdout",
     "output_type": "stream",
     "text": [
      "NVA_21-003.IMMCORE.C1v1_18T002383-10-Z1-ImvessC1-4518.czi_Layer 2.csv\n"
     ]
    },
    {
     "name": "stderr",
     "output_type": "stream",
     "text": [
      "randomization: 100%|██████████| 10/10 [00:00<00:00, 12.51it/s]\n"
     ]
    },
    {
     "name": "stdout",
     "output_type": "stream",
     "text": [
      "NVA_21-003.IMMCORE.C2v1_19T006284-08-ImvessC2-4321.czi_Layer 2.csv\n"
     ]
    },
    {
     "name": "stderr",
     "output_type": "stream",
     "text": [
      "randomization: 100%|██████████| 10/10 [00:00<00:00, 41.11it/s]\n"
     ]
    },
    {
     "name": "stdout",
     "output_type": "stream",
     "text": [
      "NVA_21-003.IMMCORE.C1v1_17T018454-05-Z2-ImvessC1-4518.czi_Layer 2.csv\n"
     ]
    },
    {
     "name": "stderr",
     "output_type": "stream",
     "text": [
      "randomization: 100%|██████████| 10/10 [00:01<00:00,  6.66it/s]\n"
     ]
    },
    {
     "name": "stdout",
     "output_type": "stream",
     "text": [
      "NVA_21-003.IMMCORE.C1v1_18T020627-04-Z2-ImvessC1-4518.czi_Layer 2.csv\n"
     ]
    },
    {
     "name": "stderr",
     "output_type": "stream",
     "text": [
      "randomization: 100%|██████████| 10/10 [00:00<00:00, 27.89it/s]\n"
     ]
    },
    {
     "name": "stdout",
     "output_type": "stream",
     "text": [
      "NVA_21-003.IMMCORE.C2v1_19T041398-05-Z1-ImvessC2-4321.czi_Layer 2.csv\n"
     ]
    },
    {
     "name": "stderr",
     "output_type": "stream",
     "text": [
      "randomization: 100%|██████████| 10/10 [00:00<00:00, 10.73it/s]\n"
     ]
    },
    {
     "name": "stdout",
     "output_type": "stream",
     "text": [
      "NVA_21-003.IMMCORE.C1v1_16T006366-4-ImvessC1-4518.czi_Layer 2.csv\n"
     ]
    },
    {
     "name": "stderr",
     "output_type": "stream",
     "text": [
      "randomization: 100%|██████████| 10/10 [00:00<00:00, 10.15it/s]\n"
     ]
    },
    {
     "name": "stdout",
     "output_type": "stream",
     "text": [
      "NVA_21-003.IMMCORE.C1v1_16T019939-10-ImvessC1-4518.czi_Layer 2.csv\n"
     ]
    },
    {
     "name": "stderr",
     "output_type": "stream",
     "text": [
      "randomization: 100%|██████████| 10/10 [00:00<00:00, 15.06it/s]\n"
     ]
    },
    {
     "name": "stdout",
     "output_type": "stream",
     "text": [
      "NVA_21-003.IMMCORE.C2v1_17T006383-09-Z2-ImvessC2-4321.czi_Layer 2.csv\n"
     ]
    },
    {
     "name": "stderr",
     "output_type": "stream",
     "text": [
      "randomization: 100%|██████████| 10/10 [00:02<00:00,  3.34it/s]\n"
     ]
    },
    {
     "name": "stdout",
     "output_type": "stream",
     "text": [
      "NVA_21-003.IMMCORE.C1v1_15T019351-08-ImvessC1-4518.czi_Layer 2.csv\n"
     ]
    },
    {
     "name": "stderr",
     "output_type": "stream",
     "text": [
      "randomization: 100%|██████████| 10/10 [00:03<00:00,  2.63it/s]\n"
     ]
    },
    {
     "name": "stdout",
     "output_type": "stream",
     "text": [
      "NVA_21-003.IMMCORE.C2v1_18T044196-05-Z1-ImvessC2-4321.czi_Layer 2.csv\n"
     ]
    },
    {
     "name": "stderr",
     "output_type": "stream",
     "text": [
      "randomization: 100%|██████████| 10/10 [00:01<00:00,  6.19it/s]\n"
     ]
    },
    {
     "name": "stdout",
     "output_type": "stream",
     "text": [
      "NVA_21-003.IMMCORE.C1v1_18T044196-05-Z1-ImvessC1-4518.czi_Layer 2.csv\n"
     ]
    },
    {
     "name": "stderr",
     "output_type": "stream",
     "text": [
      "randomization: 100%|██████████| 10/10 [00:01<00:00,  9.64it/s]\n"
     ]
    },
    {
     "name": "stdout",
     "output_type": "stream",
     "text": [
      "NVA_21-003.IMMCORE.C2v1_18T044196-05-Z2-ImvessC2-4321.czi_Layer 2.csv\n"
     ]
    },
    {
     "name": "stderr",
     "output_type": "stream",
     "text": [
      "randomization: 100%|██████████| 10/10 [00:01<00:00,  6.38it/s]\n"
     ]
    },
    {
     "name": "stdout",
     "output_type": "stream",
     "text": [
      "NVA_21-003.IMMCORE.C1v1_16T037314-11-Z2-ImvessC1-4518.czi_Layer 2.csv\n"
     ]
    },
    {
     "name": "stderr",
     "output_type": "stream",
     "text": [
      "randomization: 100%|██████████| 10/10 [00:00<00:00, 21.35it/s]\n"
     ]
    },
    {
     "name": "stdout",
     "output_type": "stream",
     "text": [
      "NVA_21-003.IMMCORE.C1v1_19T031111-09-ImvessC1-4518.czi_Layer 2.csv\n"
     ]
    },
    {
     "name": "stderr",
     "output_type": "stream",
     "text": [
      "randomization: 100%|██████████| 10/10 [00:02<00:00,  4.67it/s]\n"
     ]
    },
    {
     "name": "stdout",
     "output_type": "stream",
     "text": [
      "NVA_21-003.IMMCORE.C1v1_15T034275-11-Z2-2-ImvessC1-4518.czi_Layer 2.csv\n"
     ]
    },
    {
     "name": "stderr",
     "output_type": "stream",
     "text": [
      "randomization: 100%|██████████| 10/10 [00:00<00:00, 15.06it/s]\n"
     ]
    },
    {
     "name": "stdout",
     "output_type": "stream",
     "text": [
      "NVA_21-003.IMMCORE.C1v1_15T034275-11-Z1-2-ImvessC1-4518.czi_Layer 2.csv\n"
     ]
    },
    {
     "name": "stderr",
     "output_type": "stream",
     "text": [
      "randomization: 100%|██████████| 10/10 [00:01<00:00,  9.16it/s]\n"
     ]
    },
    {
     "name": "stdout",
     "output_type": "stream",
     "text": [
      "NVA_21-003.IMMCORE.C1v1_19T041398-05-Z1-ImvessC1-4518.czi_Layer 2.csv\n"
     ]
    },
    {
     "name": "stderr",
     "output_type": "stream",
     "text": [
      "randomization: 100%|██████████| 10/10 [00:00<00:00, 52.23it/s]\n"
     ]
    },
    {
     "name": "stdout",
     "output_type": "stream",
     "text": [
      "NVA_21-003.IMMCORE.C1v1_18T054305-08-ImvessC1-4518.czi_Layer 2.csv\n"
     ]
    },
    {
     "name": "stderr",
     "output_type": "stream",
     "text": [
      "randomization: 100%|██████████| 10/10 [00:00<00:00, 13.61it/s]\n"
     ]
    },
    {
     "name": "stdout",
     "output_type": "stream",
     "text": [
      "NVA_21-003.IMMCORE.C1v1_18T002383-10-Z2-ImvessC1-4518.czi_Layer 2.csv\n"
     ]
    },
    {
     "name": "stderr",
     "output_type": "stream",
     "text": [
      "randomization: 100%|██████████| 10/10 [00:00<00:00, 12.42it/s]\n"
     ]
    },
    {
     "name": "stdout",
     "output_type": "stream",
     "text": [
      "NVA_21-003.IMMCORE.C1v1_19T002076-07-Z1-ImvessC1-4518.czi_Layer 2.csv\n"
     ]
    },
    {
     "name": "stderr",
     "output_type": "stream",
     "text": [
      "randomization: 100%|██████████| 10/10 [00:00<00:00, 10.87it/s]\n"
     ]
    },
    {
     "name": "stdout",
     "output_type": "stream",
     "text": [
      "NVA_21-003.IMMCORE.C2v1_18T004469-02-Z2-ImvessC2-4321.czi_Layer 2.csv\n"
     ]
    },
    {
     "name": "stderr",
     "output_type": "stream",
     "text": [
      "randomization: 100%|██████████| 10/10 [00:01<00:00,  7.90it/s]\n"
     ]
    },
    {
     "name": "stdout",
     "output_type": "stream",
     "text": [
      "NVA_21-003.IMMCORE.C2v1_19T002076-07-Z1-ImvessC2-4321.czi_Layer 2.csv\n"
     ]
    },
    {
     "name": "stderr",
     "output_type": "stream",
     "text": [
      "randomization: 100%|██████████| 10/10 [00:01<00:00,  5.77it/s]\n"
     ]
    },
    {
     "name": "stdout",
     "output_type": "stream",
     "text": [
      "NVA_21-003.IMMCORE.C1v1_15T011146-16-2-ImvessC1-4518.czi_Layer 2.csv\n"
     ]
    },
    {
     "name": "stderr",
     "output_type": "stream",
     "text": [
      "randomization: 100%|██████████| 10/10 [00:01<00:00,  6.39it/s]\n"
     ]
    },
    {
     "name": "stdout",
     "output_type": "stream",
     "text": [
      "NVA_21-003.IMMCORE.C1v1_17T054628-06-Z2-ImvessC1-4518.czi_Layer 2.csv\n"
     ]
    },
    {
     "name": "stderr",
     "output_type": "stream",
     "text": [
      "randomization: 100%|██████████| 10/10 [00:00<00:00, 10.74it/s]\n"
     ]
    },
    {
     "name": "stdout",
     "output_type": "stream",
     "text": [
      "NVA_21-003.IMMCORE.C1v1_15T027584-13-ImvessC1-4518.czi_Layer 2.csv\n"
     ]
    },
    {
     "name": "stderr",
     "output_type": "stream",
     "text": [
      "randomization: 100%|██████████| 10/10 [00:00<00:00, 40.63it/s]\n"
     ]
    },
    {
     "name": "stdout",
     "output_type": "stream",
     "text": [
      "NVA_21-003.IMMCORE.C2v1_16T042639-11-Z2-ImvessC2-4321.czi_Layer 2.csv\n"
     ]
    },
    {
     "name": "stderr",
     "output_type": "stream",
     "text": [
      "randomization: 100%|██████████| 10/10 [00:00<00:00, 22.45it/s]\n"
     ]
    },
    {
     "name": "stdout",
     "output_type": "stream",
     "text": [
      "NVA_21-003.IMMCORE.C2v1_18T047929-09-Z1-ImvessC2-4321.czi_Layer 2.csv\n"
     ]
    },
    {
     "name": "stderr",
     "output_type": "stream",
     "text": [
      "randomization: 100%|██████████| 10/10 [00:02<00:00,  3.52it/s]\n"
     ]
    },
    {
     "name": "stdout",
     "output_type": "stream",
     "text": [
      "NVA_21-003.IMMCORE.C1v1_17T020615-09-2-ImvessC1-4518.czi_Layer 2.csv\n"
     ]
    },
    {
     "name": "stderr",
     "output_type": "stream",
     "text": [
      "randomization: 100%|██████████| 10/10 [00:01<00:00,  8.12it/s]\n"
     ]
    },
    {
     "name": "stdout",
     "output_type": "stream",
     "text": [
      "NVA_21-003.IMMCORE.C2v1_18T054305-08-ImvessC2-4321.czi_Layer 2.csv\n"
     ]
    },
    {
     "name": "stderr",
     "output_type": "stream",
     "text": [
      "randomization: 100%|██████████| 10/10 [00:01<00:00,  5.63it/s]\n"
     ]
    },
    {
     "name": "stdout",
     "output_type": "stream",
     "text": [
      "NVA_21-003.IMMCORE.C1v1_15T052601-14-Z2-ImvessC1-4518.czi_Layer 2.csv\n"
     ]
    },
    {
     "name": "stderr",
     "output_type": "stream",
     "text": [
      "randomization: 100%|██████████| 10/10 [00:00<00:00, 21.71it/s]\n"
     ]
    },
    {
     "name": "stdout",
     "output_type": "stream",
     "text": [
      "NVA_21-003.IMMCORE.C2v1_15T010760-09-Z1-ImvessC2-4321.czi_Layer 2.csv\n"
     ]
    },
    {
     "name": "stderr",
     "output_type": "stream",
     "text": [
      "randomization: 100%|██████████| 10/10 [00:01<00:00,  5.92it/s]\n"
     ]
    },
    {
     "name": "stdout",
     "output_type": "stream",
     "text": [
      "NVA_21-003.IMMCORE.C2v1_18T002383-10-Z2-ImvessC2-4321.czi_Layer 2.csv\n"
     ]
    },
    {
     "name": "stderr",
     "output_type": "stream",
     "text": [
      "randomization: 100%|██████████| 10/10 [00:01<00:00,  5.73it/s]\n"
     ]
    },
    {
     "name": "stdout",
     "output_type": "stream",
     "text": [
      "NVA_21-003.IMMCORE.C2v1_17T004343-07-ImvessC2-4321.czi_Layer 2.csv\n"
     ]
    },
    {
     "name": "stderr",
     "output_type": "stream",
     "text": [
      "randomization: 100%|██████████| 10/10 [00:10<00:00,  1.10s/it]\n"
     ]
    },
    {
     "name": "stdout",
     "output_type": "stream",
     "text": [
      "NVA_21-003.IMMCORE.C2v1_17T006383-09-Z1-ImvessC2-4321.czi_Layer 2.csv\n"
     ]
    },
    {
     "name": "stderr",
     "output_type": "stream",
     "text": [
      "randomization: 100%|██████████| 10/10 [00:03<00:00,  2.76it/s]\n"
     ]
    },
    {
     "name": "stdout",
     "output_type": "stream",
     "text": [
      "NVA_21-003.IMMCORE.C1v1_18T040686-03-ImvessC1-4518.czi_Layer 2.csv\n"
     ]
    },
    {
     "name": "stderr",
     "output_type": "stream",
     "text": [
      "randomization: 100%|██████████| 10/10 [00:01<00:00,  5.65it/s]\n"
     ]
    },
    {
     "name": "stdout",
     "output_type": "stream",
     "text": [
      "NVA_21-003.IMMCORE.C2v1_17T021098-13-Z2-ImvessC2-4321.czi_Layer 2.csv\n"
     ]
    },
    {
     "name": "stderr",
     "output_type": "stream",
     "text": [
      "randomization: 100%|██████████| 10/10 [00:01<00:00,  5.31it/s]\n"
     ]
    },
    {
     "name": "stdout",
     "output_type": "stream",
     "text": [
      "NVA_21-003.IMMCORE.C2v1_15T011146-16-ImvessC2-4321.czi_Layer 2.csv\n"
     ]
    },
    {
     "name": "stderr",
     "output_type": "stream",
     "text": [
      "randomization: 100%|██████████| 10/10 [00:02<00:00,  4.75it/s]\n"
     ]
    },
    {
     "name": "stdout",
     "output_type": "stream",
     "text": [
      "NVA_21-003.IMMCORE.C2v1_17T048267-11-Z2-ImvessC2-4321.czi_Layer 2.csv\n"
     ]
    },
    {
     "name": "stderr",
     "output_type": "stream",
     "text": [
      "randomization: 100%|██████████| 10/10 [00:02<00:00,  4.02it/s]\n"
     ]
    },
    {
     "name": "stdout",
     "output_type": "stream",
     "text": [
      "NVA_21-003.IMMCORE.C2v1_16T019939-10-ImvessC2-4321.czi_Layer 2.csv\n"
     ]
    },
    {
     "name": "stderr",
     "output_type": "stream",
     "text": [
      "randomization: 100%|██████████| 10/10 [00:01<00:00,  7.99it/s]\n"
     ]
    },
    {
     "name": "stdout",
     "output_type": "stream",
     "text": [
      "NVA_21-003.IMMCORE.C2v1_17T033078-09-Z2-ImvessC2-4321.czi_Layer 2.csv\n"
     ]
    },
    {
     "name": "stderr",
     "output_type": "stream",
     "text": [
      "randomization: 100%|██████████| 10/10 [00:01<00:00,  8.89it/s]\n"
     ]
    },
    {
     "name": "stdout",
     "output_type": "stream",
     "text": [
      "NVA_21-003.IMMCORE.C1v1_15T010441-02-ImvessC1-4518.czi_Layer 2.csv\n"
     ]
    },
    {
     "name": "stderr",
     "output_type": "stream",
     "text": [
      "randomization: 100%|██████████| 10/10 [00:00<00:00, 22.22it/s]\n"
     ]
    },
    {
     "name": "stdout",
     "output_type": "stream",
     "text": [
      "NVA_21-003.IMMCORE.C2v1_16T006366-4-ImvessC2-4321.czi_Layer 2.csv\n"
     ]
    },
    {
     "name": "stderr",
     "output_type": "stream",
     "text": [
      "randomization: 100%|██████████| 10/10 [00:02<00:00,  3.90it/s]\n"
     ]
    },
    {
     "name": "stdout",
     "output_type": "stream",
     "text": [
      "NVA_21-003.IMMCORE.C1v1_16T022680-3-ImvessC1-4518.czi_Layer 2.csv\n"
     ]
    },
    {
     "name": "stderr",
     "output_type": "stream",
     "text": [
      "randomization: 100%|██████████| 10/10 [00:01<00:00,  8.55it/s]\n"
     ]
    },
    {
     "name": "stdout",
     "output_type": "stream",
     "text": [
      "NVA_21-003.IMMCORE.C2v1_18T047929-09-Z3-ImvessC2-4321.czi_Layer 2.csv\n"
     ]
    },
    {
     "name": "stderr",
     "output_type": "stream",
     "text": [
      "randomization: 100%|██████████| 10/10 [00:02<00:00,  4.70it/s]\n"
     ]
    },
    {
     "name": "stdout",
     "output_type": "stream",
     "text": [
      "NVA_21-003.IMMCORE.C1v1_18T020627-04-Z1-ImvessC1-4518.czi_Layer 2.csv\n"
     ]
    },
    {
     "name": "stderr",
     "output_type": "stream",
     "text": [
      "randomization: 100%|██████████| 10/10 [00:02<00:00,  3.72it/s]\n"
     ]
    },
    {
     "name": "stdout",
     "output_type": "stream",
     "text": [
      "NVA_21-003.IMMCORE.C1v1_17T033078-09-Z2-ImvessC1-4518.czi_Layer 2.csv\n"
     ]
    },
    {
     "name": "stderr",
     "output_type": "stream",
     "text": [
      "randomization: 100%|██████████| 10/10 [00:00<00:00, 16.75it/s]\n"
     ]
    },
    {
     "name": "stdout",
     "output_type": "stream",
     "text": [
      "NVA_21-003.IMMCORE.C1v1_18T009975-12-ImvessC1-4518.czi_Layer 2.csv\n"
     ]
    },
    {
     "name": "stderr",
     "output_type": "stream",
     "text": [
      "randomization: 100%|██████████| 10/10 [00:00<00:00, 22.04it/s]\n"
     ]
    },
    {
     "name": "stdout",
     "output_type": "stream",
     "text": [
      "NVA_21-003.IMMCORE.C2v1_17T054628-06-Z2-ImvessC2-4321.czi_Layer 2.csv\n"
     ]
    },
    {
     "name": "stderr",
     "output_type": "stream",
     "text": [
      "randomization: 100%|██████████| 10/10 [00:02<00:00,  4.33it/s]\n"
     ]
    },
    {
     "name": "stdout",
     "output_type": "stream",
     "text": [
      "NVA_21-003.IMMCORE.C1v1_18T005297-13-ImvessC1-4518.czi_Layer 2.csv\n"
     ]
    },
    {
     "name": "stderr",
     "output_type": "stream",
     "text": [
      "randomization: 100%|██████████| 10/10 [00:01<00:00,  8.12it/s]\n"
     ]
    },
    {
     "name": "stdout",
     "output_type": "stream",
     "text": [
      "NVA_21-003.IMMCORE.C2v1_15T019351-08-ImvessC2-4321.czi_Layer 2.csv\n"
     ]
    },
    {
     "name": "stderr",
     "output_type": "stream",
     "text": [
      "randomization: 100%|██████████| 10/10 [00:05<00:00,  1.71it/s]\n"
     ]
    },
    {
     "name": "stdout",
     "output_type": "stream",
     "text": [
      "NVA_21-003.IMMCORE.C1v1_19T041398-05-Z2-ImvessC1-4518.czi_Layer 2.csv\n"
     ]
    },
    {
     "name": "stderr",
     "output_type": "stream",
     "text": [
      "randomization: 100%|██████████| 10/10 [00:00<00:00, 24.76it/s]\n"
     ]
    },
    {
     "name": "stdout",
     "output_type": "stream",
     "text": [
      "NVA_21-003.IMMCORE.C2v1_15T027584-13-2-ImvessC2-4321.czi_Layer 3.csv\n"
     ]
    },
    {
     "name": "stderr",
     "output_type": "stream",
     "text": [
      "randomization: 100%|██████████| 10/10 [00:02<00:00,  4.08it/s]\n"
     ]
    },
    {
     "name": "stdout",
     "output_type": "stream",
     "text": [
      "NVA_21-003.IMMCORE.C1v1_18T047929-09-Z1-ImvessC1-4518.czi_Layer 3.csv\n"
     ]
    },
    {
     "name": "stderr",
     "output_type": "stream",
     "text": [
      "randomization: 100%|██████████| 10/10 [00:08<00:00,  1.17it/s]\n"
     ]
    },
    {
     "name": "stdout",
     "output_type": "stream",
     "text": [
      "NVA_21-003.IMMCORE.C2v1_17T054628-06-Z2-ImvessC2-4321.czi_Layer 3.csv\n"
     ]
    },
    {
     "name": "stderr",
     "output_type": "stream",
     "text": [
      "randomization: 100%|██████████| 10/10 [00:04<00:00,  2.07it/s]\n"
     ]
    },
    {
     "name": "stdout",
     "output_type": "stream",
     "text": [
      "NVA_21-003.IMMCORE.C1v1_15T027584-13-ImvessC1-4518.czi_Layer 3.csv\n"
     ]
    },
    {
     "name": "stderr",
     "output_type": "stream",
     "text": [
      "randomization: 100%|██████████| 10/10 [00:01<00:00,  6.81it/s]\n"
     ]
    },
    {
     "name": "stdout",
     "output_type": "stream",
     "text": [
      "NVA_21-003.IMMCORE.C2v1_16T042639-11-Z2-ImvessC2-4321.czi_Layer 3.csv\n"
     ]
    },
    {
     "name": "stderr",
     "output_type": "stream",
     "text": [
      "randomization: 100%|██████████| 10/10 [00:00<00:00, 25.06it/s]\n"
     ]
    },
    {
     "name": "stdout",
     "output_type": "stream",
     "text": [
      "NVA_21-003.IMMCORE.C2v1_16T037314-11-Z2-ImvessC2-4321.czi_Layer 3.csv\n"
     ]
    },
    {
     "name": "stderr",
     "output_type": "stream",
     "text": [
      "randomization: 100%|██████████| 10/10 [00:14<00:00,  1.46s/it]\n"
     ]
    },
    {
     "name": "stdout",
     "output_type": "stream",
     "text": [
      "NVA_21-003.IMMCORE.C2v1_16T037314-11-Z3-ImvessC2-4321.czi_Layer 3.csv\n"
     ]
    },
    {
     "name": "stderr",
     "output_type": "stream",
     "text": [
      "randomization: 100%|██████████| 10/10 [00:01<00:00,  6.90it/s]\n"
     ]
    },
    {
     "name": "stdout",
     "output_type": "stream",
     "text": [
      "NVA_21-003.IMMCORE.C1v1_17T054628-06-Z2-ImvessC1-4518.czi_Layer 3.csv\n"
     ]
    },
    {
     "name": "stderr",
     "output_type": "stream",
     "text": [
      "randomization: 100%|██████████| 10/10 [00:03<00:00,  3.12it/s]\n"
     ]
    },
    {
     "name": "stdout",
     "output_type": "stream",
     "text": [
      "NVA_21-003.IMMCORE.C1v1_15T010441-02-ImvessC1-4518.czi_Layer 3.csv\n"
     ]
    },
    {
     "name": "stderr",
     "output_type": "stream",
     "text": [
      "randomization: 100%|██████████| 10/10 [00:01<00:00,  9.79it/s]\n"
     ]
    },
    {
     "name": "stdout",
     "output_type": "stream",
     "text": [
      "NVA_21-003.IMMCORE.C1v1_16T034668-33-ImvessC1-4518.czi_Layer 3.csv\n"
     ]
    },
    {
     "name": "stderr",
     "output_type": "stream",
     "text": [
      "randomization: 100%|██████████| 10/10 [00:00<00:00, 49.36it/s]\n"
     ]
    },
    {
     "name": "stdout",
     "output_type": "stream",
     "text": [
      "NVA_21-003.IMMCORE.C2v1_18T005297-13-ImvessC2-4321.czi_Layer 3.csv\n"
     ]
    },
    {
     "name": "stderr",
     "output_type": "stream",
     "text": [
      "randomization: 100%|██████████| 10/10 [00:01<00:00,  5.13it/s]\n"
     ]
    },
    {
     "name": "stdout",
     "output_type": "stream",
     "text": [
      "NVA_21-003.IMMCORE.C1v1_18T005297-13-ImvessC1-4518.czi_Layer 3.csv\n"
     ]
    },
    {
     "name": "stderr",
     "output_type": "stream",
     "text": [
      "randomization: 100%|██████████| 10/10 [00:01<00:00,  5.99it/s]\n"
     ]
    },
    {
     "name": "stdout",
     "output_type": "stream",
     "text": [
      "NVA_21-003.IMMCORE.C1v1_19T020336-21-ImvessC1-4518.czi_Layer 3.csv\n"
     ]
    },
    {
     "name": "stderr",
     "output_type": "stream",
     "text": [
      "randomization: 100%|██████████| 10/10 [00:02<00:00,  3.52it/s]\n"
     ]
    },
    {
     "name": "stdout",
     "output_type": "stream",
     "text": [
      "NVA_21-003.IMMCORE.C1v1_15T052601-14-Z2-ImvessC1-4518.czi_Layer 3.csv\n"
     ]
    },
    {
     "name": "stderr",
     "output_type": "stream",
     "text": [
      "randomization: 100%|██████████| 10/10 [00:00<00:00, 11.31it/s]\n"
     ]
    },
    {
     "name": "stdout",
     "output_type": "stream",
     "text": [
      "NVA_21-003.IMMCORE.C2v1_16T037314-11-Z1-ImvessC2-4321.czi_Layer 3.csv\n"
     ]
    },
    {
     "name": "stderr",
     "output_type": "stream",
     "text": [
      "randomization: 100%|██████████| 10/10 [00:03<00:00,  3.24it/s]\n"
     ]
    },
    {
     "name": "stdout",
     "output_type": "stream",
     "text": [
      "NVA_21-003.IMMCORE.C1v1_19T031111-09-ImvessC1-4518.czi_Layer 3.csv\n"
     ]
    },
    {
     "name": "stderr",
     "output_type": "stream",
     "text": [
      "randomization: 100%|██████████| 10/10 [00:04<00:00,  2.33it/s]\n"
     ]
    },
    {
     "name": "stdout",
     "output_type": "stream",
     "text": [
      "NVA_21-003.IMMCORE.C1v1_17T021098-13-Z1-ImvessC1-4518.czi_Layer 3.csv\n"
     ]
    },
    {
     "name": "stderr",
     "output_type": "stream",
     "text": [
      "randomization: 100%|██████████| 10/10 [00:02<00:00,  3.36it/s]\n"
     ]
    },
    {
     "name": "stdout",
     "output_type": "stream",
     "text": [
      "NVA_21-003.IMMCORE.C1v1_16T042639-11-Z2-ImvessC1-4518.czi_Layer 3.csv\n"
     ]
    },
    {
     "name": "stderr",
     "output_type": "stream",
     "text": [
      "randomization: 100%|██████████| 10/10 [00:00<00:00, 29.51it/s]\n"
     ]
    },
    {
     "name": "stdout",
     "output_type": "stream",
     "text": [
      "NVA_21-003.IMMCORE.C1v1_16T037314-11-Z2-ImvessC1-4518.czi_Layer 3.csv\n"
     ]
    },
    {
     "name": "stderr",
     "output_type": "stream",
     "text": [
      "randomization: 100%|██████████| 10/10 [00:09<00:00,  1.05it/s]\n"
     ]
    },
    {
     "name": "stdout",
     "output_type": "stream",
     "text": [
      "NVA_21-003.IMMCORE.C2v1_18T040686-03-ImvessC2-4321.czi_Layer 3.csv\n"
     ]
    },
    {
     "name": "stderr",
     "output_type": "stream",
     "text": [
      "randomization: 100%|██████████| 10/10 [00:04<00:00,  2.13it/s]\n"
     ]
    },
    {
     "name": "stdout",
     "output_type": "stream",
     "text": [
      "NVA_21-003.IMMCORE.C2v1_17T021098-13-Z1-ImvessC2-4321.czi_Layer 3.csv\n"
     ]
    },
    {
     "name": "stderr",
     "output_type": "stream",
     "text": [
      "randomization: 100%|██████████| 10/10 [00:03<00:00,  3.05it/s]\n"
     ]
    },
    {
     "name": "stdout",
     "output_type": "stream",
     "text": [
      "NVA_21-003.IMMCORE.C1v1_15T019351-08-ImvessC1-4518.czi_Layer 3.csv\n"
     ]
    },
    {
     "name": "stderr",
     "output_type": "stream",
     "text": [
      "randomization: 100%|██████████| 10/10 [00:01<00:00,  6.54it/s]\n"
     ]
    },
    {
     "name": "stdout",
     "output_type": "stream",
     "text": [
      "NVA_21-003.IMMCORE.C1v1_17T033078-09-Z1-ImvessC1-4518.czi_Layer 3.csv\n"
     ]
    },
    {
     "name": "stderr",
     "output_type": "stream",
     "text": [
      "randomization: 100%|██████████| 10/10 [00:00<00:00, 22.03it/s]\n"
     ]
    },
    {
     "name": "stdout",
     "output_type": "stream",
     "text": [
      "NVA_21-003.IMMCORE.C2v1_15T010441-02-ImvessC2-4321.czi_Layer 3.csv\n"
     ]
    },
    {
     "name": "stderr",
     "output_type": "stream",
     "text": [
      "randomization: 100%|██████████| 10/10 [00:02<00:00,  4.67it/s]\n"
     ]
    },
    {
     "name": "stdout",
     "output_type": "stream",
     "text": [
      "NVA_21-003.IMMCORE.C2v1_19T037195-08-Z1-2-ImvessC2-4321.czi_Layer 3.csv\n"
     ]
    },
    {
     "name": "stderr",
     "output_type": "stream",
     "text": [
      "randomization: 100%|██████████| 10/10 [00:11<00:00,  1.11s/it]\n"
     ]
    },
    {
     "name": "stdout",
     "output_type": "stream",
     "text": [
      "NVA_21-003.IMMCORE.C2v1_15T034275-11-Z1-2-ImvessC2-4321.czi_Layer 3.csv\n"
     ]
    },
    {
     "name": "stderr",
     "output_type": "stream",
     "text": [
      "randomization: 100%|██████████| 10/10 [00:06<00:00,  1.60it/s]\n"
     ]
    },
    {
     "name": "stdout",
     "output_type": "stream",
     "text": [
      "NVA_21-003.IMMCORE.C1v1_15T052601-14-Z1-ImvessC1-4518.czi_Layer 3.csv\n"
     ]
    },
    {
     "name": "stderr",
     "output_type": "stream",
     "text": [
      "randomization: 100%|██████████| 10/10 [00:04<00:00,  2.45it/s]\n"
     ]
    },
    {
     "name": "stdout",
     "output_type": "stream",
     "text": [
      "NVA_21-003.IMMCORE.C1v1_16T037314-11-Z1-ImvessC1-4518.czi_Layer 3.csv\n"
     ]
    },
    {
     "name": "stderr",
     "output_type": "stream",
     "text": [
      "randomization: 100%|██████████| 10/10 [00:02<00:00,  3.55it/s]\n"
     ]
    },
    {
     "name": "stdout",
     "output_type": "stream",
     "text": [
      "NVA_21-003.IMMCORE.C2v1_19T020336-21-ImvessC2-4321.czi_Layer 3.csv\n"
     ]
    },
    {
     "name": "stderr",
     "output_type": "stream",
     "text": [
      "randomization: 100%|██████████| 10/10 [00:01<00:00,  5.13it/s]\n"
     ]
    },
    {
     "name": "stdout",
     "output_type": "stream",
     "text": [
      "NVA_21-003.IMMCORE.C2v1_16T022680-3-ImvessC2-4321.czi_Layer 3.csv\n"
     ]
    },
    {
     "name": "stderr",
     "output_type": "stream",
     "text": [
      "randomization: 100%|██████████| 10/10 [00:03<00:00,  3.15it/s]\n"
     ]
    },
    {
     "name": "stdout",
     "output_type": "stream",
     "text": [
      "NVA_21-003.IMMCORE.C1v1_15T034275-11-Z2-2-ImvessC1-4518.czi_Layer 3.csv\n"
     ]
    },
    {
     "name": "stderr",
     "output_type": "stream",
     "text": [
      "randomization: 100%|██████████| 10/10 [00:00<00:00, 18.30it/s]\n"
     ]
    },
    {
     "name": "stdout",
     "output_type": "stream",
     "text": [
      "NVA_21-003.IMMCORE.C2v1_17T033078-09-Z1-ImvessC2-4321.czi_Layer 3.csv\n"
     ]
    },
    {
     "name": "stderr",
     "output_type": "stream",
     "text": [
      "randomization: 100%|██████████| 10/10 [00:00<00:00, 14.34it/s]\n"
     ]
    },
    {
     "name": "stdout",
     "output_type": "stream",
     "text": [
      "NVA_21-003.IMMCORE.C1v1_19T002076-07-Z1-ImvessC1-4518.czi_Layer 3.csv\n"
     ]
    },
    {
     "name": "stderr",
     "output_type": "stream",
     "text": [
      "randomization: 100%|██████████| 10/10 [00:10<00:00,  1.07s/it]\n"
     ]
    },
    {
     "name": "stdout",
     "output_type": "stream",
     "text": [
      "NVA_21-003.IMMCORE.C1v1_18T040686-03-ImvessC1-4518.czi_Layer 3.csv\n"
     ]
    },
    {
     "name": "stderr",
     "output_type": "stream",
     "text": [
      "randomization: 100%|██████████| 10/10 [00:02<00:00,  3.37it/s]\n"
     ]
    },
    {
     "name": "stdout",
     "output_type": "stream",
     "text": [
      "NVA_21-003.IMMCORE.C2v1_19T002076-07-Z1-ImvessC2-4321.czi_Layer 3.csv\n"
     ]
    },
    {
     "name": "stderr",
     "output_type": "stream",
     "text": [
      "randomization: 100%|██████████| 10/10 [00:15<00:00,  1.50s/it]\n"
     ]
    },
    {
     "name": "stdout",
     "output_type": "stream",
     "text": [
      "NVA_21-003.IMMCORE.C1v1_19T037195-08-Z1-2-ImvessC1-4518.czi_Layer 3.csv\n"
     ]
    },
    {
     "name": "stderr",
     "output_type": "stream",
     "text": [
      "randomization: 100%|██████████| 10/10 [00:07<00:00,  1.34it/s]\n"
     ]
    },
    {
     "name": "stdout",
     "output_type": "stream",
     "text": [
      "NVA_21-003.IMMCORE.C1v1_15T034275-11-Z1-2-ImvessC1-4518.czi_Layer 3.csv\n"
     ]
    },
    {
     "name": "stderr",
     "output_type": "stream",
     "text": [
      "randomization: 100%|██████████| 10/10 [00:03<00:00,  2.67it/s]\n"
     ]
    },
    {
     "name": "stdout",
     "output_type": "stream",
     "text": [
      "NVA_21-003.IMMCORE.C1v1_16T037314-11-Z3-ImvessC1-4518.czi_Layer 3.csv\n"
     ]
    },
    {
     "name": "stderr",
     "output_type": "stream",
     "text": [
      "randomization: 100%|██████████| 10/10 [00:01<00:00,  7.12it/s]\n"
     ]
    },
    {
     "name": "stdout",
     "output_type": "stream",
     "text": [
      "NVA_21-003.IMMCORE.C2v1_15T052601-14-Z1-ImvessC2-4321.czi_Layer 3.csv\n"
     ]
    },
    {
     "name": "stderr",
     "output_type": "stream",
     "text": [
      "randomization: 100%|██████████| 10/10 [00:06<00:00,  1.47it/s]\n"
     ]
    },
    {
     "name": "stdout",
     "output_type": "stream",
     "text": [
      "NVA_21-003.IMMCORE.C1v1_16T022680-3-ImvessC1-4518.czi_Layer 3.csv\n"
     ]
    },
    {
     "name": "stderr",
     "output_type": "stream",
     "text": [
      "randomization: 100%|██████████| 10/10 [00:01<00:00,  6.15it/s]\n"
     ]
    },
    {
     "name": "stdout",
     "output_type": "stream",
     "text": [
      "NVA_21-003.IMMCORE.C2v1_16T034668-33-ImvessC2-4321.czi_Layer 3.csv\n"
     ]
    },
    {
     "name": "stderr",
     "output_type": "stream",
     "text": [
      "randomization: 100%|██████████| 10/10 [00:00<00:00, 26.33it/s]\n"
     ]
    },
    {
     "name": "stdout",
     "output_type": "stream",
     "text": [
      "NVA_21-003.IMMCORE.C1v1_18T020627-04-Z3-ImvessC1-4518.czi_Layer 3.csv\n"
     ]
    },
    {
     "name": "stderr",
     "output_type": "stream",
     "text": [
      "randomization: 100%|██████████| 10/10 [00:06<00:00,  1.52it/s]\n"
     ]
    },
    {
     "name": "stdout",
     "output_type": "stream",
     "text": [
      "NVA_21-003.IMMCORE.C2v1_17T003826-06-ImvessC2-4321.czi_Layer 4.csv\n"
     ]
    },
    {
     "name": "stderr",
     "output_type": "stream",
     "text": [
      "randomization: 100%|██████████| 10/10 [00:04<00:00,  2.11it/s]\n"
     ]
    },
    {
     "name": "stdout",
     "output_type": "stream",
     "text": [
      "NVA_21-003.IMMCORE.C1v1_18T020627-04-Z2-ImvessC1-4518.czi_Layer 4.csv\n"
     ]
    },
    {
     "name": "stderr",
     "output_type": "stream",
     "text": [
      "randomization: 100%|██████████| 10/10 [00:03<00:00,  2.79it/s]\n"
     ]
    },
    {
     "name": "stdout",
     "output_type": "stream",
     "text": [
      "NVA_21-003.IMMCORE.C2v1_19T006284-08-ImvessC2-4321.czi_Layer 4.csv\n"
     ]
    },
    {
     "name": "stderr",
     "output_type": "stream",
     "text": [
      "randomization: 100%|██████████| 10/10 [00:09<00:00,  1.08it/s]\n"
     ]
    },
    {
     "name": "stdout",
     "output_type": "stream",
     "text": [
      "NVA_21-003.IMMCORE.C2v1_15T052601-14-Z1-ImvessC2-4321.czi_Layer 4.csv\n"
     ]
    },
    {
     "name": "stderr",
     "output_type": "stream",
     "text": [
      "randomization: 100%|██████████| 10/10 [00:02<00:00,  4.14it/s]\n"
     ]
    },
    {
     "name": "stdout",
     "output_type": "stream",
     "text": [
      "NVA_21-003.IMMCORE.C2v1_19T041398-05-Z2-2-ImvessC2-4321.czi_Layer 4.csv\n"
     ]
    },
    {
     "name": "stderr",
     "output_type": "stream",
     "text": [
      "randomization: 100%|██████████| 10/10 [00:14<00:00,  1.43s/it]\n"
     ]
    },
    {
     "name": "stdout",
     "output_type": "stream",
     "text": [
      "NVA_21-003.IMMCORE.C1v1_16T008211-9-ImvessC1-4518.czi_Layer 4.csv\n"
     ]
    },
    {
     "name": "stderr",
     "output_type": "stream",
     "text": [
      "randomization: 100%|██████████| 10/10 [00:05<00:00,  1.89it/s]\n"
     ]
    },
    {
     "name": "stdout",
     "output_type": "stream",
     "text": [
      "NVA_21-003.IMMCORE.C2v1_17T021098-13-Z1-ImvessC2-4321.czi_Layer 4.csv\n"
     ]
    },
    {
     "name": "stderr",
     "output_type": "stream",
     "text": [
      "randomization: 100%|██████████| 10/10 [00:30<00:00,  3.08s/it]\n"
     ]
    },
    {
     "name": "stdout",
     "output_type": "stream",
     "text": [
      "NVA_21-003.IMMCORE.C1v1_17T021098-13-Z1-ImvessC1-4518.czi_Layer 4.csv\n"
     ]
    },
    {
     "name": "stderr",
     "output_type": "stream",
     "text": [
      "randomization: 100%|██████████| 10/10 [00:16<00:00,  1.69s/it]\n"
     ]
    },
    {
     "name": "stdout",
     "output_type": "stream",
     "text": [
      "NVA_21-003.IMMCORE.C1v1_15T008187-08-ImvessC1-4518.czi_Layer 4.csv\n"
     ]
    },
    {
     "name": "stderr",
     "output_type": "stream",
     "text": [
      "randomization: 100%|██████████| 10/10 [00:05<00:00,  1.75it/s]\n"
     ]
    },
    {
     "name": "stdout",
     "output_type": "stream",
     "text": [
      "NVA_21-003.IMMCORE.C1v1_16T037314-11-Z1-ImvessC1-4518.czi_Layer 4.csv\n"
     ]
    },
    {
     "name": "stderr",
     "output_type": "stream",
     "text": [
      "randomization: 100%|██████████| 10/10 [00:03<00:00,  2.77it/s]\n"
     ]
    },
    {
     "name": "stdout",
     "output_type": "stream",
     "text": [
      "NVA_21-003.IMMCORE.C1v1_17T054628-06-Z2-ImvessC1-4518.czi_Layer 4.csv\n"
     ]
    },
    {
     "name": "stderr",
     "output_type": "stream",
     "text": [
      "randomization: 100%|██████████| 10/10 [00:01<00:00,  6.24it/s]\n"
     ]
    },
    {
     "name": "stdout",
     "output_type": "stream",
     "text": [
      "NVA_21-003.IMMCORE.C2v1_17T054628-06-Z1-ImvessC2-4321.czi_Layer 4.csv\n"
     ]
    },
    {
     "name": "stderr",
     "output_type": "stream",
     "text": [
      "randomization: 100%|██████████| 10/10 [00:04<00:00,  2.30it/s]\n"
     ]
    },
    {
     "name": "stdout",
     "output_type": "stream",
     "text": [
      "NVA_21-003.IMMCORE.C1v1_17T020895-03-Z1-ImvessC1-4518.czi_Layer 4.csv\n"
     ]
    },
    {
     "name": "stderr",
     "output_type": "stream",
     "text": [
      "randomization: 100%|██████████| 10/10 [00:01<00:00,  6.13it/s]\n"
     ]
    },
    {
     "name": "stdout",
     "output_type": "stream",
     "text": [
      "NVA_21-003.IMMCORE.C2v1_18T011003-05-Z1-ImvessC2-4321.czi_Layer 4.csv\n"
     ]
    },
    {
     "name": "stderr",
     "output_type": "stream",
     "text": [
      "randomization: 100%|██████████| 10/10 [00:08<00:00,  1.12it/s]\n"
     ]
    },
    {
     "name": "stdout",
     "output_type": "stream",
     "text": [
      "NVA_21-003.IMMCORE.C1v1_17T033078-09-Z1-ImvessC1-4518.czi_Layer 4.csv\n"
     ]
    },
    {
     "name": "stderr",
     "output_type": "stream",
     "text": [
      "randomization: 100%|██████████| 10/10 [00:01<00:00,  5.18it/s]\n"
     ]
    },
    {
     "name": "stdout",
     "output_type": "stream",
     "text": [
      "NVA_21-003.IMMCORE.C2v1_17T054628-06-Z2-ImvessC2-4321.czi_Layer 4.csv\n"
     ]
    },
    {
     "name": "stderr",
     "output_type": "stream",
     "text": [
      "randomization: 100%|██████████| 10/10 [00:03<00:00,  2.65it/s]\n"
     ]
    },
    {
     "name": "stdout",
     "output_type": "stream",
     "text": [
      "NVA_21-003.IMMCORE.C2v1_19T037195-08-Z2-ImvessC2-4321.czi_Layer 4.csv\n"
     ]
    },
    {
     "name": "stderr",
     "output_type": "stream",
     "text": [
      "randomization: 100%|██████████| 10/10 [00:06<00:00,  1.52it/s]\n"
     ]
    },
    {
     "name": "stdout",
     "output_type": "stream",
     "text": [
      "NVA_21-003.IMMCORE.C2v1_16T042639-11-Z2-ImvessC2-4321.czi_Layer 4.csv\n"
     ]
    },
    {
     "name": "stderr",
     "output_type": "stream",
     "text": [
      "randomization: 100%|██████████| 10/10 [00:08<00:00,  1.20it/s]\n"
     ]
    },
    {
     "name": "stdout",
     "output_type": "stream",
     "text": [
      "NVA_21-003.IMMCORE.C2v1_18T020627-04-Z2-ImvessC2-4321.czi_Layer 4.csv\n"
     ]
    },
    {
     "name": "stderr",
     "output_type": "stream",
     "text": [
      "randomization: 100%|██████████| 10/10 [00:09<00:00,  1.07it/s]\n"
     ]
    },
    {
     "name": "stdout",
     "output_type": "stream",
     "text": [
      "NVA_21-003.IMMCORE.C1v1_18T047929-09-Z2-ImvessC1-4518.czi_Layer 4.csv\n"
     ]
    },
    {
     "name": "stderr",
     "output_type": "stream",
     "text": [
      "randomization: 100%|██████████| 10/10 [00:04<00:00,  2.13it/s]\n"
     ]
    },
    {
     "name": "stdout",
     "output_type": "stream",
     "text": [
      "NVA_21-003.IMMCORE.C1v1_17T054628-06-Z1-ImvessC1-4518.czi_Layer 4.csv\n"
     ]
    },
    {
     "name": "stderr",
     "output_type": "stream",
     "text": [
      "randomization: 100%|██████████| 10/10 [00:00<00:00, 28.44it/s]\n"
     ]
    },
    {
     "name": "stdout",
     "output_type": "stream",
     "text": [
      "NVA_21-003.IMMCORE.C2v1_16T042639-11-Z1-ImvessC2-4321.czi_Layer 4.csv\n"
     ]
    },
    {
     "name": "stderr",
     "output_type": "stream",
     "text": [
      "randomization: 100%|██████████| 10/10 [00:06<00:00,  1.58it/s]\n"
     ]
    },
    {
     "name": "stdout",
     "output_type": "stream",
     "text": [
      "NVA_21-003.IMMCORE.C1v1_19T002076-07-Z2-ImvessC1-4518.czi_Layer 4.csv\n"
     ]
    },
    {
     "name": "stderr",
     "output_type": "stream",
     "text": [
      "randomization: 100%|██████████| 10/10 [00:02<00:00,  4.18it/s]\n"
     ]
    },
    {
     "name": "stdout",
     "output_type": "stream",
     "text": [
      "NVA_21-003.IMMCORE.C1v1_17T020895-03-Z2-ImvessC1-4518.czi_Layer 4.csv\n"
     ]
    },
    {
     "name": "stderr",
     "output_type": "stream",
     "text": [
      "randomization: 100%|██████████| 10/10 [00:22<00:00,  2.23s/it]\n"
     ]
    },
    {
     "name": "stdout",
     "output_type": "stream",
     "text": [
      "NVA_21-003.IMMCORE.C2v1_15T011146-16-ImvessC2-4321.czi_Layer 4.csv\n"
     ]
    },
    {
     "name": "stderr",
     "output_type": "stream",
     "text": [
      "randomization: 100%|██████████| 10/10 [00:02<00:00,  4.65it/s]\n"
     ]
    },
    {
     "name": "stdout",
     "output_type": "stream",
     "text": [
      "NVA_21-003.IMMCORE.C2v1_18T004469-02-Z1-ImvessC2-4321.czi_Layer 4.csv\n"
     ]
    },
    {
     "name": "stderr",
     "output_type": "stream",
     "text": [
      "randomization: 100%|██████████| 10/10 [00:14<00:00,  1.43s/it]\n"
     ]
    },
    {
     "name": "stdout",
     "output_type": "stream",
     "text": [
      "NVA_21-003.IMMCORE.C1v1_17T003826-06-ImvessC1-4518.czi_Layer 4.csv\n"
     ]
    },
    {
     "name": "stderr",
     "output_type": "stream",
     "text": [
      "randomization: 100%|██████████| 10/10 [00:03<00:00,  3.16it/s]\n"
     ]
    },
    {
     "name": "stdout",
     "output_type": "stream",
     "text": [
      "NVA_21-003.IMMCORE.C1v1_19T037195-08-Z2-ImvessC1-4518.czi_Layer 4.csv\n"
     ]
    },
    {
     "name": "stderr",
     "output_type": "stream",
     "text": [
      "randomization: 100%|██████████| 10/10 [00:04<00:00,  2.26it/s]\n"
     ]
    },
    {
     "name": "stdout",
     "output_type": "stream",
     "text": [
      "NVA_21-003.IMMCORE.C1v1_19T041398-05-Z1-ImvessC1-4518.czi_Layer 4.csv\n"
     ]
    },
    {
     "name": "stderr",
     "output_type": "stream",
     "text": [
      "randomization: 100%|██████████| 10/10 [00:00<00:00, 10.97it/s]\n"
     ]
    },
    {
     "name": "stdout",
     "output_type": "stream",
     "text": [
      "NVA_21-003.IMMCORE.C2v1_17T020895-03-Z2-ImvessC2-4321.czi_Layer 4.csv\n"
     ]
    },
    {
     "name": "stderr",
     "output_type": "stream",
     "text": [
      "randomization: 100%|██████████| 10/10 [00:39<00:00,  3.91s/it]\n"
     ]
    },
    {
     "name": "stdout",
     "output_type": "stream",
     "text": [
      "NVA_21-003.IMMCORE.C1v1_18T009975-12-ImvessC1-4518.czi_Layer 4.csv\n"
     ]
    },
    {
     "name": "stderr",
     "output_type": "stream",
     "text": [
      "randomization: 100%|██████████| 10/10 [00:00<00:00, 16.03it/s]\n"
     ]
    },
    {
     "name": "stdout",
     "output_type": "stream",
     "text": [
      "NVA_21-003.IMMCORE.C1v1_19T041398-05-Z2-ImvessC1-4518.czi_Layer 4.csv\n"
     ]
    },
    {
     "name": "stderr",
     "output_type": "stream",
     "text": [
      "randomization: 100%|██████████| 10/10 [00:05<00:00,  1.93it/s]\n"
     ]
    },
    {
     "name": "stdout",
     "output_type": "stream",
     "text": [
      "NVA_21-003.IMMCORE.C2v1_16T019939-10-ImvessC2-4321.czi_Layer 4.csv\n"
     ]
    },
    {
     "name": "stderr",
     "output_type": "stream",
     "text": [
      "randomization: 100%|██████████| 10/10 [00:28<00:00,  2.81s/it]\n"
     ]
    },
    {
     "name": "stdout",
     "output_type": "stream",
     "text": [
      "NVA_21-003.IMMCORE.C2v1_18T047929-09-Z2-ImvessC2-4321.czi_Layer 4.csv\n"
     ]
    },
    {
     "name": "stderr",
     "output_type": "stream",
     "text": [
      "randomization: 100%|██████████| 10/10 [00:09<00:00,  1.10it/s]\n"
     ]
    },
    {
     "name": "stdout",
     "output_type": "stream",
     "text": [
      "NVA_21-003.IMMCORE.C1v1_15T011146-16-2-ImvessC1-4518.czi_Layer 4.csv\n"
     ]
    },
    {
     "name": "stderr",
     "output_type": "stream",
     "text": [
      "randomization: 100%|██████████| 10/10 [00:02<00:00,  4.56it/s]\n"
     ]
    },
    {
     "name": "stdout",
     "output_type": "stream",
     "text": [
      "NVA_21-003.IMMCORE.C1v1_16T019939-10-ImvessC1-4518.czi_Layer 4.csv\n"
     ]
    },
    {
     "name": "stderr",
     "output_type": "stream",
     "text": [
      "randomization: 100%|██████████| 10/10 [00:19<00:00,  1.94s/it]\n"
     ]
    },
    {
     "name": "stdout",
     "output_type": "stream",
     "text": [
      "NVA_21-003.IMMCORE.C2v1_16T008211-9-ImvessC2-4321.czi_Layer 4.csv\n"
     ]
    },
    {
     "name": "stderr",
     "output_type": "stream",
     "text": [
      "randomization: 100%|██████████| 10/10 [00:09<00:00,  1.02it/s]\n"
     ]
    },
    {
     "name": "stdout",
     "output_type": "stream",
     "text": [
      "NVA_21-003.IMMCORE.C2v1_16T004768-17-ImvessC2-4321.czi_Layer 4.csv\n"
     ]
    },
    {
     "name": "stderr",
     "output_type": "stream",
     "text": [
      "randomization: 100%|██████████| 10/10 [00:08<00:00,  1.12it/s]\n"
     ]
    },
    {
     "name": "stdout",
     "output_type": "stream",
     "text": [
      "NVA_21-003.IMMCORE.C1v1_16T013087-8-ImvessC1-4518.czi_Layer 4.csv\n"
     ]
    },
    {
     "name": "stderr",
     "output_type": "stream",
     "text": [
      "randomization: 100%|██████████| 10/10 [00:20<00:00,  2.00s/it]\n"
     ]
    },
    {
     "name": "stdout",
     "output_type": "stream",
     "text": [
      "NVA_21-003.IMMCORE.C2v1_15T010760-09-Z2-ImvessC2-4321.czi_Layer 4.csv\n"
     ]
    },
    {
     "name": "stderr",
     "output_type": "stream",
     "text": [
      "randomization: 100%|██████████| 10/10 [00:07<00:00,  1.26it/s]\n"
     ]
    },
    {
     "name": "stdout",
     "output_type": "stream",
     "text": [
      "NVA_21-003.IMMCORE.C2v1_16T034668-33-ImvessC2-4321.czi_Layer 4.csv\n"
     ]
    },
    {
     "name": "stderr",
     "output_type": "stream",
     "text": [
      "randomization: 100%|██████████| 10/10 [00:03<00:00,  3.05it/s]\n"
     ]
    },
    {
     "name": "stdout",
     "output_type": "stream",
     "text": [
      "NVA_21-003.IMMCORE.C2v1_18T002383-10-Z1-ImvessC2-4321.czi_Layer 4.csv\n"
     ]
    },
    {
     "name": "stderr",
     "output_type": "stream",
     "text": [
      "randomization: 100%|██████████| 10/10 [00:05<00:00,  1.67it/s]\n"
     ]
    },
    {
     "name": "stdout",
     "output_type": "stream",
     "text": [
      "NVA_21-003.IMMCORE.C2v1_17T033078-09-Z1-ImvessC2-4321.czi_Layer 4.csv\n"
     ]
    },
    {
     "name": "stderr",
     "output_type": "stream",
     "text": [
      "randomization: 100%|██████████| 10/10 [00:04<00:00,  2.21it/s]\n"
     ]
    },
    {
     "name": "stdout",
     "output_type": "stream",
     "text": [
      "NVA_21-003.IMMCORE.C1v1_16T042639-11-Z2-ImvessC1-4518.czi_Layer 4.csv\n"
     ]
    },
    {
     "name": "stderr",
     "output_type": "stream",
     "text": [
      "randomization: 100%|██████████| 10/10 [00:04<00:00,  2.01it/s]\n"
     ]
    },
    {
     "name": "stdout",
     "output_type": "stream",
     "text": [
      "NVA_21-003.IMMCORE.C1v1_17T033078-09-Z2-ImvessC1-4518.czi_Layer 4.csv\n"
     ]
    },
    {
     "name": "stderr",
     "output_type": "stream",
     "text": [
      "randomization: 100%|██████████| 10/10 [00:02<00:00,  3.42it/s]\n"
     ]
    },
    {
     "name": "stdout",
     "output_type": "stream",
     "text": [
      "NVA_21-003.IMMCORE.C1v1_15T010441-02-ImvessC1-4518.czi_Layer 4.csv\n"
     ]
    },
    {
     "name": "stderr",
     "output_type": "stream",
     "text": [
      "randomization: 100%|██████████| 10/10 [00:12<00:00,  1.21s/it]\n"
     ]
    },
    {
     "name": "stdout",
     "output_type": "stream",
     "text": [
      "NVA_21-003.IMMCORE.C1v1_18T004469-02-Z1-ImvessC1-4518.czi_Layer 4.csv\n"
     ]
    },
    {
     "name": "stderr",
     "output_type": "stream",
     "text": [
      "randomization: 100%|██████████| 10/10 [00:07<00:00,  1.27it/s]\n"
     ]
    },
    {
     "name": "stdout",
     "output_type": "stream",
     "text": [
      "NVA_21-003.IMMCORE.C1v1_18T002383-10-Z1-ImvessC1-4518.czi_Layer 4.csv\n"
     ]
    },
    {
     "name": "stderr",
     "output_type": "stream",
     "text": [
      "randomization: 100%|██████████| 10/10 [00:01<00:00,  9.16it/s]\n"
     ]
    },
    {
     "name": "stdout",
     "output_type": "stream",
     "text": [
      "NVA_21-003.IMMCORE.C1v1_18T020627-04-Z1-ImvessC1-4518.czi_Layer 4.csv\n"
     ]
    },
    {
     "name": "stderr",
     "output_type": "stream",
     "text": [
      "randomization: 100%|██████████| 10/10 [00:06<00:00,  1.49it/s]\n"
     ]
    },
    {
     "name": "stdout",
     "output_type": "stream",
     "text": [
      "NVA_21-003.IMMCORE.C1v1_15T010760-09-Z1-ImvessC1-4518.czi_Layer 4.csv\n"
     ]
    },
    {
     "name": "stderr",
     "output_type": "stream",
     "text": [
      "randomization: 100%|██████████| 10/10 [00:00<00:00, 13.72it/s]\n"
     ]
    },
    {
     "name": "stdout",
     "output_type": "stream",
     "text": [
      "NVA_21-003.IMMCORE.C1v1_17T021098-13-Z2-ImvessC1-4518.czi_Layer 4.csv\n"
     ]
    },
    {
     "name": "stderr",
     "output_type": "stream",
     "text": [
      "randomization: 100%|██████████| 10/10 [00:17<00:00,  1.71s/it]\n"
     ]
    },
    {
     "name": "stdout",
     "output_type": "stream",
     "text": [
      "NVA_21-003.IMMCORE.C1v1_15T052601-14-Z1-ImvessC1-4518.czi_Layer 4.csv\n"
     ]
    },
    {
     "name": "stderr",
     "output_type": "stream",
     "text": [
      "randomization: 100%|██████████| 10/10 [00:02<00:00,  3.58it/s]\n"
     ]
    },
    {
     "name": "stdout",
     "output_type": "stream",
     "text": [
      "NVA_21-003.IMMCORE.C1v1_19T006284-08-ImvessC1-4518.czi_Layer 4.csv\n"
     ]
    },
    {
     "name": "stderr",
     "output_type": "stream",
     "text": [
      "randomization: 100%|██████████| 10/10 [00:04<00:00,  2.23it/s]\n"
     ]
    },
    {
     "name": "stdout",
     "output_type": "stream",
     "text": [
      "NVA_21-003.IMMCORE.C2v1_19T020336-21-ImvessC2-4321.czi_Layer 4.csv\n"
     ]
    },
    {
     "name": "stderr",
     "output_type": "stream",
     "text": [
      "randomization: 100%|██████████| 10/10 [00:01<00:00,  7.61it/s]\n"
     ]
    },
    {
     "name": "stdout",
     "output_type": "stream",
     "text": [
      "NVA_21-003.IMMCORE.C2v1_19T002076-07-Z2-ImvessC2-4321.czi_Layer 4.csv\n"
     ]
    },
    {
     "name": "stderr",
     "output_type": "stream",
     "text": [
      "randomization: 100%|██████████| 10/10 [00:05<00:00,  1.67it/s]\n"
     ]
    },
    {
     "name": "stdout",
     "output_type": "stream",
     "text": [
      "NVA_21-003.IMMCORE.C1v1_18T011003-05-Z1-ImvessC1-4518.czi_Layer 4.csv\n"
     ]
    },
    {
     "name": "stderr",
     "output_type": "stream",
     "text": [
      "randomization: 100%|██████████| 10/10 [00:04<00:00,  2.13it/s]\n"
     ]
    },
    {
     "name": "stdout",
     "output_type": "stream",
     "text": [
      "NVA_21-003.IMMCORE.C1v1_16T034668-33-ImvessC1-4518.czi_Layer 4.csv\n"
     ]
    },
    {
     "name": "stderr",
     "output_type": "stream",
     "text": [
      "randomization: 100%|██████████| 10/10 [00:05<00:00,  1.88it/s]\n"
     ]
    },
    {
     "name": "stdout",
     "output_type": "stream",
     "text": [
      "NVA_21-003.IMMCORE.C1v1_18T044196-05-Z1-ImvessC1-4518.czi_Layer 4.csv\n"
     ]
    },
    {
     "name": "stderr",
     "output_type": "stream",
     "text": [
      "randomization: 100%|██████████| 10/10 [00:03<00:00,  3.07it/s]\n"
     ]
    },
    {
     "name": "stdout",
     "output_type": "stream",
     "text": [
      "NVA_21-003.IMMCORE.C2v1_16T037314-11-Z1-ImvessC2-4321.czi_Layer 4.csv\n"
     ]
    },
    {
     "name": "stderr",
     "output_type": "stream",
     "text": [
      "randomization: 100%|██████████| 10/10 [00:07<00:00,  1.26it/s]\n"
     ]
    },
    {
     "name": "stdout",
     "output_type": "stream",
     "text": [
      "NVA_21-003.IMMCORE.C2v1_17T033078-09-Z2-ImvessC2-4321.czi_Layer 4.csv\n"
     ]
    },
    {
     "name": "stderr",
     "output_type": "stream",
     "text": [
      "randomization: 100%|██████████| 10/10 [00:05<00:00,  1.98it/s]\n"
     ]
    },
    {
     "name": "stdout",
     "output_type": "stream",
     "text": [
      "NVA_21-003.IMMCORE.C2v1_17T048267-11-Z3-ImvessC2-4321.czi_Layer 4.csv\n"
     ]
    },
    {
     "name": "stderr",
     "output_type": "stream",
     "text": [
      "randomization: 100%|██████████| 10/10 [00:02<00:00,  3.71it/s]\n"
     ]
    },
    {
     "name": "stdout",
     "output_type": "stream",
     "text": [
      "NVA_21-003.IMMCORE.C2v1_16T013087-8-ImvessC2-4321.czi_Layer 4.csv\n"
     ]
    },
    {
     "name": "stderr",
     "output_type": "stream",
     "text": [
      "randomization: 100%|██████████| 10/10 [00:27<00:00,  2.79s/it]\n"
     ]
    },
    {
     "name": "stdout",
     "output_type": "stream",
     "text": [
      "NVA_21-003.IMMCORE.C2v1_18T044196-05-Z1-ImvessC2-4321.czi_Layer 4.csv\n"
     ]
    },
    {
     "name": "stderr",
     "output_type": "stream",
     "text": [
      "randomization: 100%|██████████| 10/10 [00:05<00:00,  1.92it/s]\n"
     ]
    },
    {
     "name": "stdout",
     "output_type": "stream",
     "text": [
      "NVA_21-003.IMMCORE.C2v1_18T020627-04-Z1-ImvessC2-4321.czi_Layer 4.csv\n"
     ]
    },
    {
     "name": "stderr",
     "output_type": "stream",
     "text": [
      "randomization: 100%|██████████| 10/10 [00:10<00:00,  1.03s/it]\n"
     ]
    },
    {
     "name": "stdout",
     "output_type": "stream",
     "text": [
      "NVA_21-003.IMMCORE.C1v1_18T004469-02-Z2-ImvessC1-4518.czi_Layer 4.csv\n"
     ]
    },
    {
     "name": "stderr",
     "output_type": "stream",
     "text": [
      "randomization: 100%|██████████| 10/10 [00:00<00:00, 12.59it/s]\n"
     ]
    },
    {
     "name": "stdout",
     "output_type": "stream",
     "text": [
      "NVA_21-003.IMMCORE.C1v1_16T042639-11-Z1-ImvessC1-4518.czi_Layer 4.csv\n"
     ]
    },
    {
     "name": "stderr",
     "output_type": "stream",
     "text": [
      "randomization: 100%|██████████| 10/10 [00:04<00:00,  2.42it/s]\n"
     ]
    },
    {
     "name": "stdout",
     "output_type": "stream",
     "text": [
      "NVA_21-003.IMMCORE.C1v1_15T052601-14-Z2-ImvessC1-4518.czi_Layer 4.csv\n"
     ]
    },
    {
     "name": "stderr",
     "output_type": "stream",
     "text": [
      "randomization: 100%|██████████| 10/10 [00:09<00:00,  1.04it/s]\n"
     ]
    },
    {
     "name": "stdout",
     "output_type": "stream",
     "text": [
      "NVA_21-003.IMMCORE.C1v1_15T010760-09-Z2-ImvessC1-4518.czi_Layer 4.csv\n"
     ]
    },
    {
     "name": "stderr",
     "output_type": "stream",
     "text": [
      "randomization: 100%|██████████| 10/10 [00:04<00:00,  2.20it/s]\n"
     ]
    },
    {
     "name": "stdout",
     "output_type": "stream",
     "text": [
      "NVA_21-003.IMMCORE.C2v1_19T041398-05-Z1-ImvessC2-4321.czi_Layer 4.csv\n"
     ]
    },
    {
     "name": "stderr",
     "output_type": "stream",
     "text": [
      "randomization: 100%|██████████| 10/10 [00:01<00:00,  5.84it/s]\n"
     ]
    },
    {
     "name": "stdout",
     "output_type": "stream",
     "text": [
      "NVA_21-003.IMMCORE.C2v1_17T021098-13-Z2-ImvessC2-4321.czi_Layer 4.csv\n"
     ]
    },
    {
     "name": "stderr",
     "output_type": "stream",
     "text": [
      "randomization: 100%|██████████| 10/10 [00:34<00:00,  3.41s/it]\n"
     ]
    },
    {
     "name": "stdout",
     "output_type": "stream",
     "text": [
      "NVA_21-003.IMMCORE.C2v1_18T004469-02-Z2-ImvessC2-4321.czi_Layer 4.csv\n"
     ]
    },
    {
     "name": "stderr",
     "output_type": "stream",
     "text": [
      "randomization: 100%|██████████| 10/10 [00:14<00:00,  1.46s/it]\n"
     ]
    },
    {
     "name": "stdout",
     "output_type": "stream",
     "text": [
      "NVA_21-003.IMMCORE.C1v1_17T048267-11-Z3-ImvessC1-4518.czi_Layer 4.csv\n"
     ]
    },
    {
     "name": "stderr",
     "output_type": "stream",
     "text": [
      "randomization: 100%|██████████| 10/10 [00:01<00:00,  7.01it/s]\n"
     ]
    },
    {
     "name": "stdout",
     "output_type": "stream",
     "text": [
      "NVA_21-003.IMMCORE.C2v1_17T020895-03-Z1-ImvessC2-4321.czi_Layer 4.csv\n"
     ]
    },
    {
     "name": "stderr",
     "output_type": "stream",
     "text": [
      "randomization: 100%|██████████| 10/10 [00:02<00:00,  3.96it/s]\n"
     ]
    },
    {
     "name": "stdout",
     "output_type": "stream",
     "text": [
      "NVA_21-003.IMMCORE.C1v1_16T004768-17-ImvessC1-4518.czi_Layer 4.csv\n"
     ]
    },
    {
     "name": "stderr",
     "output_type": "stream",
     "text": [
      "randomization: 100%|██████████| 10/10 [00:06<00:00,  1.62it/s]\n"
     ]
    },
    {
     "name": "stdout",
     "output_type": "stream",
     "text": [
      "NVA_21-003.IMMCORE.C1v1_19T020336-21-ImvessC1-4518.czi_Layer 4.csv\n"
     ]
    },
    {
     "name": "stderr",
     "output_type": "stream",
     "text": [
      "randomization: 100%|██████████| 10/10 [00:02<00:00,  4.80it/s]\n"
     ]
    },
    {
     "name": "stdout",
     "output_type": "stream",
     "text": [
      "NVA_21-003.IMMCORE.C2v1_15T052601-14-Z2-ImvessC2-4321.czi_Layer 4.csv\n"
     ]
    },
    {
     "name": "stderr",
     "output_type": "stream",
     "text": [
      "randomization: 100%|██████████| 10/10 [00:12<00:00,  1.28s/it]\n"
     ]
    },
    {
     "name": "stdout",
     "output_type": "stream",
     "text": [
      "NVA_21-003.IMMCORE.C1v1_18T011003-05-Z2-ImvessC1-4518.czi_Layer 5.csv\n"
     ]
    },
    {
     "name": "stderr",
     "output_type": "stream",
     "text": [
      "randomization: 100%|██████████| 10/10 [00:03<00:00,  2.95it/s]\n"
     ]
    },
    {
     "name": "stdout",
     "output_type": "stream",
     "text": [
      "NVA_21-003.IMMCORE.C1v1_15T027584-13-ImvessC1-4518.czi_Layer 5.csv\n"
     ]
    },
    {
     "name": "stderr",
     "output_type": "stream",
     "text": [
      "randomization: 100%|██████████| 10/10 [00:01<00:00,  5.20it/s]\n"
     ]
    },
    {
     "name": "stdout",
     "output_type": "stream",
     "text": [
      "NVA_21-003.IMMCORE.C1v1_16T004768-17-ImvessC1-4518.czi_Layer 5.csv\n"
     ]
    },
    {
     "name": "stderr",
     "output_type": "stream",
     "text": [
      "randomization: 100%|██████████| 10/10 [00:01<00:00,  9.93it/s]\n"
     ]
    },
    {
     "name": "stdout",
     "output_type": "stream",
     "text": [
      "NVA_21-003.IMMCORE.C1v1_19T041398-05-Z2-ImvessC1-4518.czi_Layer 5.csv\n"
     ]
    },
    {
     "name": "stderr",
     "output_type": "stream",
     "text": [
      "randomization: 100%|██████████| 10/10 [00:02<00:00,  4.17it/s]\n"
     ]
    },
    {
     "name": "stdout",
     "output_type": "stream",
     "text": [
      "NVA_21-003.IMMCORE.C2v1_16T004768-17-ImvessC2-4321.czi_Layer 5.csv\n"
     ]
    },
    {
     "name": "stderr",
     "output_type": "stream",
     "text": [
      "randomization: 100%|██████████| 10/10 [00:01<00:00,  5.52it/s]\n"
     ]
    },
    {
     "name": "stdout",
     "output_type": "stream",
     "text": [
      "NVA_21-003.IMMCORE.C2v1_19T020336-21-ImvessC2-4321.czi_Layer 5.csv\n"
     ]
    },
    {
     "name": "stderr",
     "output_type": "stream",
     "text": [
      "randomization: 100%|██████████| 10/10 [00:01<00:00,  8.76it/s]\n"
     ]
    },
    {
     "name": "stdout",
     "output_type": "stream",
     "text": [
      "NVA_21-003.IMMCORE.C1v1_16T042639-11-Z2-ImvessC1-4518.czi_Layer 5.csv\n"
     ]
    },
    {
     "name": "stderr",
     "output_type": "stream",
     "text": [
      "randomization: 100%|██████████| 10/10 [00:01<00:00,  7.17it/s]\n"
     ]
    },
    {
     "name": "stdout",
     "output_type": "stream",
     "text": [
      "NVA_21-003.IMMCORE.C2v1_17T004343-07-ImvessC2-4321.czi_Layer 5.csv\n"
     ]
    },
    {
     "name": "stderr",
     "output_type": "stream",
     "text": [
      "randomization: 100%|██████████| 10/10 [00:01<00:00,  8.19it/s]\n"
     ]
    },
    {
     "name": "stdout",
     "output_type": "stream",
     "text": [
      "NVA_21-003.IMMCORE.C2v1_18T054305-08-ImvessC2-4321.czi_Layer 5.csv\n"
     ]
    },
    {
     "name": "stderr",
     "output_type": "stream",
     "text": [
      "randomization: 100%|██████████| 10/10 [00:03<00:00,  2.67it/s]\n"
     ]
    },
    {
     "name": "stdout",
     "output_type": "stream",
     "text": [
      "NVA_21-003.IMMCORE.C2v1_17T018454-05-Z3-ImvessC2-4321.czi_Layer 5.csv\n"
     ]
    },
    {
     "name": "stderr",
     "output_type": "stream",
     "text": [
      "randomization: 100%|██████████| 10/10 [00:01<00:00,  7.05it/s]\n"
     ]
    },
    {
     "name": "stdout",
     "output_type": "stream",
     "text": [
      "NVA_21-003.IMMCORE.C1v1_16T034668-33-ImvessC1-4518.czi_Layer 5.csv\n"
     ]
    },
    {
     "name": "stderr",
     "output_type": "stream",
     "text": [
      "randomization: 100%|██████████| 10/10 [00:05<00:00,  1.69it/s]\n"
     ]
    },
    {
     "name": "stdout",
     "output_type": "stream",
     "text": [
      "NVA_21-003.IMMCORE.C2v1_16T037314-11-Z1-ImvessC2-4321.czi_Layer 5.csv\n"
     ]
    },
    {
     "name": "stderr",
     "output_type": "stream",
     "text": [
      "randomization: 100%|██████████| 10/10 [00:02<00:00,  4.49it/s]\n"
     ]
    },
    {
     "name": "stdout",
     "output_type": "stream",
     "text": [
      "NVA_21-003.IMMCORE.C1v1_18T040686-03-ImvessC1-4518.czi_Layer 5.csv\n"
     ]
    },
    {
     "name": "stderr",
     "output_type": "stream",
     "text": [
      "randomization: 100%|██████████| 10/10 [00:06<00:00,  1.45it/s]\n"
     ]
    },
    {
     "name": "stdout",
     "output_type": "stream",
     "text": [
      "NVA_21-003.IMMCORE.C2v1_16T013087-8-ImvessC2-4321.czi_Layer 5.csv\n"
     ]
    },
    {
     "name": "stderr",
     "output_type": "stream",
     "text": [
      "randomization: 100%|██████████| 10/10 [00:02<00:00,  3.80it/s]\n"
     ]
    },
    {
     "name": "stdout",
     "output_type": "stream",
     "text": [
      "NVA_21-003.IMMCORE.C1v1_16T022680-3-ImvessC1-4518.czi_Layer 5.csv\n"
     ]
    },
    {
     "name": "stderr",
     "output_type": "stream",
     "text": [
      "randomization: 100%|██████████| 10/10 [00:01<00:00,  9.18it/s]\n"
     ]
    },
    {
     "name": "stdout",
     "output_type": "stream",
     "text": [
      "NVA_21-003.IMMCORE.C2v1_19T002076-07-Z2-ImvessC2-4321.czi_Layer 5.csv\n"
     ]
    },
    {
     "name": "stderr",
     "output_type": "stream",
     "text": [
      "randomization: 100%|██████████| 10/10 [00:15<00:00,  1.52s/it]\n"
     ]
    },
    {
     "name": "stdout",
     "output_type": "stream",
     "text": [
      "NVA_21-003.IMMCORE.C1v1_19T020336-21-ImvessC1-4518.czi_Layer 5.csv\n"
     ]
    },
    {
     "name": "stderr",
     "output_type": "stream",
     "text": [
      "randomization: 100%|██████████| 10/10 [00:01<00:00,  5.50it/s]\n"
     ]
    },
    {
     "name": "stdout",
     "output_type": "stream",
     "text": [
      "NVA_21-003.IMMCORE.C1v1_16T019939-10-ImvessC1-4518.czi_Layer 5.csv\n"
     ]
    },
    {
     "name": "stderr",
     "output_type": "stream",
     "text": [
      "randomization: 100%|██████████| 10/10 [00:01<00:00,  6.32it/s]\n"
     ]
    },
    {
     "name": "stdout",
     "output_type": "stream",
     "text": [
      "NVA_21-003.IMMCORE.C1v1_15T046951-1-ImvessC1-4518.czi_Layer 5.csv\n"
     ]
    },
    {
     "name": "stderr",
     "output_type": "stream",
     "text": [
      "randomization: 100%|██████████| 10/10 [00:00<00:00, 40.14it/s]\n"
     ]
    },
    {
     "name": "stdout",
     "output_type": "stream",
     "text": [
      "NVA_21-003.IMMCORE.C1v1_16T037314-11-Z3-ImvessC1-4518.czi_Layer 5.csv\n"
     ]
    },
    {
     "name": "stderr",
     "output_type": "stream",
     "text": [
      "randomization: 100%|██████████| 10/10 [00:05<00:00,  1.94it/s]\n"
     ]
    },
    {
     "name": "stdout",
     "output_type": "stream",
     "text": [
      "NVA_21-003.IMMCORE.C1v1_17T021098-13-Z2-ImvessC1-4518.czi_Layer 5.csv\n"
     ]
    },
    {
     "name": "stderr",
     "output_type": "stream",
     "text": [
      "randomization: 100%|██████████| 10/10 [00:01<00:00,  8.30it/s]\n"
     ]
    },
    {
     "name": "stdout",
     "output_type": "stream",
     "text": [
      "NVA_21-003.IMMCORE.C2v1_18T004469-02-Z2-ImvessC2-4321.czi_Layer 5.csv\n"
     ]
    },
    {
     "name": "stderr",
     "output_type": "stream",
     "text": [
      "randomization: 100%|██████████| 10/10 [00:16<00:00,  1.65s/it]\n"
     ]
    },
    {
     "name": "stdout",
     "output_type": "stream",
     "text": [
      "NVA_21-003.IMMCORE.C1v1_18T002383-10-Z1-ImvessC1-4518.czi_Layer 5.csv\n"
     ]
    },
    {
     "name": "stderr",
     "output_type": "stream",
     "text": [
      "randomization: 100%|██████████| 10/10 [00:00<00:00, 60.08it/s]\n"
     ]
    },
    {
     "name": "stdout",
     "output_type": "stream",
     "text": [
      "NVA_21-003.IMMCORE.C1v1_17T033078-09-Z1-ImvessC1-4518.czi_Layer 5.csv\n"
     ]
    },
    {
     "name": "stderr",
     "output_type": "stream",
     "text": [
      "randomization: 100%|██████████| 10/10 [00:00<00:00, 11.32it/s]\n"
     ]
    },
    {
     "name": "stdout",
     "output_type": "stream",
     "text": [
      "NVA_21-003.IMMCORE.C2v1_19T041398-05-Z1-ImvessC2-4321.czi_Layer 5.csv\n"
     ]
    },
    {
     "name": "stderr",
     "output_type": "stream",
     "text": [
      "randomization: 100%|██████████| 10/10 [00:01<00:00,  5.46it/s]\n"
     ]
    },
    {
     "name": "stdout",
     "output_type": "stream",
     "text": [
      "NVA_21-003.IMMCORE.C1v1_17T020895-03-Z1-ImvessC1-4518.czi_Layer 5.csv\n"
     ]
    },
    {
     "name": "stderr",
     "output_type": "stream",
     "text": [
      "randomization: 100%|██████████| 10/10 [00:04<00:00,  2.20it/s]\n"
     ]
    },
    {
     "name": "stdout",
     "output_type": "stream",
     "text": [
      "NVA_21-003.IMMCORE.C1v1_18T004469-02-Z2-ImvessC1-4518.czi_Layer 5.csv\n"
     ]
    },
    {
     "name": "stderr",
     "output_type": "stream",
     "text": [
      "randomization: 100%|██████████| 10/10 [00:06<00:00,  1.57it/s]\n"
     ]
    },
    {
     "name": "stdout",
     "output_type": "stream",
     "text": [
      "NVA_21-003.IMMCORE.C1v1_19T002076-07-Z2-ImvessC1-4518.czi_Layer 5.csv\n"
     ]
    },
    {
     "name": "stderr",
     "output_type": "stream",
     "text": [
      "randomization: 100%|██████████| 10/10 [00:02<00:00,  3.33it/s]\n"
     ]
    },
    {
     "name": "stdout",
     "output_type": "stream",
     "text": [
      "NVA_21-003.IMMCORE.C2v1_17T010264-05-Z1-ImvessC2-4321.czi_Layer 5.csv\n"
     ]
    },
    {
     "name": "stderr",
     "output_type": "stream",
     "text": [
      "randomization: 100%|██████████| 10/10 [00:03<00:00,  3.29it/s]\n"
     ]
    },
    {
     "name": "stdout",
     "output_type": "stream",
     "text": [
      "NVA_21-003.IMMCORE.C2v1_17T010264-05-Z2-ImvessC2-4321.czi_Layer 5.csv\n"
     ]
    },
    {
     "name": "stderr",
     "output_type": "stream",
     "text": [
      "randomization: 100%|██████████| 10/10 [00:04<00:00,  2.44it/s]\n"
     ]
    },
    {
     "name": "stdout",
     "output_type": "stream",
     "text": [
      "NVA_21-003.IMMCORE.C1v1_15T010760-09-Z1-ImvessC1-4518.czi_Layer 5.csv\n"
     ]
    },
    {
     "name": "stderr",
     "output_type": "stream",
     "text": [
      "randomization: 100%|██████████| 10/10 [00:06<00:00,  1.52it/s]\n"
     ]
    },
    {
     "name": "stdout",
     "output_type": "stream",
     "text": [
      "NVA_21-003.IMMCORE.C2v1_19T006284-08-ImvessC2-4321.czi_Layer 5.csv\n"
     ]
    },
    {
     "name": "stderr",
     "output_type": "stream",
     "text": [
      "randomization: 100%|██████████| 10/10 [00:02<00:00,  4.67it/s]\n"
     ]
    },
    {
     "name": "stdout",
     "output_type": "stream",
     "text": [
      "NVA_21-003.IMMCORE.C2v1_18T005297-13-ImvessC2-4321.czi_Layer 5.csv\n"
     ]
    },
    {
     "name": "stderr",
     "output_type": "stream",
     "text": [
      "randomization: 100%|██████████| 10/10 [00:05<00:00,  1.93it/s]\n"
     ]
    },
    {
     "name": "stdout",
     "output_type": "stream",
     "text": [
      "NVA_21-003.IMMCORE.C1v1_17T054628-06-Z1-ImvessC1-4518.czi_Layer 5.csv\n"
     ]
    },
    {
     "name": "stderr",
     "output_type": "stream",
     "text": [
      "randomization: 100%|██████████| 10/10 [00:00<00:00, 223.45it/s]\n"
     ]
    },
    {
     "name": "stdout",
     "output_type": "stream",
     "text": [
      "NVA_21-003.IMMCORE.C1v1_15T034275-11-Z1-2-ImvessC1-4518.czi_Layer 5.csv\n"
     ]
    },
    {
     "name": "stderr",
     "output_type": "stream",
     "text": [
      "randomization: 100%|██████████| 10/10 [00:00<00:00, 69.07it/s]\n"
     ]
    },
    {
     "name": "stdout",
     "output_type": "stream",
     "text": [
      "NVA_21-003.IMMCORE.C1v1_19T041398-05-Z1-ImvessC1-4518.czi_Layer 5.csv\n"
     ]
    },
    {
     "name": "stderr",
     "output_type": "stream",
     "text": [
      "randomization: 100%|██████████| 10/10 [00:00<00:00, 98.78it/s]\n"
     ]
    },
    {
     "name": "stdout",
     "output_type": "stream",
     "text": [
      "NVA_21-003.IMMCORE.C1v1_17T054628-06-Z2-ImvessC1-4518.czi_Layer 5.csv\n"
     ]
    },
    {
     "name": "stderr",
     "output_type": "stream",
     "text": [
      "randomization: 100%|██████████| 10/10 [00:00<00:00, 22.05it/s]\n"
     ]
    },
    {
     "name": "stdout",
     "output_type": "stream",
     "text": [
      "NVA_21-003.IMMCORE.C1v1_17T004343-07-ImvessC1-4518.czi_Layer 5.csv\n"
     ]
    },
    {
     "name": "stderr",
     "output_type": "stream",
     "text": [
      "randomization: 100%|██████████| 10/10 [00:00<00:00, 10.61it/s]\n"
     ]
    },
    {
     "name": "stdout",
     "output_type": "stream",
     "text": [
      "NVA_21-003.IMMCORE.C1v1_18T005297-13-ImvessC1-4518.czi_Layer 5.csv\n"
     ]
    },
    {
     "name": "stderr",
     "output_type": "stream",
     "text": [
      "randomization: 100%|██████████| 10/10 [00:02<00:00,  4.84it/s]\n"
     ]
    },
    {
     "name": "stdout",
     "output_type": "stream",
     "text": [
      "NVA_21-003.IMMCORE.C1v1_18T011003-05-Z1-ImvessC1-4518.czi_Layer 5.csv\n"
     ]
    },
    {
     "name": "stderr",
     "output_type": "stream",
     "text": [
      "randomization: 100%|██████████| 10/10 [00:00<00:00, 18.64it/s]\n"
     ]
    },
    {
     "name": "stdout",
     "output_type": "stream",
     "text": [
      "NVA_21-003.IMMCORE.C2v1_17T054628-06-Z1-ImvessC2-4321.czi_Layer 5.csv\n"
     ]
    },
    {
     "name": "stderr",
     "output_type": "stream",
     "text": [
      "randomization: 100%|██████████| 10/10 [00:01<00:00,  8.61it/s]\n"
     ]
    },
    {
     "name": "stdout",
     "output_type": "stream",
     "text": [
      "NVA_21-003.IMMCORE.C2v1_19T002076-07-Z1-ImvessC2-4321.czi_Layer 5.csv\n"
     ]
    },
    {
     "name": "stderr",
     "output_type": "stream",
     "text": [
      "randomization: 100%|██████████| 10/10 [00:13<00:00,  1.34s/it]\n"
     ]
    },
    {
     "name": "stdout",
     "output_type": "stream",
     "text": [
      "NVA_21-003.IMMCORE.C2v1_15T027584-13-2-ImvessC2-4321.czi_Layer 5.csv\n"
     ]
    },
    {
     "name": "stderr",
     "output_type": "stream",
     "text": [
      "randomization: 100%|██████████| 10/10 [00:02<00:00,  3.52it/s]\n"
     ]
    },
    {
     "name": "stdout",
     "output_type": "stream",
     "text": [
      "NVA_21-003.IMMCORE.C1v1_16T037314-11-Z1-ImvessC1-4518.czi_Layer 5.csv\n"
     ]
    },
    {
     "name": "stderr",
     "output_type": "stream",
     "text": [
      "randomization: 100%|██████████| 10/10 [00:00<00:00, 10.83it/s]\n"
     ]
    },
    {
     "name": "stdout",
     "output_type": "stream",
     "text": [
      "NVA_21-003.IMMCORE.C1v1_17T048267-11-Z2-ImvessC1-4518.czi_Layer 5.csv\n"
     ]
    },
    {
     "name": "stderr",
     "output_type": "stream",
     "text": [
      "randomization: 100%|██████████| 10/10 [00:00<00:00, 15.56it/s]\n"
     ]
    },
    {
     "name": "stdout",
     "output_type": "stream",
     "text": [
      "NVA_21-003.IMMCORE.C1v1_17T006383-09-Z1-ImvessC1-4518.czi_Layer 5.csv\n"
     ]
    },
    {
     "name": "stderr",
     "output_type": "stream",
     "text": [
      "randomization: 100%|██████████| 10/10 [00:00<00:00, 13.05it/s]\n"
     ]
    },
    {
     "name": "stdout",
     "output_type": "stream",
     "text": [
      "NVA_21-003.IMMCORE.C1v1_15T008187-08-ImvessC1-4518.czi_Layer 5.csv\n"
     ]
    },
    {
     "name": "stderr",
     "output_type": "stream",
     "text": [
      "randomization: 100%|██████████| 10/10 [00:00<00:00, 31.30it/s]\n"
     ]
    },
    {
     "name": "stdout",
     "output_type": "stream",
     "text": [
      "NVA_21-003.IMMCORE.C2v1_18T002383-10-Z2-ImvessC2-4321.czi_Layer 5.csv\n"
     ]
    },
    {
     "name": "stderr",
     "output_type": "stream",
     "text": [
      "randomization: 100%|██████████| 10/10 [00:00<00:00, 15.16it/s]\n"
     ]
    },
    {
     "name": "stdout",
     "output_type": "stream",
     "text": [
      "NVA_21-003.IMMCORE.C1v1_18T020627-04-Z1-ImvessC1-4518.czi_Layer 5.csv\n"
     ]
    },
    {
     "name": "stderr",
     "output_type": "stream",
     "text": [
      "randomization: 100%|██████████| 10/10 [00:00<00:00, 29.32it/s]\n"
     ]
    },
    {
     "name": "stdout",
     "output_type": "stream",
     "text": [
      "NVA_21-003.IMMCORE.C2v1_17T033078-09-Z1-ImvessC2-4321.czi_Layer 5.csv\n"
     ]
    },
    {
     "name": "stderr",
     "output_type": "stream",
     "text": [
      "randomization: 100%|██████████| 10/10 [00:04<00:00,  2.03it/s]\n"
     ]
    },
    {
     "name": "stdout",
     "output_type": "stream",
     "text": [
      "NVA_21-003.IMMCORE.C2v1_18T044196-05-Z1-ImvessC2-4321.czi_Layer 5.csv\n"
     ]
    },
    {
     "name": "stderr",
     "output_type": "stream",
     "text": [
      "randomization: 100%|██████████| 10/10 [00:08<00:00,  1.15it/s]\n"
     ]
    },
    {
     "name": "stdout",
     "output_type": "stream",
     "text": [
      "NVA_21-003.IMMCORE.C2v1_17T003826-06-ImvessC2-4321.czi_Layer 5.csv\n"
     ]
    },
    {
     "name": "stderr",
     "output_type": "stream",
     "text": [
      "randomization: 100%|██████████| 10/10 [00:02<00:00,  4.94it/s]\n"
     ]
    },
    {
     "name": "stdout",
     "output_type": "stream",
     "text": [
      "NVA_21-003.IMMCORE.C1v1_17T020615-09-2-ImvessC1-4518.czi_Layer 5.csv\n"
     ]
    },
    {
     "name": "stderr",
     "output_type": "stream",
     "text": [
      "randomization: 100%|██████████| 10/10 [00:02<00:00,  4.31it/s]\n"
     ]
    },
    {
     "name": "stdout",
     "output_type": "stream",
     "text": [
      "NVA_21-003.IMMCORE.C2v1_17T054628-06-Z2-ImvessC2-4321.czi_Layer 5.csv\n"
     ]
    },
    {
     "name": "stderr",
     "output_type": "stream",
     "text": [
      "randomization: 100%|██████████| 10/10 [00:01<00:00,  5.93it/s]\n"
     ]
    },
    {
     "name": "stdout",
     "output_type": "stream",
     "text": [
      "NVA_21-003.IMMCORE.C1v1_16T008211-9-ImvessC1-4518.czi_Layer 5.csv\n"
     ]
    },
    {
     "name": "stderr",
     "output_type": "stream",
     "text": [
      "randomization: 100%|██████████| 10/10 [00:00<00:00, 20.33it/s]\n"
     ]
    },
    {
     "name": "stdout",
     "output_type": "stream",
     "text": [
      "NVA_21-003.IMMCORE.C2v1_17T021098-13-Z2-ImvessC2-4321.czi_Layer 5.csv\n"
     ]
    },
    {
     "name": "stderr",
     "output_type": "stream",
     "text": [
      "randomization: 100%|██████████| 10/10 [00:05<00:00,  1.84it/s]\n"
     ]
    },
    {
     "name": "stdout",
     "output_type": "stream",
     "text": [
      "NVA_21-003.IMMCORE.C2v1_15T010441-02-ImvessC2-4321.czi_Layer 5.csv\n"
     ]
    },
    {
     "name": "stderr",
     "output_type": "stream",
     "text": [
      "randomization: 100%|██████████| 10/10 [00:00<00:00, 18.81it/s]\n"
     ]
    },
    {
     "name": "stdout",
     "output_type": "stream",
     "text": [
      "NVA_21-003.IMMCORE.C1v1_18T054305-08-ImvessC1-4518.czi_Layer 5.csv\n"
     ]
    },
    {
     "name": "stderr",
     "output_type": "stream",
     "text": [
      "randomization: 100%|██████████| 10/10 [00:01<00:00,  7.09it/s]\n"
     ]
    },
    {
     "name": "stdout",
     "output_type": "stream",
     "text": [
      "NVA_21-003.IMMCORE.C1v1_16T058343-12-ImvessC1-4518.czi_Layer 5.csv\n"
     ]
    },
    {
     "name": "stderr",
     "output_type": "stream",
     "text": [
      "randomization: 100%|██████████| 10/10 [00:00<00:00, 10.14it/s]\n"
     ]
    },
    {
     "name": "stdout",
     "output_type": "stream",
     "text": [
      "NVA_21-003.IMMCORE.C2v1_15T019351-08-ImvessC2-4321.czi_Layer 5.csv\n"
     ]
    },
    {
     "name": "stderr",
     "output_type": "stream",
     "text": [
      "randomization: 100%|██████████| 10/10 [00:00<00:00, 14.55it/s]\n"
     ]
    },
    {
     "name": "stdout",
     "output_type": "stream",
     "text": [
      "NVA_21-003.IMMCORE.C2v1_16T042639-11-Z2-ImvessC2-4321.czi_Layer 5.csv\n"
     ]
    },
    {
     "name": "stderr",
     "output_type": "stream",
     "text": [
      "randomization: 100%|██████████| 10/10 [00:01<00:00,  5.05it/s]\n"
     ]
    },
    {
     "name": "stdout",
     "output_type": "stream",
     "text": [
      "NVA_21-003.IMMCORE.C2v1_18T040686-03-ImvessC2-4321.czi_Layer 5.csv\n"
     ]
    },
    {
     "name": "stderr",
     "output_type": "stream",
     "text": [
      "randomization: 100%|██████████| 10/10 [00:11<00:00,  1.20s/it]\n"
     ]
    },
    {
     "name": "stdout",
     "output_type": "stream",
     "text": [
      "NVA_21-003.IMMCORE.C1v1_15T019351-08-ImvessC1-4518.czi_Layer 5.csv\n"
     ]
    },
    {
     "name": "stderr",
     "output_type": "stream",
     "text": [
      "randomization: 100%|██████████| 10/10 [00:00<00:00, 21.99it/s]\n"
     ]
    },
    {
     "name": "stdout",
     "output_type": "stream",
     "text": [
      "NVA_21-003.IMMCORE.C1v1_17T003826-06-ImvessC1-4518.czi_Layer 5.csv\n"
     ]
    },
    {
     "name": "stderr",
     "output_type": "stream",
     "text": [
      "randomization: 100%|██████████| 10/10 [00:01<00:00,  7.76it/s]\n"
     ]
    },
    {
     "name": "stdout",
     "output_type": "stream",
     "text": [
      "NVA_21-003.IMMCORE.C1v1_18T047929-09-Z3-ImvessC1-4518.czi_Layer 5.csv\n"
     ]
    },
    {
     "name": "stderr",
     "output_type": "stream",
     "text": [
      "randomization: 100%|██████████| 10/10 [00:01<00:00,  8.26it/s]\n"
     ]
    },
    {
     "name": "stdout",
     "output_type": "stream",
     "text": [
      "NVA_21-003.IMMCORE.C2v1_16T034668-33-ImvessC2-4321.czi_Layer 5.csv\n"
     ]
    },
    {
     "name": "stderr",
     "output_type": "stream",
     "text": [
      "randomization: 100%|██████████| 10/10 [00:03<00:00,  3.03it/s]\n"
     ]
    },
    {
     "name": "stdout",
     "output_type": "stream",
     "text": [
      "NVA_21-003.IMMCORE.C1v1_17T048267-11-Z1-ImvessC1-4518.czi_Layer 5.csv\n"
     ]
    },
    {
     "name": "stderr",
     "output_type": "stream",
     "text": [
      "randomization: 100%|██████████| 10/10 [00:00<00:00, 41.04it/s]\n"
     ]
    },
    {
     "name": "stdout",
     "output_type": "stream",
     "text": [
      "NVA_21-003.IMMCORE.C2v1_15T011146-16-ImvessC2-4321.czi_Layer 5.csv\n"
     ]
    },
    {
     "name": "stderr",
     "output_type": "stream",
     "text": [
      "randomization: 100%|██████████| 10/10 [00:00<00:00, 12.52it/s]\n"
     ]
    },
    {
     "name": "stdout",
     "output_type": "stream",
     "text": [
      "NVA_21-003.IMMCORE.C1v1_16T013087-8-ImvessC1-4518.czi_Layer 5.csv\n"
     ]
    },
    {
     "name": "stderr",
     "output_type": "stream",
     "text": [
      "randomization: 100%|██████████| 10/10 [00:01<00:00,  6.65it/s]\n"
     ]
    },
    {
     "name": "stdout",
     "output_type": "stream",
     "text": [
      "NVA_21-003.IMMCORE.C1v1_17T021098-13-Z1-ImvessC1-4518.czi_Layer 5.csv\n"
     ]
    },
    {
     "name": "stderr",
     "output_type": "stream",
     "text": [
      "randomization: 100%|██████████| 10/10 [00:01<00:00,  7.29it/s]\n"
     ]
    },
    {
     "name": "stdout",
     "output_type": "stream",
     "text": [
      "NVA_21-003.IMMCORE.C2v1_17T048267-11-Z1-ImvessC2-4321.czi_Layer 5.csv\n"
     ]
    },
    {
     "name": "stderr",
     "output_type": "stream",
     "text": [
      "randomization: 100%|██████████| 10/10 [00:01<00:00,  7.77it/s]\n"
     ]
    },
    {
     "name": "stdout",
     "output_type": "stream",
     "text": [
      "NVA_21-003.IMMCORE.C1v1_15T011146-16-2-ImvessC1-4518.czi_Layer 5.csv\n"
     ]
    },
    {
     "name": "stderr",
     "output_type": "stream",
     "text": [
      "randomization: 100%|██████████| 10/10 [00:00<00:00, 20.92it/s]\n"
     ]
    },
    {
     "name": "stdout",
     "output_type": "stream",
     "text": [
      "NVA_21-003.IMMCORE.C2v1_17T018454-05-Z2-ImvessC2-4321.czi_Layer 5.csv\n"
     ]
    },
    {
     "name": "stderr",
     "output_type": "stream",
     "text": [
      "randomization: 100%|██████████| 10/10 [00:01<00:00,  8.68it/s]\n"
     ]
    },
    {
     "name": "stdout",
     "output_type": "stream",
     "text": [
      "NVA_21-003.IMMCORE.C2v1_19T041398-05-Z2-2-ImvessC2-4321.czi_Layer 5.csv\n"
     ]
    },
    {
     "name": "stderr",
     "output_type": "stream",
     "text": [
      "randomization: 100%|██████████| 10/10 [00:07<00:00,  1.33it/s]\n"
     ]
    },
    {
     "name": "stdout",
     "output_type": "stream",
     "text": [
      "NVA_21-003.IMMCORE.C1v1_17T010264-05-Z2-ImvessC1-4518.czi_Layer 5.csv\n"
     ]
    },
    {
     "name": "stderr",
     "output_type": "stream",
     "text": [
      "randomization: 100%|██████████| 10/10 [00:01<00:00,  6.20it/s]\n"
     ]
    },
    {
     "name": "stdout",
     "output_type": "stream",
     "text": [
      "NVA_21-003.IMMCORE.C1v1_19T006284-08-ImvessC1-4518.czi_Layer 5.csv\n"
     ]
    },
    {
     "name": "stderr",
     "output_type": "stream",
     "text": [
      "randomization: 100%|██████████| 10/10 [00:00<00:00, 15.23it/s]\n"
     ]
    },
    {
     "name": "stdout",
     "output_type": "stream",
     "text": [
      "NVA_21-003.IMMCORE.C2v1_15T034275-11-Z1-2-ImvessC2-4321.czi_Layer 5.csv\n"
     ]
    },
    {
     "name": "stderr",
     "output_type": "stream",
     "text": [
      "randomization: 100%|██████████| 10/10 [00:00<00:00, 13.88it/s]\n"
     ]
    },
    {
     "name": "stdout",
     "output_type": "stream",
     "text": [
      "NVA_21-003.IMMCORE.C2v1_18T009975-12-ImvessC2-4321.czi_Layer 5.csv\n"
     ]
    },
    {
     "name": "stderr",
     "output_type": "stream",
     "text": [
      "randomization: 100%|██████████| 10/10 [00:25<00:00,  2.55s/it]\n"
     ]
    },
    {
     "name": "stdout",
     "output_type": "stream",
     "text": [
      "NVA_21-003.IMMCORE.C1v1_17T006383-09-Z2-ImvessC1-4518.czi_Layer 5.csv\n"
     ]
    },
    {
     "name": "stderr",
     "output_type": "stream",
     "text": [
      "randomization: 100%|██████████| 10/10 [00:00<00:00, 19.93it/s]\n"
     ]
    },
    {
     "name": "stdout",
     "output_type": "stream",
     "text": [
      "NVA_21-003.IMMCORE.C1v1_17T018454-05-Z1-ImvessC1-4518.czi_Layer 5.csv\n"
     ]
    },
    {
     "name": "stderr",
     "output_type": "stream",
     "text": [
      "randomization: 100%|██████████| 10/10 [00:00<00:00, 36.43it/s]\n"
     ]
    },
    {
     "name": "stdout",
     "output_type": "stream",
     "text": [
      "NVA_21-003.IMMCORE.C2v1_18T047929-09-Z1-ImvessC2-4321.czi_Layer 5.csv\n"
     ]
    },
    {
     "name": "stderr",
     "output_type": "stream",
     "text": [
      "randomization: 100%|██████████| 10/10 [00:02<00:00,  3.96it/s]\n"
     ]
    },
    {
     "name": "stdout",
     "output_type": "stream",
     "text": [
      "NVA_21-003.IMMCORE.C2v1_17T048267-11-Z2-ImvessC2-4321.czi_Layer 5.csv\n"
     ]
    },
    {
     "name": "stderr",
     "output_type": "stream",
     "text": [
      "randomization: 100%|██████████| 10/10 [00:02<00:00,  5.00it/s]\n"
     ]
    },
    {
     "name": "stdout",
     "output_type": "stream",
     "text": [
      "NVA_21-003.IMMCORE.C1v1_17T018454-05-Z3-ImvessC1-4518.czi_Layer 5.csv\n"
     ]
    },
    {
     "name": "stderr",
     "output_type": "stream",
     "text": [
      "randomization: 100%|██████████| 10/10 [00:00<00:00, 76.58it/s]\n"
     ]
    },
    {
     "name": "stdout",
     "output_type": "stream",
     "text": [
      "NVA_21-003.IMMCORE.C1v1_19T031111-09-ImvessC1-4518.czi_Layer 5.csv\n"
     ]
    },
    {
     "name": "stderr",
     "output_type": "stream",
     "text": [
      "randomization: 100%|██████████| 10/10 [00:00<00:00, 21.34it/s]\n"
     ]
    },
    {
     "name": "stdout",
     "output_type": "stream",
     "text": [
      "NVA_21-003.IMMCORE.C1v1_18T004469-02-Z1-ImvessC1-4518.czi_Layer 5.csv\n"
     ]
    },
    {
     "name": "stderr",
     "output_type": "stream",
     "text": [
      "randomization: 100%|██████████| 10/10 [00:06<00:00,  1.66it/s]\n"
     ]
    },
    {
     "name": "stdout",
     "output_type": "stream",
     "text": [
      "NVA_21-003.IMMCORE.C1v1_18T044196-05-Z2-ImvessC1-4518.czi_Layer 5.csv\n"
     ]
    },
    {
     "name": "stderr",
     "output_type": "stream",
     "text": [
      "randomization: 100%|██████████| 10/10 [00:04<00:00,  2.45it/s]\n"
     ]
    },
    {
     "name": "stdout",
     "output_type": "stream",
     "text": [
      "NVA_21-003.IMMCORE.C1v1_18T047929-09-Z1-ImvessC1-4518.czi_Layer 5.csv\n"
     ]
    },
    {
     "name": "stderr",
     "output_type": "stream",
     "text": [
      "randomization: 100%|██████████| 10/10 [00:01<00:00,  8.26it/s]\n"
     ]
    },
    {
     "name": "stdout",
     "output_type": "stream",
     "text": [
      "NVA_21-003.IMMCORE.C2v1_17T018454-05-Z1-ImvessC2-4321.czi_Layer 5.csv\n"
     ]
    },
    {
     "name": "stderr",
     "output_type": "stream",
     "text": [
      "randomization: 100%|██████████| 10/10 [00:00<00:00, 13.93it/s]\n"
     ]
    },
    {
     "name": "stdout",
     "output_type": "stream",
     "text": [
      "NVA_21-003.IMMCORE.C2v1_17T021098-13-Z1-ImvessC2-4321.czi_Layer 5.csv\n"
     ]
    },
    {
     "name": "stderr",
     "output_type": "stream",
     "text": [
      "randomization: 100%|██████████| 10/10 [00:04<00:00,  2.13it/s]\n"
     ]
    },
    {
     "name": "stdout",
     "output_type": "stream",
     "text": [
      "NVA_21-003.IMMCORE.C1v1_17T010264-05-Z1-ImvessC1-4518.czi_Layer 5.csv\n"
     ]
    },
    {
     "name": "stderr",
     "output_type": "stream",
     "text": [
      "randomization: 100%|██████████| 10/10 [00:00<00:00, 11.86it/s]\n"
     ]
    },
    {
     "name": "stdout",
     "output_type": "stream",
     "text": [
      "NVA_21-003.IMMCORE.C1v1_15T010441-02-ImvessC1-4518.czi_Layer 5.csv\n"
     ]
    },
    {
     "name": "stderr",
     "output_type": "stream",
     "text": [
      "randomization: 100%|██████████| 10/10 [00:00<00:00, 24.87it/s]\n"
     ]
    },
    {
     "name": "stdout",
     "output_type": "stream",
     "text": [
      "NVA_21-003.IMMCORE.C2v1_18T002383-10-Z1-ImvessC2-4321.czi_Layer 5.csv\n"
     ]
    },
    {
     "name": "stderr",
     "output_type": "stream",
     "text": [
      "randomization: 100%|██████████| 10/10 [00:00<00:00, 11.96it/s]\n"
     ]
    },
    {
     "name": "stdout",
     "output_type": "stream",
     "text": [
      "NVA_21-003.IMMCORE.C2v1_18T020627-04-Z2-ImvessC2-4321.czi_Layer 5.csv\n"
     ]
    },
    {
     "name": "stderr",
     "output_type": "stream",
     "text": [
      "randomization: 100%|██████████| 10/10 [00:05<00:00,  1.68it/s]\n"
     ]
    },
    {
     "name": "stdout",
     "output_type": "stream",
     "text": [
      "NVA_21-003.IMMCORE.C2v1_18T047929-09-Z3-ImvessC2-4321.czi_Layer 5.csv\n"
     ]
    },
    {
     "name": "stderr",
     "output_type": "stream",
     "text": [
      "randomization: 100%|██████████| 10/10 [00:02<00:00,  4.93it/s]\n"
     ]
    },
    {
     "name": "stdout",
     "output_type": "stream",
     "text": [
      "NVA_21-003.IMMCORE.C2v1_18T047929-09-Z2-ImvessC2-4321.czi_Layer 5.csv\n"
     ]
    },
    {
     "name": "stderr",
     "output_type": "stream",
     "text": [
      "randomization: 100%|██████████| 10/10 [00:03<00:00,  2.74it/s]\n"
     ]
    },
    {
     "name": "stdout",
     "output_type": "stream",
     "text": [
      "NVA_21-003.IMMCORE.C2v1_19T031111-09-ImvessC2-4321.czi_Layer 5.csv\n"
     ]
    },
    {
     "name": "stderr",
     "output_type": "stream",
     "text": [
      "randomization: 100%|██████████| 10/10 [00:00<00:00, 16.29it/s]\n"
     ]
    },
    {
     "name": "stdout",
     "output_type": "stream",
     "text": [
      "NVA_21-003.IMMCORE.C1v1_18T002383-10-Z2-ImvessC1-4518.czi_Layer 5.csv\n"
     ]
    },
    {
     "name": "stderr",
     "output_type": "stream",
     "text": [
      "randomization: 100%|██████████| 10/10 [00:00<00:00, 41.46it/s]\n"
     ]
    },
    {
     "name": "stdout",
     "output_type": "stream",
     "text": [
      "NVA_21-003.IMMCORE.C1v1_18T009975-12-ImvessC1-4518.czi_Layer 5.csv\n"
     ]
    },
    {
     "name": "stderr",
     "output_type": "stream",
     "text": [
      "randomization: 100%|██████████| 10/10 [00:00<00:00, 13.68it/s]\n"
     ]
    },
    {
     "name": "stdout",
     "output_type": "stream",
     "text": [
      "NVA_21-003.IMMCORE.C1v1_18T044196-05-Z1-ImvessC1-4518.czi_Layer 5.csv\n"
     ]
    },
    {
     "name": "stderr",
     "output_type": "stream",
     "text": [
      "randomization: 100%|██████████| 10/10 [00:04<00:00,  2.48it/s]\n"
     ]
    },
    {
     "name": "stdout",
     "output_type": "stream",
     "text": [
      "NVA_21-003.IMMCORE.C2v1_18T044196-05-Z2-ImvessC2-4321.czi_Layer 5.csv\n"
     ]
    },
    {
     "name": "stderr",
     "output_type": "stream",
     "text": [
      "randomization: 100%|██████████| 10/10 [00:08<00:00,  1.11it/s]\n"
     ]
    },
    {
     "name": "stdout",
     "output_type": "stream",
     "text": [
      "NVA_21-003.IMMCORE.C1v1_17T018454-05-Z2-ImvessC1-4518.czi_Layer 5.csv\n"
     ]
    },
    {
     "name": "stderr",
     "output_type": "stream",
     "text": [
      "randomization: 100%|██████████| 10/10 [00:00<00:00, 210.70it/s]\n"
     ]
    },
    {
     "name": "stdout",
     "output_type": "stream",
     "text": [
      "NVA_21-003.IMMCORE.C1v1_19T002076-07-Z1-ImvessC1-4518.czi_Layer 5.csv\n"
     ]
    },
    {
     "name": "stderr",
     "output_type": "stream",
     "text": [
      "randomization: 100%|██████████| 10/10 [00:05<00:00,  1.99it/s]\n"
     ]
    },
    {
     "name": "stdout",
     "output_type": "stream",
     "text": [
      "NVA_21-003.IMMCORE.C1v1_18T047929-09-Z2-ImvessC1-4518.czi_Layer 5.csv\n"
     ]
    },
    {
     "name": "stderr",
     "output_type": "stream",
     "text": [
      "randomization: 100%|██████████| 10/10 [00:01<00:00,  8.59it/s]\n"
     ]
    },
    {
     "name": "stdout",
     "output_type": "stream",
     "text": [
      "NVA_21-003.IMMCORE.C1v1_18T020627-04-Z2-ImvessC1-4518.czi_Layer 5.csv\n"
     ]
    },
    {
     "name": "stderr",
     "output_type": "stream",
     "text": [
      "randomization: 100%|██████████| 10/10 [00:01<00:00,  6.09it/s]\n"
     ]
    },
    {
     "name": "stdout",
     "output_type": "stream",
     "text": [
      "NVA_21-003.IMMCORE.C2v1_18T011003-05-Z1-ImvessC2-4321.czi_Layer 5.csv\n"
     ]
    },
    {
     "name": "stderr",
     "output_type": "stream",
     "text": [
      "randomization: 100%|██████████| 10/10 [00:00<00:00, 13.38it/s]\n"
     ]
    },
    {
     "name": "stdout",
     "output_type": "stream",
     "text": [
      "NVA_21-003.IMMCORE.C2v1_16T019939-10-ImvessC2-4321.czi_Layer 5.csv\n"
     ]
    },
    {
     "name": "stderr",
     "output_type": "stream",
     "text": [
      "randomization: 100%|██████████| 10/10 [00:07<00:00,  1.27it/s]\n"
     ]
    }
   ],
   "source": [
    "\n",
    "for layer, files in LayerFiles.items():\n",
    "    for coords_file in files:\n",
    "        print(coords_file)\n",
    "        nodes = pd.read_csv( data_path + coords_file, header = None)\n",
    "        nodes.columns = ['id','x','y','class','file']\n",
    "        coords = nodes.loc[:,['x','y']].values\n",
    "        pairs = ty.build_delaunay(coords)\n",
    "\n",
    "\n",
    "\n",
    "        #make colors\n",
    "        nodes['color'] = '#7f8c8d'\n",
    "        nodes.loc[nodes['class'] == 'C1' , 'color' ] = '#e74c3c' #RED\n",
    "        nodes.loc[nodes['class'] == 'C2' , 'color' ] = '#16a085' #GREEN\n",
    "        nodes.loc[nodes['class'] == 'Other' , 'color' ] = '#f1c40f' #YELLOW\n",
    "        col_nodes = nodes['color']\n",
    "        coords = nodes.loc[:,['x','y']].values\n",
    "\n",
    "\n",
    "\n",
    "        attributes = nodes['class']\n",
    "        mosna_nodes = nodes\n",
    "        edges = pd.DataFrame(data=pairs, columns=['source', 'target'])\n",
    "        mosna_nodes = pd.DataFrame(data=coords, columns=['x', 'y'])\n",
    "        mosna_nodes['Group'] = attributes.values\n",
    "        mosna_nodes = mosna_nodes.join(pd.get_dummies(mosna_nodes['Group']))\n",
    "        att = mosna_nodes['Group']\n",
    "        attributes = mosna_nodes['Group'].unique()\n",
    "        mosna_nodes.head()\n",
    "        mosna_nodes.to_csv(outputPath + 'mosna_nodes'+layer+coords_file)\n",
    "\n",
    "\n",
    "        attributes = nodes['class']\n",
    "        edges = pd.DataFrame(data=pairs, columns=['source', 'target'])\n",
    "        nodes = pd.DataFrame(data=coords, columns=['x', 'y'])\n",
    "        nodes['Group'] = attributes.values\n",
    "        nodes = nodes.join(pd.get_dummies(nodes['Group']))\n",
    "        att = nodes['Group']\n",
    "        attributes = nodes['Group'].unique()\n",
    "        nodes.head()\n",
    "\n",
    "\n",
    "        pd.DataFrame(attributes).to_csv(outputPath + 'attributes'+layer+coords_file)\n",
    "        nodes.to_csv(outputPath + 'nodes'+layer+coords_file)\n",
    "        pd.DataFrame(pairs).to_csv(outputPath + 'pairs'+layer+coords_file)\n",
    "\n",
    "        # Network statistics\n",
    "        mixmat = mixing_matrix(nodes, edges, attributes)\n",
    "        assort = attribute_ac(mixmat)\n",
    "        # ------ Randomization ------\n",
    "        mixmat_rand, assort_rand = randomized_mixmat(nodes, edges, attributes, n_shuffle=10, parallel=False)\n",
    "        mixmat_mean, mixmat_std, mixmat_zscore = zscore(mixmat, mixmat_rand, return_stats=True)\n",
    "        assort_mean, assort_std, assort_zscore = zscore(assort, assort_rand, return_stats=True)\n",
    "        mixmat = mixmat_to_df(mixmat, attributes)\n",
    "        mixmat_zscore = mixmat_to_df(mixmat_zscore, attributes)\n",
    "        mixmat.to_csv(outputPath + 'mixmat'+layer+coords_file)\n",
    "        mixmat_zscore.to_csv(outputPath + 'mixmat_zscore'+layer+coords_file)\n"
   ]
  }
 ],
 "metadata": {
  "interpreter": {
   "hash": "3227f808e6916200b147d69ba1fbe281af8123447da49fe43da36a1da57fa14f"
  },
  "kernelspec": {
   "display_name": "spatial-networks",
   "language": "python",
   "name": "spatial-networks"
  },
  "language_info": {
   "codemirror_mode": {
    "name": "ipython",
    "version": 3
   },
   "file_extension": ".py",
   "mimetype": "text/x-python",
   "name": "python",
   "nbconvert_exporter": "python",
   "pygments_lexer": "ipython3",
   "version": "3.8.10"
  },
  "orig_nbformat": 4
 },
 "nbformat": 4,
 "nbformat_minor": 2
}
